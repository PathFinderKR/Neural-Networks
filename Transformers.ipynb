{
 "cells": [
  {
   "metadata": {},
   "cell_type": "markdown",
   "source": "# Importing Libraries",
   "id": "31c5bedf65442dd4"
  },
  {
   "metadata": {
    "ExecuteTime": {
     "end_time": "2024-10-08T16:43:27.649369Z",
     "start_time": "2024-10-08T16:43:26.667358Z"
    }
   },
   "cell_type": "code",
   "source": [
    "import os\n",
    "import random\n",
    "import numpy as np\n",
    "from tqdm import tqdm\n",
    "import matplotlib.pyplot as plt\n",
    "from dataclasses import dataclass\n",
    "\n",
    "# pytorch\n",
    "import torch\n",
    "import torch.nn as nn\n",
    "import torch.optim as optim\n",
    "from torch.nn import functional as F\n",
    "from torch.utils.data import Dataset, DataLoader"
   ],
   "id": "18c5d42ca4b3573a",
   "outputs": [],
   "execution_count": 1
  },
  {
   "metadata": {},
   "cell_type": "markdown",
   "source": "# Hyperparameters",
   "id": "a33f8814c43a02b3"
  },
  {
   "metadata": {
    "ExecuteTime": {
     "end_time": "2024-10-08T16:43:27.654505Z",
     "start_time": "2024-10-08T16:43:27.650903Z"
    }
   },
   "cell_type": "code",
   "source": [
    "@dataclass\n",
    "class CONFIG:\n",
    "    debug: bool = False\n",
    "    \n",
    "    # Model\n",
    "    vocab_size: int = 65\n",
    "    ## Bigram\n",
    "    d_embed_bigram: int = 64\n",
    "    ## Transformer\n",
    "    block_size: int = 8\n",
    "    n_layers: int = 2\n",
    "    n_heads: int = 2\n",
    "    d_embed: int = 128\n",
    "    d_head: int = d_embed // n_heads\n",
    "    d_ff: int = d_embed * 4\n",
    "    dropout: float = 0.2\n",
    "\n",
    "    flash_attention: bool = False\n",
    "    \n",
    "    # Dataset\n",
    "    dtype: torch.dtype = torch.long\n",
    "    validation_size: float = 0.2\n",
    "    \n",
    "    # Device\n",
    "    device: torch.device = None\n",
    "    \n",
    "    # Training\n",
    "    epochs: int = 5\n",
    "    batch_size: int = 8192\n",
    "    learning_rate: float = 2e-5\n",
    "    \n",
    "    # Generation\n",
    "    max_len: int = 1024\n",
    "    \n",
    "    # Seed\n",
    "    seed: int = 101"
   ],
   "id": "2a19f3ab5bc4989c",
   "outputs": [],
   "execution_count": 2
  },
  {
   "metadata": {},
   "cell_type": "markdown",
   "source": "# Reproducibility",
   "id": "bb8a94bbb1490853"
  },
  {
   "metadata": {
    "ExecuteTime": {
     "end_time": "2024-10-08T16:43:27.670340Z",
     "start_time": "2024-10-08T16:43:27.655446Z"
    }
   },
   "cell_type": "code",
   "source": [
    "def set_seed(seed):\n",
    "    random.seed(seed)\n",
    "    os.environ['PYTHONHASHSEED'] = str(seed)\n",
    "    np.random.seed(seed)\n",
    "    torch.manual_seed(seed)\n",
    "    torch.cuda.manual_seed(seed)\n",
    "    torch.backends.cudnn.deterministic = True\n",
    "    torch.backends.cudnn.benchmark = True\n",
    "    print(f\"Seed: {seed}\")\n",
    "    \n",
    "set_seed(CONFIG.seed)"
   ],
   "id": "2e3b80e991754385",
   "outputs": [
    {
     "name": "stdout",
     "output_type": "stream",
     "text": [
      "Seed: 101\n"
     ]
    }
   ],
   "execution_count": 3
  },
  {
   "metadata": {},
   "cell_type": "markdown",
   "source": "# Device",
   "id": "5d709d829d6405fb"
  },
  {
   "metadata": {
    "ExecuteTime": {
     "end_time": "2024-10-08T16:43:27.967766Z",
     "start_time": "2024-10-08T16:43:27.671281Z"
    }
   },
   "cell_type": "code",
   "source": [
    "def configure_device():\n",
    "    if torch.cuda.is_available():\n",
    "        device = torch.device(\"cuda\")\n",
    "        num_gpu = torch.cuda.device_count()\n",
    "        print(\"> Running on GPU\", end=' | ')\n",
    "        print(\"Num of GPUs: \", num_gpu)\n",
    "    else:\n",
    "        device = torch.device(\"cpu\")\n",
    "        print(\"> Running on CPU\")\n",
    "    return device\n",
    "\n",
    "CONFIG.device = configure_device()"
   ],
   "id": "684818f9e79dea2c",
   "outputs": [
    {
     "name": "stdout",
     "output_type": "stream",
     "text": [
      "> Running on GPU | Num of GPUs:  1\n"
     ]
    }
   ],
   "execution_count": 4
  },
  {
   "metadata": {},
   "cell_type": "markdown",
   "source": "# Debug",
   "id": "dfb6f8895568da5d"
  },
  {
   "metadata": {
    "ExecuteTime": {
     "end_time": "2024-10-08T16:43:27.971387Z",
     "start_time": "2024-10-08T16:43:27.969129Z"
    }
   },
   "cell_type": "code",
   "source": [
    "if CONFIG.debug:\n",
    "    CONFIG.epochs = 1"
   ],
   "id": "f03a3c0745d3bb19",
   "outputs": [],
   "execution_count": 5
  },
  {
   "metadata": {},
   "cell_type": "markdown",
   "source": "# Dataset",
   "id": "d21d464e0d47b67f"
  },
  {
   "metadata": {
    "ExecuteTime": {
     "end_time": "2024-10-08T16:43:27.978676Z",
     "start_time": "2024-10-08T16:43:27.972253Z"
    }
   },
   "cell_type": "code",
   "source": [
    "# dataset path\n",
    "dataset_path = 'data/'\n",
    "# shakespeare dataset\n",
    "shakespeare_dataset = dataset_path + 'shakespeare.txt'"
   ],
   "id": "51a5ce43db75a200",
   "outputs": [],
   "execution_count": 6
  },
  {
   "metadata": {
    "ExecuteTime": {
     "end_time": "2024-10-08T16:43:27.992493Z",
     "start_time": "2024-10-08T16:43:27.979583Z"
    }
   },
   "cell_type": "code",
   "source": [
    "with open(shakespeare_dataset, 'r', encoding='utf-8') as f:\n",
    "    shakespeare_text = f.read()"
   ],
   "id": "714da5288ce6a8f6",
   "outputs": [],
   "execution_count": 7
  },
  {
   "metadata": {
    "ExecuteTime": {
     "end_time": "2024-10-08T16:43:27.996356Z",
     "start_time": "2024-10-08T16:43:27.993653Z"
    }
   },
   "cell_type": "code",
   "source": "print(shakespeare_text[:1000])",
   "id": "aec77acc97c11a37",
   "outputs": [
    {
     "name": "stdout",
     "output_type": "stream",
     "text": [
      "First Citizen:\n",
      "Before we proceed any further, hear me speak.\n",
      "\n",
      "All:\n",
      "Speak, speak.\n",
      "\n",
      "First Citizen:\n",
      "You are all resolved rather to die than to famish?\n",
      "\n",
      "All:\n",
      "Resolved. resolved.\n",
      "\n",
      "First Citizen:\n",
      "First, you know Caius Marcius is chief enemy to the people.\n",
      "\n",
      "All:\n",
      "We know't, we know't.\n",
      "\n",
      "First Citizen:\n",
      "Let us kill him, and we'll have corn at our own price.\n",
      "Is't a verdict?\n",
      "\n",
      "All:\n",
      "No more talking on't; let it be done: away, away!\n",
      "\n",
      "Second Citizen:\n",
      "One word, good citizens.\n",
      "\n",
      "First Citizen:\n",
      "We are accounted poor citizens, the patricians good.\n",
      "What authority surfeits on would relieve us: if they\n",
      "would yield us but the superfluity, while it were\n",
      "wholesome, we might guess they relieved us humanely;\n",
      "but they think we are too dear: the leanness that\n",
      "afflicts us, the object of our misery, is as an\n",
      "inventory to particularise their abundance; our\n",
      "sufferance is a gain to them Let us revenge this with\n",
      "our pikes, ere we become rakes: for the gods know I\n",
      "speak this in hunger for bread, not in thirst for revenge.\n",
      "\n",
      "\n"
     ]
    }
   ],
   "execution_count": 8
  },
  {
   "metadata": {
    "ExecuteTime": {
     "end_time": "2024-10-08T16:43:28.007537Z",
     "start_time": "2024-10-08T16:43:27.997321Z"
    }
   },
   "cell_type": "code",
   "source": "print(f'Total number of characters in the text: {len(shakespeare_text)}')",
   "id": "b3967dfdd9f70483",
   "outputs": [
    {
     "name": "stdout",
     "output_type": "stream",
     "text": [
      "Total number of characters in the text: 1115394\n"
     ]
    }
   ],
   "execution_count": 9
  },
  {
   "metadata": {
    "ExecuteTime": {
     "end_time": "2024-10-08T16:43:28.024218Z",
     "start_time": "2024-10-08T16:43:28.008424Z"
    }
   },
   "cell_type": "code",
   "source": [
    "chars = sorted(list(set(shakespeare_text)))\n",
    "vocab_size = len(chars)\n",
    "CONFIG.vocab_size = vocab_size\n",
    "print(f'Unique characters: {chars}')\n",
    "print(f'Total number of unique characters: {vocab_size}')"
   ],
   "id": "6329c3be0ba0f684",
   "outputs": [
    {
     "name": "stdout",
     "output_type": "stream",
     "text": [
      "Unique characters: ['\\n', ' ', '!', '$', '&', \"'\", ',', '-', '.', '3', ':', ';', '?', 'A', 'B', 'C', 'D', 'E', 'F', 'G', 'H', 'I', 'J', 'K', 'L', 'M', 'N', 'O', 'P', 'Q', 'R', 'S', 'T', 'U', 'V', 'W', 'X', 'Y', 'Z', 'a', 'b', 'c', 'd', 'e', 'f', 'g', 'h', 'i', 'j', 'k', 'l', 'm', 'n', 'o', 'p', 'q', 'r', 's', 't', 'u', 'v', 'w', 'x', 'y', 'z']\n",
      "Total number of unique characters: 65\n"
     ]
    }
   ],
   "execution_count": 10
  },
  {
   "metadata": {},
   "cell_type": "markdown",
   "source": "# Tokenization (Character Level)",
   "id": "615c3f98977fb"
  },
  {
   "metadata": {
    "ExecuteTime": {
     "end_time": "2024-10-08T16:43:28.034623Z",
     "start_time": "2024-10-08T16:43:28.025242Z"
    }
   },
   "cell_type": "code",
   "source": [
    "char_to_int = {c: i for i, c in enumerate(chars)}\n",
    "encode = lambda s: [char_to_int[c] for c in s]\n",
    "int_to_char = {i: c for i, c in enumerate(chars)}\n",
    "decode = lambda l: \"\".join([int_to_char[i] for i in l])"
   ],
   "id": "ac7f9377f58e4bfc",
   "outputs": [],
   "execution_count": 11
  },
  {
   "metadata": {
    "ExecuteTime": {
     "end_time": "2024-10-08T16:43:28.044930Z",
     "start_time": "2024-10-08T16:43:28.035566Z"
    }
   },
   "cell_type": "code",
   "source": [
    "print(f'Character to integer mapping: {char_to_int}')\n",
    "print(f'Integer to character mapping: {int_to_char}')"
   ],
   "id": "103af979a4d37bb2",
   "outputs": [
    {
     "name": "stdout",
     "output_type": "stream",
     "text": [
      "Character to integer mapping: {'\\n': 0, ' ': 1, '!': 2, '$': 3, '&': 4, \"'\": 5, ',': 6, '-': 7, '.': 8, '3': 9, ':': 10, ';': 11, '?': 12, 'A': 13, 'B': 14, 'C': 15, 'D': 16, 'E': 17, 'F': 18, 'G': 19, 'H': 20, 'I': 21, 'J': 22, 'K': 23, 'L': 24, 'M': 25, 'N': 26, 'O': 27, 'P': 28, 'Q': 29, 'R': 30, 'S': 31, 'T': 32, 'U': 33, 'V': 34, 'W': 35, 'X': 36, 'Y': 37, 'Z': 38, 'a': 39, 'b': 40, 'c': 41, 'd': 42, 'e': 43, 'f': 44, 'g': 45, 'h': 46, 'i': 47, 'j': 48, 'k': 49, 'l': 50, 'm': 51, 'n': 52, 'o': 53, 'p': 54, 'q': 55, 'r': 56, 's': 57, 't': 58, 'u': 59, 'v': 60, 'w': 61, 'x': 62, 'y': 63, 'z': 64}\n",
      "Integer to character mapping: {0: '\\n', 1: ' ', 2: '!', 3: '$', 4: '&', 5: \"'\", 6: ',', 7: '-', 8: '.', 9: '3', 10: ':', 11: ';', 12: '?', 13: 'A', 14: 'B', 15: 'C', 16: 'D', 17: 'E', 18: 'F', 19: 'G', 20: 'H', 21: 'I', 22: 'J', 23: 'K', 24: 'L', 25: 'M', 26: 'N', 27: 'O', 28: 'P', 29: 'Q', 30: 'R', 31: 'S', 32: 'T', 33: 'U', 34: 'V', 35: 'W', 36: 'X', 37: 'Y', 38: 'Z', 39: 'a', 40: 'b', 41: 'c', 42: 'd', 43: 'e', 44: 'f', 45: 'g', 46: 'h', 47: 'i', 48: 'j', 49: 'k', 50: 'l', 51: 'm', 52: 'n', 53: 'o', 54: 'p', 55: 'q', 56: 'r', 57: 's', 58: 't', 59: 'u', 60: 'v', 61: 'w', 62: 'x', 63: 'y', 64: 'z'}\n"
     ]
    }
   ],
   "execution_count": 12
  },
  {
   "metadata": {
    "ExecuteTime": {
     "end_time": "2024-10-08T16:43:28.055334Z",
     "start_time": "2024-10-08T16:43:28.045990Z"
    }
   },
   "cell_type": "code",
   "source": [
    "sample_text = 'Hello, World!'\n",
    "sample_text_int = encode(sample_text)\n",
    "print(f'Text: {sample_text}')\n",
    "print(f'Encoded text: {sample_text_int}')\n",
    "print(f'Decoded text: {decode(sample_text_int)}')"
   ],
   "id": "647e150c07886cac",
   "outputs": [
    {
     "name": "stdout",
     "output_type": "stream",
     "text": [
      "Text: Hello, World!\n",
      "Encoded text: [20, 43, 50, 50, 53, 6, 1, 35, 53, 56, 50, 42, 2]\n",
      "Decoded text: Hello, World!\n"
     ]
    }
   ],
   "execution_count": 13
  },
  {
   "metadata": {
    "ExecuteTime": {
     "end_time": "2024-10-08T16:43:28.116915Z",
     "start_time": "2024-10-08T16:43:28.057090Z"
    }
   },
   "cell_type": "code",
   "source": "shakespeare_tokens = torch.tensor(encode(shakespeare_text), dtype=CONFIG.dtype)",
   "id": "bd8df31b7eb6c4dc",
   "outputs": [],
   "execution_count": 14
  },
  {
   "metadata": {
    "ExecuteTime": {
     "end_time": "2024-10-08T16:43:28.138823Z",
     "start_time": "2024-10-08T16:43:28.117953Z"
    }
   },
   "cell_type": "code",
   "source": [
    "print(f'Sample tokens: {shakespeare_tokens[:100]}')\n",
    "print(f'Total number of tokens: {len(shakespeare_tokens)}')\n",
    "print(f'Total number of unique tokens: {len(torch.unique(shakespeare_tokens))}')\n",
    "print(f'dtype: {shakespeare_tokens.dtype}')"
   ],
   "id": "f1c6b91c3827ec0e",
   "outputs": [
    {
     "name": "stdout",
     "output_type": "stream",
     "text": [
      "Sample tokens: tensor([18, 47, 56, 57, 58,  1, 15, 47, 58, 47, 64, 43, 52, 10,  0, 14, 43, 44,\n",
      "        53, 56, 43,  1, 61, 43,  1, 54, 56, 53, 41, 43, 43, 42,  1, 39, 52, 63,\n",
      "         1, 44, 59, 56, 58, 46, 43, 56,  6,  1, 46, 43, 39, 56,  1, 51, 43,  1,\n",
      "        57, 54, 43, 39, 49,  8,  0,  0, 13, 50, 50, 10,  0, 31, 54, 43, 39, 49,\n",
      "         6,  1, 57, 54, 43, 39, 49,  8,  0,  0, 18, 47, 56, 57, 58,  1, 15, 47,\n",
      "        58, 47, 64, 43, 52, 10,  0, 37, 53, 59])\n",
      "Total number of tokens: 1115394\n",
      "Total number of unique tokens: 65\n",
      "dtype: torch.int64\n"
     ]
    }
   ],
   "execution_count": 15
  },
  {
   "metadata": {},
   "cell_type": "markdown",
   "source": "# Preprocessing",
   "id": "90d826858f54ca9a"
  },
  {
   "metadata": {
    "ExecuteTime": {
     "end_time": "2024-10-08T16:43:28.142768Z",
     "start_time": "2024-10-08T16:43:28.139937Z"
    }
   },
   "cell_type": "code",
   "source": [
    "# Train Validation Split\n",
    "train_size = int(len(shakespeare_tokens) * (1 - CONFIG.validation_size))\n",
    "train_tokens = shakespeare_tokens[:train_size]\n",
    "validation_tokens = shakespeare_tokens[train_size:]\n",
    "print(f'Total number of tokens in the training set: {len(train_tokens)}')\n",
    "print(f'Total number of tokens in the validation set: {len(validation_tokens)}')"
   ],
   "id": "6aaaf43dab2d1cb6",
   "outputs": [
    {
     "name": "stdout",
     "output_type": "stream",
     "text": [
      "Total number of tokens in the training set: 892315\n",
      "Total number of tokens in the validation set: 223079\n"
     ]
    }
   ],
   "execution_count": 16
  },
  {
   "metadata": {
    "ExecuteTime": {
     "end_time": "2024-10-08T16:43:28.158699Z",
     "start_time": "2024-10-08T16:43:28.143788Z"
    }
   },
   "cell_type": "code",
   "source": [
    "class ShakespeareDataset(Dataset):\n",
    "    def __init__(self, tokens, block_size):\n",
    "        self.tokens = tokens\n",
    "        self.block_size = block_size\n",
    "        \n",
    "    def __len__(self):\n",
    "        return len(self.tokens) - self.block_size\n",
    "    \n",
    "    def __getitem__(self, idx):\n",
    "        return self.tokens[idx:idx+self.block_size], self.tokens[idx+1:idx+self.block_size+1]\n",
    "\n",
    "train_dataset = ShakespeareDataset(train_tokens, CONFIG.block_size)\n",
    "validation_dataset = ShakespeareDataset(validation_tokens, CONFIG.block_size)\n",
    "train_loader = DataLoader(train_dataset, batch_size=CONFIG.batch_size, shuffle=True)\n",
    "validation_loader = DataLoader(validation_dataset, batch_size=CONFIG.batch_size, shuffle=False)"
   ],
   "id": "3bbc62ea347bcc61",
   "outputs": [],
   "execution_count": 17
  },
  {
   "metadata": {
    "ExecuteTime": {
     "end_time": "2024-10-08T16:43:28.386024Z",
     "start_time": "2024-10-08T16:43:28.159769Z"
    }
   },
   "cell_type": "code",
   "source": [
    "sample_x, sample_y = next(iter(train_loader))\n",
    "sample_x, sample_y = sample_x.to(CONFIG.device), sample_y.to(CONFIG.device)\n",
    "print(sample_x.shape, sample_y.shape)\n",
    "print(sample_x[0])\n",
    "print(sample_y[0])"
   ],
   "id": "a0f2ac854ec887ce",
   "outputs": [
    {
     "name": "stdout",
     "output_type": "stream",
     "text": [
      "torch.Size([8192, 8]) torch.Size([8192, 8])\n",
      "tensor([27, 25, 17, 27, 10,  0, 25, 43], device='cuda:0')\n",
      "tensor([25, 17, 27, 10,  0, 25, 43, 39], device='cuda:0')\n"
     ]
    }
   ],
   "execution_count": 18
  },
  {
   "metadata": {},
   "cell_type": "markdown",
   "source": "# Model",
   "id": "be7fb06e3c4537d0"
  },
  {
   "metadata": {},
   "cell_type": "markdown",
   "source": "## Bigram",
   "id": "674025559f4cacff"
  },
  {
   "metadata": {
    "ExecuteTime": {
     "end_time": "2024-10-08T16:43:28.390317Z",
     "start_time": "2024-10-08T16:43:28.386951Z"
    }
   },
   "cell_type": "code",
   "source": [
    "class Bigram(nn.Module):\n",
    "    def __init__(self, config: CONFIG):\n",
    "        super().__init__()\n",
    "        self.vocab_size = config.vocab_size\n",
    "        self.d_embed = config.d_embed_bigram\n",
    "        self.max_len = config.max_len\n",
    "        \n",
    "        self.embedding = nn.Embedding(self.vocab_size, self.d_embed)\n",
    "        self.linear = nn.Linear(self.d_embed, self.vocab_size)\n",
    "        \n",
    "    def forward(self, x):  # [batch_size, block_size]\n",
    "        x = self.embedding(x)  # [batch_size, block_size, d_embed]\n",
    "        x = self.linear(x)  # [batch_size, block_size, vocab_size]\n",
    "        return x\n",
    "    \n",
    "    def loss(self, x, y):  # y: [batch_size, block_size]\n",
    "        y = y.view(-1)  # [batch_size * block_size]\n",
    "        y_pred = self.forward(x)  # [batch_size, block_size, vocab_size]\n",
    "        y_pred = y_pred.view(-1, self.vocab_size)  # [batch_size * block_size, vocab_size]\n",
    "        return F.cross_entropy(y_pred, y)\n",
    "    \n",
    "    @torch.no_grad()\n",
    "    def generate(self, x, max_len = None):\n",
    "        self.eval()\n",
    "        if max_len is None:\n",
    "            max_len = self.max_len\n",
    "        generated = x  # [batch_size, block_size]\n",
    "        for _ in range(max_len):\n",
    "            output = self.forward(x)  # [batch_size, block_size, vocab_size]\n",
    "            output = output[:, -1, :]  # [batch_size, vocab_size], take the last token\n",
    "            _, predicted = torch.max(output, dim=-1)  # [batch_size]\n",
    "            generated = torch.cat((generated, predicted.unsqueeze(-1)), dim=-1)  # [batch_size, block_size]\n",
    "            \n",
    "        return generated"
   ],
   "id": "46090953c0744a7",
   "outputs": [],
   "execution_count": 19
  },
  {
   "metadata": {
    "ExecuteTime": {
     "end_time": "2024-10-08T16:43:28.404818Z",
     "start_time": "2024-10-08T16:43:28.391205Z"
    }
   },
   "cell_type": "code",
   "source": [
    "bigram = Bigram(CONFIG).to(CONFIG.device)\n",
    "print(bigram)"
   ],
   "id": "beeb20e57204ca71",
   "outputs": [
    {
     "name": "stdout",
     "output_type": "stream",
     "text": [
      "Bigram(\n",
      "  (embedding): Embedding(65, 64)\n",
      "  (linear): Linear(in_features=64, out_features=65, bias=True)\n",
      ")\n"
     ]
    }
   ],
   "execution_count": 20
  },
  {
   "metadata": {
    "ExecuteTime": {
     "end_time": "2024-10-08T16:43:28.600290Z",
     "start_time": "2024-10-08T16:43:28.405865Z"
    }
   },
   "cell_type": "code",
   "source": [
    "loss = bigram.loss(sample_x, sample_y)\n",
    "print(loss)\n",
    "\n",
    "generated = bigram.generate(sample_x, max_len=100)\n",
    "print(decode(generated.tolist()[0]))"
   ],
   "id": "3e28b37a0b266966",
   "outputs": [
    {
     "name": "stdout",
     "output_type": "stream",
     "text": [
      "tensor(4.3025, device='cuda:0', grad_fn=<NllLossBackward0>)\n",
      "OMEO:\n",
      "MeDDDDDDDDDDDDDDDDDDDDDDDDDDDDDDDDDDDDDDDDDDDDDDDDDDDDDDDDDDDDDDDDDDDDDDDDDDDDDDDDDDDDDDDDDDDDDDDDDDDD\n"
     ]
    }
   ],
   "execution_count": 21
  },
  {
   "metadata": {},
   "cell_type": "markdown",
   "source": "## Transformer",
   "id": "bf0d9ba50b231237"
  },
  {
   "metadata": {
    "ExecuteTime": {
     "end_time": "2024-10-08T16:43:28.604063Z",
     "start_time": "2024-10-08T16:43:28.601185Z"
    }
   },
   "cell_type": "code",
   "source": [
    "class Head(nn.Module):\n",
    "    def __init__(self, d_embed: int, d_head: int):\n",
    "        super().__init__()\n",
    "        self.d_embed = d_embed\n",
    "        self.d_head = d_head\n",
    "        \n",
    "        self.query = nn.Linear(self.d_embed, self.d_head)\n",
    "        self.key = nn.Linear(self.d_embed, self.d_head)\n",
    "        self.value = nn.Linear(self.d_embed, self.d_head)\n",
    "        \n",
    "    def forward(self, x):  # [batch_size, block_size, d_embed]\n",
    "        query = self.query(x)  # [batch_size, block_size, d_head]\n",
    "        key = self.key(x)  # [batch_size, block_size, d_head]\n",
    "        value = self.value(x)  # [batch_size, block_size, d_head]\n",
    "        \n",
    "        attention = torch.matmul(query, key.transpose(-2, -1)) / np.sqrt(self.d_head)  # [batch_size, block_size, block_size]\n",
    "        attention = F.softmax(attention, dim=-1)\n",
    "        x = torch.matmul(attention, value)  # [batch_size, block_size, d_head]\n",
    "        return x"
   ],
   "id": "d0522cf5a64bef7",
   "outputs": [],
   "execution_count": 22
  },
  {
   "metadata": {
    "ExecuteTime": {
     "end_time": "2024-10-08T16:43:28.617750Z",
     "start_time": "2024-10-08T16:43:28.604914Z"
    }
   },
   "cell_type": "code",
   "source": [
    "class MultiHeadAttention(nn.Module):\n",
    "    def __init__(self, n_heads: int, d_head: int, d_embed: int):\n",
    "        super().__init__()\n",
    "        self.n_heads = n_heads\n",
    "        self.d_head = d_head\n",
    "        self.d_embed = d_embed\n",
    "        \n",
    "        self.heads = nn.ModuleList([Head(d_embed=d_embed, d_head=d_head) for _ in range(n_heads)])\n",
    "        \n",
    "    def forward(self, x):  # [batch_size, block_size, d_embed]\n",
    "        return torch.cat([head(x) for head in self.heads], dim=-1)  # [batch_size, block_size, d_embed]"
   ],
   "id": "cb4dd3b02a78dd90",
   "outputs": [],
   "execution_count": 23
  },
  {
   "metadata": {
    "ExecuteTime": {
     "end_time": "2024-10-08T16:43:28.628334Z",
     "start_time": "2024-10-08T16:43:28.618668Z"
    }
   },
   "cell_type": "code",
   "source": [
    "class MLP(nn.Module):\n",
    "    def __init__(self, d_embed: int, d_ff: int, dropout: float):\n",
    "        super().__init__()\n",
    "        self.d_embed = d_embed\n",
    "        self.d_ff = d_ff\n",
    "        self.dropout = dropout\n",
    "        \n",
    "        self.fc1 = nn.Linear(self.d_embed, self.d_ff)\n",
    "        self.fc2 = nn.Linear(self.d_ff, self.d_embed)\n",
    "        \n",
    "    def forward(self, x):  # [batch_size, block_size, d_embed]\n",
    "        x = F.gelu(self.fc1(x))  # [batch_size, block_size, d_ff]\n",
    "        x = F.dropout(x, p=self.dropout, training=self.training)\n",
    "        x = self.fc2(x)  # [batch_size, block_size, d_embed]\n",
    "        return x"
   ],
   "id": "6fd8d447487926af",
   "outputs": [],
   "execution_count": 24
  },
  {
   "metadata": {
    "ExecuteTime": {
     "end_time": "2024-10-08T16:43:28.635860Z",
     "start_time": "2024-10-08T16:43:28.629364Z"
    }
   },
   "cell_type": "code",
   "source": [
    "class Decoder(nn.Module):\n",
    "    def __init__(self, n_heads: int, d_head: int, d_embed: int, d_ff: int, dropout: float):\n",
    "        super().__init__()\n",
    "        self.n_heads = n_heads\n",
    "        self.d_head = d_head\n",
    "        self.d_embed = d_embed\n",
    "        self.d_ff = d_ff\n",
    "        self.dropout = dropout\n",
    "        \n",
    "        self.attention = MultiHeadAttention(n_heads=self.n_heads, d_head=self.d_head, d_embed=self.d_embed)\n",
    "        self.norm1 = nn.LayerNorm(self.d_embed)\n",
    "        \n",
    "        self.mlp = MLP(d_embed=self.d_embed, d_ff=self.d_ff, dropout=self.dropout)\n",
    "        self.norm2 = nn.LayerNorm(self.d_embed)\n",
    "        \n",
    "    def forward(self, x):  # [batch_size, block_size, d_embed]\n",
    "        x = x + self.attention(self.norm1(x))  # [batch_size, block_size, d_embed]\n",
    "        x = x + self.mlp(self.norm2(x))  # [batch_size, block_size, vocab_size]\n",
    "        return x"
   ],
   "id": "cc42bcdf9991bfc8",
   "outputs": [],
   "execution_count": 25
  },
  {
   "metadata": {
    "ExecuteTime": {
     "end_time": "2024-10-08T16:43:28.645159Z",
     "start_time": "2024-10-08T16:43:28.636821Z"
    }
   },
   "cell_type": "code",
   "source": [
    "class Transformer(nn.Module):\n",
    "    def __init__(self, config: CONFIG):\n",
    "        super().__init__()\n",
    "        self.vocab_size = config.vocab_size\n",
    "        self.block_size = config.block_size\n",
    "        self.n_layers = config.n_layers\n",
    "        self.n_heads = config.n_heads\n",
    "        self.d_embed = config.d_embed\n",
    "        self.d_head = config.d_head\n",
    "        self.d_ff = config.d_ff\n",
    "        self.dropout = config.dropout\n",
    "        self.max_len = config.max_len\n",
    "        \n",
    "        self.embedding = nn.Embedding(self.vocab_size, self.d_embed)\n",
    "        self.positional_embedding = nn.Embedding(self.block_size, self.d_embed)\n",
    "        self.decoder = nn.ModuleList([Decoder(n_heads=self.n_heads, d_head=self.d_head, d_embed=self.d_embed, d_ff=self.d_ff, dropout=self.dropout) for _ in range(self.n_layers)])\n",
    "        self.linear = nn.Linear(self.d_embed, self.vocab_size)\n",
    "        \n",
    "    def forward(self, x):  # [batch_size, block_size]\n",
    "        x = self.embedding(x) + self.positional_embedding(torch.arange(x.size(1), device=x.device))  # [batch_size, block_size, d_embed]\n",
    "        for decoder in self.decoder:\n",
    "            x = decoder(x)  # [batch_size, block_size, d_embed]\n",
    "        x = self.linear(x)  # [batch_size, block_size, vocab_size]\n",
    "        return x\n",
    "    \n",
    "    def loss(self, x, y):  # y: [batch_size, block_size]\n",
    "        y = y.view(-1)  # [batch_size * block_size]\n",
    "        y_pred = self.forward(x)  # [batch_size, block_size, vocab_size]\n",
    "        y_pred = y_pred.view(-1, self.vocab_size)  # [batch_size * block_size, vocab_size]\n",
    "        return F.cross_entropy(y_pred, y)\n",
    "    \n",
    "    @torch.no_grad()\n",
    "    def generate(self, x, max_len = None):\n",
    "        self.eval()\n",
    "        if max_len is None:\n",
    "            max_len = self.max_len\n",
    "        generated = x\n",
    "        for _ in range(max_len):\n",
    "            output = self.forward(x)  # [batch_size, block_size, vocab_size]\n",
    "            output = output[:, -1, :]  # [batch_size, vocab_size], get the last token\n",
    "            _, predicted = torch.max(output, dim=-1)  # [batch_size]\n",
    "            generated = torch.cat((generated, predicted.unsqueeze(-1)), dim=-1)  # [batch_size, block_size]\n",
    "        return generated"
   ],
   "id": "3f5c148600cd2481",
   "outputs": [],
   "execution_count": 26
  },
  {
   "metadata": {
    "ExecuteTime": {
     "end_time": "2024-10-08T16:43:28.659802Z",
     "start_time": "2024-10-08T16:43:28.646216Z"
    }
   },
   "cell_type": "code",
   "source": [
    "transformer = Transformer(CONFIG).to(CONFIG.device)\n",
    "print(transformer)"
   ],
   "id": "fcccf6690af610b2",
   "outputs": [
    {
     "name": "stdout",
     "output_type": "stream",
     "text": [
      "Transformer(\n",
      "  (embedding): Embedding(65, 128)\n",
      "  (positional_embedding): Embedding(8, 128)\n",
      "  (decoder): ModuleList(\n",
      "    (0-1): 2 x Decoder(\n",
      "      (attention): MultiHeadAttention(\n",
      "        (heads): ModuleList(\n",
      "          (0-1): 2 x Head(\n",
      "            (query): Linear(in_features=128, out_features=64, bias=True)\n",
      "            (key): Linear(in_features=128, out_features=64, bias=True)\n",
      "            (value): Linear(in_features=128, out_features=64, bias=True)\n",
      "          )\n",
      "        )\n",
      "      )\n",
      "      (norm1): LayerNorm((128,), eps=1e-05, elementwise_affine=True)\n",
      "      (mlp): MLP(\n",
      "        (fc1): Linear(in_features=128, out_features=512, bias=True)\n",
      "        (fc2): Linear(in_features=512, out_features=128, bias=True)\n",
      "      )\n",
      "      (norm2): LayerNorm((128,), eps=1e-05, elementwise_affine=True)\n",
      "    )\n",
      "  )\n",
      "  (linear): Linear(in_features=128, out_features=65, bias=True)\n",
      ")\n"
     ]
    }
   ],
   "execution_count": 27
  },
  {
   "metadata": {
    "ExecuteTime": {
     "end_time": "2024-10-08T16:43:29.337166Z",
     "start_time": "2024-10-08T16:43:28.660725Z"
    }
   },
   "cell_type": "code",
   "source": [
    "loss = transformer.loss(sample_x, sample_y)\n",
    "print(loss)\n",
    "\n",
    "generated = transformer.generate(sample_x, max_len=100)\n",
    "print(decode(generated.tolist()[0]))"
   ],
   "id": "50b754a1e3dc501e",
   "outputs": [
    {
     "name": "stdout",
     "output_type": "stream",
     "text": [
      "tensor(4.5163, device='cuda:0', grad_fn=<NllLossBackward0>)\n",
      "OMEO:\n",
      "Merrrrrrrrrrrrrrrrrrrrrrrrrrrrrrrrrrrrrrrrrrrrrrrrrrrrrrrrrrrrrrrrrrrrrrrrrrrrrrrrrrrrrrrrrrrrrrrrrrrr\n"
     ]
    }
   ],
   "execution_count": 28
  },
  {
   "metadata": {},
   "cell_type": "markdown",
   "source": "# Training",
   "id": "9152c0417c1460c0"
  },
  {
   "metadata": {
    "ExecuteTime": {
     "end_time": "2024-10-08T16:43:29.341467Z",
     "start_time": "2024-10-08T16:43:29.338117Z"
    }
   },
   "cell_type": "code",
   "source": [
    "def train(model):\n",
    "    model = model.to(CONFIG.device)\n",
    "    #criterion = nn.CrossEntropyLoss()\n",
    "    optimizer = optim.AdamW(model.parameters(), lr=CONFIG.learning_rate)\n",
    "    \n",
    "    train_loss = []\n",
    "    validation_loss = []\n",
    "    \n",
    "    for epoch in range(CONFIG.epochs):\n",
    "        model.train()\n",
    "        running_loss = 0.0\n",
    "        for x, y in tqdm(train_loader, desc=f'Epoch {epoch + 1}/{CONFIG.epochs}'):\n",
    "            x, y = x.to(CONFIG.device), y.to(CONFIG.device)\n",
    "            optimizer.zero_grad()\n",
    "            loss = model.loss(x, y)\n",
    "            loss.backward()\n",
    "            optimizer.step()\n",
    "            running_loss += loss.item()\n",
    "        \n",
    "        train_loss.append(running_loss / len(train_loader))\n",
    "        print(f'Training Loss: {running_loss / len(train_loader)}')\n",
    "        \n",
    "        model.eval()\n",
    "        running_loss = 0.0\n",
    "        with torch.no_grad():\n",
    "            for x, y in validation_loader:\n",
    "                x, y = x.to(CONFIG.device), y.to(CONFIG.device)\n",
    "                loss = model.loss(x, y)\n",
    "                running_loss += loss.item()\n",
    "                \n",
    "        validation_loss.append(running_loss / len(validation_loader))\n",
    "        print(f'Validation Loss: {running_loss / len(validation_loader)}')\n",
    "        \n",
    "    plt.plot(train_loss, label='Training Loss')\n",
    "    plt.plot(validation_loss, label='Validation Loss')\n",
    "    plt.xlabel('Epochs')\n",
    "    plt.ylabel('Loss')\n",
    "    plt.legend()\n",
    "    plt.show()"
   ],
   "id": "d6d9a89eb674e287",
   "outputs": [],
   "execution_count": 29
  },
  {
   "metadata": {
    "ExecuteTime": {
     "end_time": "2024-10-08T16:44:05.813907Z",
     "start_time": "2024-10-08T16:43:29.342306Z"
    }
   },
   "cell_type": "code",
   "source": "train(bigram)",
   "id": "80f4e3fe21dc0a9f",
   "outputs": [
    {
     "name": "stderr",
     "output_type": "stream",
     "text": [
      "Epoch 1/5: 100%|██████████| 109/109 [00:05<00:00, 21.59it/s]\n"
     ]
    },
    {
     "name": "stdout",
     "output_type": "stream",
     "text": [
      "Training Loss: 4.275531383829379\n",
      "Validation Loss: 4.248211571148464\n"
     ]
    },
    {
     "name": "stderr",
     "output_type": "stream",
     "text": [
      "Epoch 2/5: 100%|██████████| 109/109 [00:06<00:00, 17.91it/s]\n"
     ]
    },
    {
     "name": "stdout",
     "output_type": "stream",
     "text": [
      "Training Loss: 4.222732119603989\n",
      "Validation Loss: 4.197177478245327\n"
     ]
    },
    {
     "name": "stderr",
     "output_type": "stream",
     "text": [
      "Epoch 3/5: 100%|██████████| 109/109 [00:06<00:00, 17.73it/s]\n"
     ]
    },
    {
     "name": "stdout",
     "output_type": "stream",
     "text": [
      "Training Loss: 4.171579697810182\n",
      "Validation Loss: 4.1477212735584805\n"
     ]
    },
    {
     "name": "stderr",
     "output_type": "stream",
     "text": [
      "Epoch 4/5: 100%|██████████| 109/109 [00:06<00:00, 17.54it/s]\n"
     ]
    },
    {
     "name": "stdout",
     "output_type": "stream",
     "text": [
      "Training Loss: 4.121915900379146\n",
      "Validation Loss: 4.09970578125545\n"
     ]
    },
    {
     "name": "stderr",
     "output_type": "stream",
     "text": [
      "Epoch 5/5: 100%|██████████| 109/109 [00:06<00:00, 17.11it/s]\n"
     ]
    },
    {
     "name": "stdout",
     "output_type": "stream",
     "text": [
      "Training Loss: 4.073634261385016\n",
      "Validation Loss: 4.053016764777047\n"
     ]
    },
    {
     "data": {
      "text/plain": [
       "<Figure size 640x480 with 1 Axes>"
      ],
      "image/png": "[encoded data removed]"
     },
     "metadata": {},
     "output_type": "display_data"
    }
   ],
   "execution_count": 30
  },
  {
   "metadata": {
    "ExecuteTime": {
     "end_time": "2024-10-08T16:44:48.512561Z",
     "start_time": "2024-10-08T16:44:05.814866Z"
    }
   },
   "cell_type": "code",
   "source": "train(transformer)",
   "id": "ce3de26b6159e2b3",
   "outputs": [
    {
     "name": "stderr",
     "output_type": "stream",
     "text": [
      "Epoch 1/5: 100%|██████████| 109/109 [00:07<00:00, 14.92it/s]\n"
     ]
    },
    {
     "name": "stdout",
     "output_type": "stream",
     "text": [
      "Training Loss: 4.1024602465673325\n",
      "Validation Loss: 3.726073784487588\n"
     ]
    },
    {
     "name": "stderr",
     "output_type": "stream",
     "text": [
      "Epoch 2/5: 100%|██████████| 109/109 [00:07<00:00, 14.94it/s]\n"
     ]
    },
    {
     "name": "stdout",
     "output_type": "stream",
     "text": [
      "Training Loss: 3.4398762020496054\n",
      "Validation Loss: 3.217788892132895\n"
     ]
    },
    {
     "name": "stderr",
     "output_type": "stream",
     "text": [
      "Epoch 3/5: 100%|██████████| 109/109 [00:07<00:00, 15.19it/s]\n"
     ]
    },
    {
     "name": "stdout",
     "output_type": "stream",
     "text": [
      "Training Loss: 3.026549107437834\n",
      "Validation Loss: 2.8520490442003523\n"
     ]
    },
    {
     "name": "stderr",
     "output_type": "stream",
     "text": [
      "Epoch 4/5: 100%|██████████| 109/109 [00:07<00:00, 15.25it/s]\n"
     ]
    },
    {
     "name": "stdout",
     "output_type": "stream",
     "text": [
      "Training Loss: 2.591145316395191\n",
      "Validation Loss: 2.296036992754255\n"
     ]
    },
    {
     "name": "stderr",
     "output_type": "stream",
     "text": [
      "Epoch 5/5: 100%|██████████| 109/109 [00:07<00:00, 15.10it/s]\n"
     ]
    },
    {
     "name": "stdout",
     "output_type": "stream",
     "text": [
      "Training Loss: 1.929681578907398\n",
      "Validation Loss: 1.5940430802958352\n"
     ]
    },
    {
     "data": {
      "text/plain": [
       "<Figure size 640x480 with 1 Axes>"
      ],
      "image/png": "[encoded data removed]"
     },
     "metadata": {},
     "output_type": "display_data"
    }
   ],
   "execution_count": 31
  },
  {
   "metadata": {},
   "cell_type": "markdown",
   "source": "# Inference",
   "id": "173c87147a8f93ff"
  },
  {
   "metadata": {
    "ExecuteTime": {
     "end_time": "2024-10-08T16:44:48.952882Z",
     "start_time": "2024-10-08T16:44:48.513532Z"
    }
   },
   "cell_type": "code",
   "source": [
    "generated = bigram.generate(sample_x)\n",
    "print(decode(generated.tolist()[0]))"
   ],
   "id": "f30dfa6a6cf77f89",
   "outputs": [
    {
     "name": "stdout",
     "output_type": "stream",
     "text": [
      "OMEO:\n",
      "Me;;;;;;;;;;;;;;;;;;;;;;;;;;;;;;;;;;;;;;;;;;;;;;;;;;;;;;;;;;;;;;;;;;;;;;;;;;;;;;;;;;;;;;;;;;;;;;;;;;;;;;;;;;;;;;;;;;;;;;;;;;;;;;;;;;;;;;;;;;;;;;;;;;;;;;;;;;;;;;;;;;;;;;;;;;;;;;;;;;;;;;;;;;;;;;;;;;;;;;;;;;;;;;;;;;;;;;;;;;;;;;;;;;;;;;;;;;;;;;;;;;;;;;;;;;;;;;;;;;;;;;;;;;;;;;;;;;;;;;;;;;;;;;;;;;;;;;;;;;;;;;;;;;;;;;;;;;;;;;;;;;;;;;;;;;;;;;;;;;;;;;;;;;;;;;;;;;;;;;;;;;;;;;;;;;;;;;;;;;;;;;;;;;;;;;;;;;;;;;;;;;;;;;;;;;;;;;;;;;;;;;;;;;;;;;;;;;;;;;;;;;;;;;;;;;;;;;;;;;;;;;;;;;;;;;;;;;;;;;;;;;;;;;;;;;;;;;;;;;;;;;;;;;;;;;;;;;;;;;;;;;;;;;;;;;;;;;;;;;;;;;;;;;;;;;;;;;;;;;;;;;;;;;;;;;;;;;;;;;;;;;;;;;;;;;;;;;;;;;;;;;;;;;;;;;;;;;;;;;;;;;;;;;;;;;;;;;;;;;;;;;;;;;;;;;;;;;;;;;;;;;;;;;;;;;;;;;;;;;;;;;;;;;;;;;;;;;;;;;;;;;;;;;;;;;;;;;;;;;;;;;;;;;;;;;;;;;;;;;;;;;;;;;;;;;;;;;;;;;;;;;;;;;;;;;;;;;;;;;;;;;;;;;;;;;;;;;;;;;;;;;;;;;;;;;;;;;;;;;;;;;;;;;;;;;;;;;;;;;;;;;;;;;;;;;;;;;;;;;;;;;;;;;;;;;;;;;;;;;;;;;;;;;;;;;;;;;;;;;;;;;;;;;;;;;;;;;;;;;;;;;;;;;;;;;;;;;;;;;;;;;;;;;;;;;;;;;;;;;;;;;;;;;;;;;;;;;;;;;;;;;;;;;;;;;;;;;;;;;;;;;;;;;;;;;;;;;;;;;;;;;;;\n"
     ]
    }
   ],
   "execution_count": 32
  },
  {
   "metadata": {
    "ExecuteTime": {
     "end_time": "2024-10-08T16:44:55.319233Z",
     "start_time": "2024-10-08T16:44:48.953904Z"
    }
   },
   "cell_type": "code",
   "source": [
    "generated = transformer.generate(sample_x)\n",
    "print(decode(generated.tolist()[0]))"
   ],
   "id": "111eccac3adaccfb",
   "outputs": [
    {
     "name": "stdout",
     "output_type": "stream",
     "text": [
      "OMEO:\n",
      "Merrrrrrrrrrrrrrrrrrrrrrrrrrrrrrrrrrrrrrrrrrrrrrrrrrrrrrrrrrrrrrrrrrrrrrrrrrrrrrrrrrrrrrrrrrrrrrrrrrrrrrrrrrrrrrrrrrrrrrrrrrrrrrrrrrrrrrrrrrrrrrrrrrrrrrrrrrrrrrrrrrrrrrrrrrrrrrrrrrrrrrrrrrrrrrrrrrrrrrrrrrrrrrrrrrrrrrrrrrrrrrrrrrrrrrrrrrrrrrrrrrrrrrrrrrrrrrrrrrrrrrrrrrrrrrrrrrrrrrrrrrrrrrrrrrrrrrrrrrrrrrrrrrrrrrrrrrrrrrrrrrrrrrrrrrrrrrrrrrrrrrrrrrrrrrrrrrrrrrrrrrrrrrrrrrrrrrrrrrrrrrrrrrrrrrrrrrrrrrrrrrrrrrrrrrrrrrrrrrrrrrrrrrrrrrrrrrrrrrrrrrrrrrrrrrrrrrrrrrrrrrrrrrrrrrrrrrrrrrrrrrrrrrrrrrrrrrrrrrrrrrrrrrrrrrrrrrrrrrrrrrrrrrrrrrrrrrrrrrrrrrrrrrrrrrrrrrrrrrrrrrrrrrrrrrrrrrrrrrrrrrrrrrrrrrrrrrrrrrrrrrrrrrrrrrrrrrrrrrrrrrrrrrrrrrrrrrrrrrrrrrrrrrrrrrrrrrrrrrrrrrrrrrrrrrrrrrrrrrrrrrrrrrrrrrrrrrrrrrrrrrrrrrrrrrrrrrrrrrrrrrrrrrrrrrrrrrrrrrrrrrrrrrrrrrrrrrrrrrrrrrrrrrrrrrrrrrrrrrrrrrrrrrrrrrrrrrrrrrrrrrrrrrrrrrrrrrrrrrrrrrrrrrrrrrrrrrrrrrrrrrrrrrrrrrrrrrrrrrrrrrrrrrrrrrrrrrrrrrrrrrrrrrrrrrrrrrrrrrrrrrrrrrrrrrrrrrrrrrrrrrrrrrrrrrrrrrrrrrrrrrrrrrrrrrrrrrrrrrrrrrrrrrrrrrrrrrrrrrrrrrrrrrrrrrrrrrrrrrrrrrrrrrrrrrrrrrrrrrrrrrrr\n"
     ]
    }
   ],
   "execution_count": 33
  }
 ],
 "metadata": {
  "kernelspec": {
   "display_name": "Python 3",
   "language": "python",
   "name": "python3"
  },
  "language_info": {
   "codemirror_mode": {
    "name": "ipython",
    "version": 2
   },
   "file_extension": ".py",
   "mimetype": "text/x-python",
   "name": "python",
   "nbconvert_exporter": "python",
   "pygments_lexer": "ipython2",
   "version": "2.7.6"
  }
 },
 "nbformat": 4,
 "nbformat_minor": 5
}
