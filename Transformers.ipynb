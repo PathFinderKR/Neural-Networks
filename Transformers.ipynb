{
 "cells": [
  {
   "metadata": {},
   "cell_type": "markdown",
   "source": "# Importing Libraries",
   "id": "31c5bedf65442dd4"
  },
  {
   "metadata": {
    "ExecuteTime": {
     "end_time": "2024-10-10T02:36:34.970712Z",
     "start_time": "2024-10-10T02:36:32.943326Z"
    }
   },
   "cell_type": "code",
   "source": [
    "import os\n",
    "import random\n",
    "import numpy as np\n",
    "from tqdm import tqdm\n",
    "import matplotlib.pyplot as plt\n",
    "from dataclasses import dataclass\n",
    "\n",
    "# pytorch\n",
    "import torch\n",
    "import torch.nn as nn\n",
    "import torch.optim as optim\n",
    "from torch.nn import functional as F\n",
    "from torch.utils.data import Dataset, DataLoader"
   ],
   "id": "18c5d42ca4b3573a",
   "outputs": [],
   "execution_count": 1
  },
  {
   "metadata": {},
   "cell_type": "markdown",
   "source": "# Hyperparameters",
   "id": "a33f8814c43a02b3"
  },
  {
   "metadata": {
    "ExecuteTime": {
     "end_time": "2024-10-10T02:36:34.975736Z",
     "start_time": "2024-10-10T02:36:34.971982Z"
    }
   },
   "cell_type": "code",
   "source": [
    "@dataclass\n",
    "class CONFIG:\n",
    "    debug: bool = True\n",
    "    \n",
    "    # Model\n",
    "    vocab_size: int = 65\n",
    "    ## Bigram\n",
    "    d_embed_bigram: int = 64\n",
    "    ## Transformer\n",
    "    context_size: int = 8\n",
    "    n_layers: int = 2\n",
    "    n_heads: int = 2\n",
    "    d_embed: int = 128\n",
    "    d_head: int = d_embed // n_heads\n",
    "    d_ff: int = d_embed * 4\n",
    "    dropout: float = 0.2\n",
    "\n",
    "    flash_attention: bool = False\n",
    "    \n",
    "    # Dataset\n",
    "    dtype: torch.dtype = torch.long\n",
    "    validation_size: float = 0.2\n",
    "    \n",
    "    # Device\n",
    "    device: torch.device = None\n",
    "    \n",
    "    # Training\n",
    "    epochs: int = 5\n",
    "    batch_size: int = 8192\n",
    "    learning_rate: float = 2e-5\n",
    "    \n",
    "    # Generation\n",
    "    max_len: int = 1024\n",
    "    \n",
    "    # Seed\n",
    "    seed: int = 101"
   ],
   "id": "2a19f3ab5bc4989c",
   "outputs": [],
   "execution_count": 2
  },
  {
   "metadata": {},
   "cell_type": "markdown",
   "source": "# Reproducibility",
   "id": "bb8a94bbb1490853"
  },
  {
   "metadata": {
    "ExecuteTime": {
     "end_time": "2024-10-10T02:36:34.981700Z",
     "start_time": "2024-10-10T02:36:34.976645Z"
    }
   },
   "cell_type": "code",
   "source": [
    "def set_seed(seed):\n",
    "    random.seed(seed)\n",
    "    os.environ['PYTHONHASHSEED'] = str(seed)\n",
    "    np.random.seed(seed)\n",
    "    torch.manual_seed(seed)\n",
    "    torch.cuda.manual_seed(seed)\n",
    "    torch.backends.cudnn.deterministic = True\n",
    "    torch.backends.cudnn.benchmark = True\n",
    "    print(f\"Seed: {seed}\")\n",
    "    \n",
    "set_seed(CONFIG.seed)"
   ],
   "id": "2e3b80e991754385",
   "outputs": [
    {
     "name": "stdout",
     "output_type": "stream",
     "text": [
      "Seed: 101\n"
     ]
    }
   ],
   "execution_count": 3
  },
  {
   "metadata": {},
   "cell_type": "markdown",
   "source": "# Device",
   "id": "5d709d829d6405fb"
  },
  {
   "metadata": {
    "ExecuteTime": {
     "end_time": "2024-10-10T02:36:34.985398Z",
     "start_time": "2024-10-10T02:36:34.983026Z"
    }
   },
   "cell_type": "code",
   "source": [
    "def configure_device():\n",
    "    if torch.cuda.is_available():\n",
    "        device = torch.device(\"cuda\")\n",
    "        num_gpu = torch.cuda.device_count()\n",
    "        print(\"> Running on GPU\", end=' | ')\n",
    "        print(\"Num of GPUs: \", num_gpu)\n",
    "    else:\n",
    "        device = torch.device(\"cpu\")\n",
    "        print(\"> Running on CPU\")\n",
    "    return device\n",
    "\n",
    "CONFIG.device = configure_device()"
   ],
   "id": "684818f9e79dea2c",
   "outputs": [
    {
     "name": "stdout",
     "output_type": "stream",
     "text": [
      "> Running on CPU\n"
     ]
    }
   ],
   "execution_count": 4
  },
  {
   "metadata": {},
   "cell_type": "markdown",
   "source": "# Debug",
   "id": "dfb6f8895568da5d"
  },
  {
   "metadata": {
    "ExecuteTime": {
     "end_time": "2024-10-10T02:36:34.988290Z",
     "start_time": "2024-10-10T02:36:34.986327Z"
    }
   },
   "cell_type": "code",
   "source": [
    "if CONFIG.debug:\n",
    "    CONFIG.epochs = 1"
   ],
   "id": "f03a3c0745d3bb19",
   "outputs": [],
   "execution_count": 5
  },
  {
   "metadata": {},
   "cell_type": "markdown",
   "source": "# Dataset",
   "id": "d21d464e0d47b67f"
  },
  {
   "metadata": {
    "ExecuteTime": {
     "end_time": "2024-10-10T02:36:34.990517Z",
     "start_time": "2024-10-10T02:36:34.989024Z"
    }
   },
   "cell_type": "code",
   "source": [
    "# dataset path\n",
    "dataset_path = 'data/'\n",
    "# shakespeare dataset\n",
    "shakespeare_dataset = dataset_path + 'shakespeare.txt'"
   ],
   "id": "51a5ce43db75a200",
   "outputs": [],
   "execution_count": 6
  },
  {
   "metadata": {
    "ExecuteTime": {
     "end_time": "2024-10-10T02:36:34.993987Z",
     "start_time": "2024-10-10T02:36:34.991166Z"
    }
   },
   "cell_type": "code",
   "source": [
    "with open(shakespeare_dataset, 'r', encoding='utf-8') as f:\n",
    "    shakespeare_text = f.read()"
   ],
   "id": "714da5288ce6a8f6",
   "outputs": [],
   "execution_count": 7
  },
  {
   "metadata": {
    "ExecuteTime": {
     "end_time": "2024-10-10T02:36:34.997180Z",
     "start_time": "2024-10-10T02:36:34.994882Z"
    }
   },
   "cell_type": "code",
   "source": "print(shakespeare_text[:1000])",
   "id": "aec77acc97c11a37",
   "outputs": [
    {
     "name": "stdout",
     "output_type": "stream",
     "text": [
      "First Citizen:\n",
      "Before we proceed any further, hear me speak.\n",
      "\n",
      "All:\n",
      "Speak, speak.\n",
      "\n",
      "First Citizen:\n",
      "You are all resolved rather to die than to famish?\n",
      "\n",
      "All:\n",
      "Resolved. resolved.\n",
      "\n",
      "First Citizen:\n",
      "First, you know Caius Marcius is chief enemy to the people.\n",
      "\n",
      "All:\n",
      "We know't, we know't.\n",
      "\n",
      "First Citizen:\n",
      "Let us kill him, and we'll have corn at our own price.\n",
      "Is't a verdict?\n",
      "\n",
      "All:\n",
      "No more talking on't; let it be done: away, away!\n",
      "\n",
      "Second Citizen:\n",
      "One word, good citizens.\n",
      "\n",
      "First Citizen:\n",
      "We are accounted poor citizens, the patricians good.\n",
      "What authority surfeits on would relieve us: if they\n",
      "would yield us but the superfluity, while it were\n",
      "wholesome, we might guess they relieved us humanely;\n",
      "but they think we are too dear: the leanness that\n",
      "afflicts us, the object of our misery, is as an\n",
      "inventory to particularise their abundance; our\n",
      "sufferance is a gain to them Let us revenge this with\n",
      "our pikes, ere we become rakes: for the gods know I\n",
      "speak this in hunger for bread, not in thirst for revenge.\n",
      "\n",
      "\n"
     ]
    }
   ],
   "execution_count": 8
  },
  {
   "metadata": {
    "ExecuteTime": {
     "end_time": "2024-10-10T02:36:34.999789Z",
     "start_time": "2024-10-10T02:36:34.998033Z"
    }
   },
   "cell_type": "code",
   "source": "print(f'Total number of characters in the text: {len(shakespeare_text)}')",
   "id": "b3967dfdd9f70483",
   "outputs": [
    {
     "name": "stdout",
     "output_type": "stream",
     "text": [
      "Total number of characters in the text: 1115394\n"
     ]
    }
   ],
   "execution_count": 9
  },
  {
   "metadata": {
    "ExecuteTime": {
     "end_time": "2024-10-10T02:36:35.013057Z",
     "start_time": "2024-10-10T02:36:35.001914Z"
    }
   },
   "cell_type": "code",
   "source": [
    "chars = sorted(list(set(shakespeare_text)))\n",
    "vocab_size = len(chars)\n",
    "CONFIG.vocab_size = vocab_size\n",
    "print(f'Unique characters: {chars}')\n",
    "print(f'Total number of unique characters: {vocab_size}')"
   ],
   "id": "6329c3be0ba0f684",
   "outputs": [
    {
     "name": "stdout",
     "output_type": "stream",
     "text": [
      "Unique characters: ['\\n', ' ', '!', '$', '&', \"'\", ',', '-', '.', '3', ':', ';', '?', 'A', 'B', 'C', 'D', 'E', 'F', 'G', 'H', 'I', 'J', 'K', 'L', 'M', 'N', 'O', 'P', 'Q', 'R', 'S', 'T', 'U', 'V', 'W', 'X', 'Y', 'Z', 'a', 'b', 'c', 'd', 'e', 'f', 'g', 'h', 'i', 'j', 'k', 'l', 'm', 'n', 'o', 'p', 'q', 'r', 's', 't', 'u', 'v', 'w', 'x', 'y', 'z']\n",
      "Total number of unique characters: 65\n"
     ]
    }
   ],
   "execution_count": 10
  },
  {
   "metadata": {},
   "cell_type": "markdown",
   "source": "# Tokenization (Character Level)",
   "id": "615c3f98977fb"
  },
  {
   "metadata": {
    "ExecuteTime": {
     "end_time": "2024-10-10T02:36:35.015994Z",
     "start_time": "2024-10-10T02:36:35.013826Z"
    }
   },
   "cell_type": "code",
   "source": [
    "char_to_int = {c: i for i, c in enumerate(chars)}\n",
    "encode = lambda s: [char_to_int[c] for c in s]\n",
    "int_to_char = {i: c for i, c in enumerate(chars)}\n",
    "decode = lambda l: \"\".join([int_to_char[i] for i in l])"
   ],
   "id": "ac7f9377f58e4bfc",
   "outputs": [],
   "execution_count": 11
  },
  {
   "metadata": {
    "ExecuteTime": {
     "end_time": "2024-10-10T02:36:35.018627Z",
     "start_time": "2024-10-10T02:36:35.016580Z"
    }
   },
   "cell_type": "code",
   "source": [
    "print(f'Character to integer mapping: {char_to_int}')\n",
    "print(f'Integer to character mapping: {int_to_char}')"
   ],
   "id": "103af979a4d37bb2",
   "outputs": [
    {
     "name": "stdout",
     "output_type": "stream",
     "text": [
      "Character to integer mapping: {'\\n': 0, ' ': 1, '!': 2, '$': 3, '&': 4, \"'\": 5, ',': 6, '-': 7, '.': 8, '3': 9, ':': 10, ';': 11, '?': 12, 'A': 13, 'B': 14, 'C': 15, 'D': 16, 'E': 17, 'F': 18, 'G': 19, 'H': 20, 'I': 21, 'J': 22, 'K': 23, 'L': 24, 'M': 25, 'N': 26, 'O': 27, 'P': 28, 'Q': 29, 'R': 30, 'S': 31, 'T': 32, 'U': 33, 'V': 34, 'W': 35, 'X': 36, 'Y': 37, 'Z': 38, 'a': 39, 'b': 40, 'c': 41, 'd': 42, 'e': 43, 'f': 44, 'g': 45, 'h': 46, 'i': 47, 'j': 48, 'k': 49, 'l': 50, 'm': 51, 'n': 52, 'o': 53, 'p': 54, 'q': 55, 'r': 56, 's': 57, 't': 58, 'u': 59, 'v': 60, 'w': 61, 'x': 62, 'y': 63, 'z': 64}\n",
      "Integer to character mapping: {0: '\\n', 1: ' ', 2: '!', 3: '$', 4: '&', 5: \"'\", 6: ',', 7: '-', 8: '.', 9: '3', 10: ':', 11: ';', 12: '?', 13: 'A', 14: 'B', 15: 'C', 16: 'D', 17: 'E', 18: 'F', 19: 'G', 20: 'H', 21: 'I', 22: 'J', 23: 'K', 24: 'L', 25: 'M', 26: 'N', 27: 'O', 28: 'P', 29: 'Q', 30: 'R', 31: 'S', 32: 'T', 33: 'U', 34: 'V', 35: 'W', 36: 'X', 37: 'Y', 38: 'Z', 39: 'a', 40: 'b', 41: 'c', 42: 'd', 43: 'e', 44: 'f', 45: 'g', 46: 'h', 47: 'i', 48: 'j', 49: 'k', 50: 'l', 51: 'm', 52: 'n', 53: 'o', 54: 'p', 55: 'q', 56: 'r', 57: 's', 58: 't', 59: 'u', 60: 'v', 61: 'w', 62: 'x', 63: 'y', 64: 'z'}\n"
     ]
    }
   ],
   "execution_count": 12
  },
  {
   "metadata": {
    "ExecuteTime": {
     "end_time": "2024-10-10T02:36:35.021432Z",
     "start_time": "2024-10-10T02:36:35.019299Z"
    }
   },
   "cell_type": "code",
   "source": [
    "sample_text = 'Hello, World!'\n",
    "sample_text_int = encode(sample_text)\n",
    "print(f'Text: {sample_text}')\n",
    "print(f'Encoded text: {sample_text_int}')\n",
    "print(f'Decoded text: {decode(sample_text_int)}')"
   ],
   "id": "647e150c07886cac",
   "outputs": [
    {
     "name": "stdout",
     "output_type": "stream",
     "text": [
      "Text: Hello, World!\n",
      "Encoded text: [20, 43, 50, 50, 53, 6, 1, 35, 53, 56, 50, 42, 2]\n",
      "Decoded text: Hello, World!\n"
     ]
    }
   ],
   "execution_count": 13
  },
  {
   "metadata": {
    "ExecuteTime": {
     "end_time": "2024-10-10T02:36:35.109295Z",
     "start_time": "2024-10-10T02:36:35.022180Z"
    }
   },
   "cell_type": "code",
   "source": "shakespeare_tokens = torch.tensor(encode(shakespeare_text), dtype=CONFIG.dtype)",
   "id": "bd8df31b7eb6c4dc",
   "outputs": [],
   "execution_count": 14
  },
  {
   "metadata": {
    "ExecuteTime": {
     "end_time": "2024-10-10T02:36:35.144909Z",
     "start_time": "2024-10-10T02:36:35.110400Z"
    }
   },
   "cell_type": "code",
   "source": [
    "print(f'Sample tokens: {shakespeare_tokens[:100]}')\n",
    "print(f'Total number of tokens: {len(shakespeare_tokens)}')\n",
    "print(f'Total number of unique tokens: {len(torch.unique(shakespeare_tokens))}')\n",
    "print(f'dtype: {shakespeare_tokens.dtype}')"
   ],
   "id": "f1c6b91c3827ec0e",
   "outputs": [
    {
     "name": "stdout",
     "output_type": "stream",
     "text": [
      "Sample tokens: tensor([18, 47, 56, 57, 58,  1, 15, 47, 58, 47, 64, 43, 52, 10,  0, 14, 43, 44,\n",
      "        53, 56, 43,  1, 61, 43,  1, 54, 56, 53, 41, 43, 43, 42,  1, 39, 52, 63,\n",
      "         1, 44, 59, 56, 58, 46, 43, 56,  6,  1, 46, 43, 39, 56,  1, 51, 43,  1,\n",
      "        57, 54, 43, 39, 49,  8,  0,  0, 13, 50, 50, 10,  0, 31, 54, 43, 39, 49,\n",
      "         6,  1, 57, 54, 43, 39, 49,  8,  0,  0, 18, 47, 56, 57, 58,  1, 15, 47,\n",
      "        58, 47, 64, 43, 52, 10,  0, 37, 53, 59])\n",
      "Total number of tokens: 1115394\n",
      "Total number of unique tokens: 65\n",
      "dtype: torch.int64\n"
     ]
    }
   ],
   "execution_count": 15
  },
  {
   "metadata": {},
   "cell_type": "markdown",
   "source": "# Preprocessing",
   "id": "90d826858f54ca9a"
  },
  {
   "metadata": {
    "ExecuteTime": {
     "end_time": "2024-10-10T02:36:35.148265Z",
     "start_time": "2024-10-10T02:36:35.145901Z"
    }
   },
   "cell_type": "code",
   "source": [
    "# Train Validation Split\n",
    "train_size = int(len(shakespeare_tokens) * (1 - CONFIG.validation_size))\n",
    "train_tokens = shakespeare_tokens[:train_size]\n",
    "validation_tokens = shakespeare_tokens[train_size:]\n",
    "print(f'Total number of tokens in the training set: {len(train_tokens)}')\n",
    "print(f'Total number of tokens in the validation set: {len(validation_tokens)}')"
   ],
   "id": "6aaaf43dab2d1cb6",
   "outputs": [
    {
     "name": "stdout",
     "output_type": "stream",
     "text": [
      "Total number of tokens in the training set: 892315\n",
      "Total number of tokens in the validation set: 223079\n"
     ]
    }
   ],
   "execution_count": 16
  },
  {
   "metadata": {
    "ExecuteTime": {
     "end_time": "2024-10-10T02:36:35.152004Z",
     "start_time": "2024-10-10T02:36:35.149007Z"
    }
   },
   "cell_type": "code",
   "source": [
    "class ShakespeareDataset(Dataset):\n",
    "    def __init__(self, tokens, context_size):\n",
    "        self.tokens = tokens\n",
    "        self.context_size = context_size\n",
    "        \n",
    "    def __len__(self):\n",
    "        return len(self.tokens) - self.context_size\n",
    "    \n",
    "    def __getitem__(self, idx):\n",
    "        return self.tokens[idx:idx+self.context_size], self.tokens[idx+1:idx+self.context_size+1]\n",
    "\n",
    "train_dataset = ShakespeareDataset(train_tokens, CONFIG.context_size)\n",
    "validation_dataset = ShakespeareDataset(validation_tokens, CONFIG.context_size)\n",
    "train_loader = DataLoader(train_dataset, batch_size=CONFIG.batch_size, shuffle=True)\n",
    "validation_loader = DataLoader(validation_dataset, batch_size=CONFIG.batch_size, shuffle=False)"
   ],
   "id": "3bbc62ea347bcc61",
   "outputs": [],
   "execution_count": 17
  },
  {
   "metadata": {
    "ExecuteTime": {
     "end_time": "2024-10-10T02:36:35.217441Z",
     "start_time": "2024-10-10T02:36:35.152963Z"
    }
   },
   "cell_type": "code",
   "source": [
    "sample_x, sample_y = next(iter(train_loader))\n",
    "sample_x, sample_y = sample_x.to(CONFIG.device), sample_y.to(CONFIG.device)\n",
    "print(sample_x.shape, sample_y.shape)\n",
    "print(sample_x[0])\n",
    "print(sample_y[0])"
   ],
   "id": "a0f2ac854ec887ce",
   "outputs": [
    {
     "name": "stdout",
     "output_type": "stream",
     "text": [
      "torch.Size([8192, 8]) torch.Size([8192, 8])\n",
      "tensor([27, 25, 17, 27, 10,  0, 25, 43])\n",
      "tensor([25, 17, 27, 10,  0, 25, 43, 39])\n"
     ]
    }
   ],
   "execution_count": 18
  },
  {
   "metadata": {},
   "cell_type": "markdown",
   "source": "# Model",
   "id": "be7fb06e3c4537d0"
  },
  {
   "metadata": {},
   "cell_type": "markdown",
   "source": "## Bigram",
   "id": "674025559f4cacff"
  },
  {
   "metadata": {
    "ExecuteTime": {
     "end_time": "2024-10-10T02:36:35.221997Z",
     "start_time": "2024-10-10T02:36:35.218327Z"
    }
   },
   "cell_type": "code",
   "source": [
    "class Bigram(nn.Module):\n",
    "    def __init__(self, config):\n",
    "        super().__init__()\n",
    "        self.vocab_size = config.vocab_size\n",
    "        self.d_embed = config.d_embed_bigram\n",
    "        self.max_len = config.max_len\n",
    "        \n",
    "        self.embedding = nn.Embedding(self.vocab_size, self.d_embed)\n",
    "        self.linear = nn.Linear(self.d_embed, self.vocab_size)\n",
    "        \n",
    "    def forward(self, x):  # [batch_size, context_size]\n",
    "        x = self.embedding(x)  # [batch_size, context_size, d_embed]\n",
    "        x = self.linear(x)  # [batch_size, context_size, vocab_size]\n",
    "        return x\n",
    "    \n",
    "    def loss(self, x, y):  # y: [batch_size, context_size]\n",
    "        y = y.view(-1)  # [batch_size * context_size]\n",
    "        y_pred = self.forward(x)  # [batch_size, context_size, vocab_size]\n",
    "        y_pred = y_pred.view(-1, self.vocab_size)  # [batch_size * context_size, vocab_size]\n",
    "        return F.cross_entropy(y_pred, y)\n",
    "    \n",
    "    @torch.no_grad()\n",
    "    def generate(self, x, max_len = None):\n",
    "        self.eval()\n",
    "        if max_len is None:\n",
    "            max_len = self.max_len\n",
    "        for _ in range(max_len):  # x: [batch_size, context]\n",
    "            output = self.forward(x)  # [batch_size, context_size, vocab_size]\n",
    "            output = torch.argmax(output, dim=-1)  # [batch_size, context_size]\n",
    "            x = torch.cat((x, output[:, -1].unsqueeze(-1)), dim=-1)\n",
    "        return x  "
   ],
   "id": "46090953c0744a7",
   "outputs": [],
   "execution_count": 19
  },
  {
   "metadata": {
    "ExecuteTime": {
     "end_time": "2024-10-10T02:36:35.225002Z",
     "start_time": "2024-10-10T02:36:35.222632Z"
    }
   },
   "cell_type": "code",
   "source": [
    "bigram = Bigram(CONFIG).to(CONFIG.device)\n",
    "print(bigram)"
   ],
   "id": "beeb20e57204ca71",
   "outputs": [
    {
     "name": "stdout",
     "output_type": "stream",
     "text": [
      "Bigram(\n",
      "  (embedding): Embedding(65, 64)\n",
      "  (linear): Linear(in_features=64, out_features=65, bias=True)\n",
      ")\n"
     ]
    }
   ],
   "execution_count": 20
  },
  {
   "metadata": {
    "ExecuteTime": {
     "end_time": "2024-10-10T02:36:43.192304Z",
     "start_time": "2024-10-10T02:36:35.225763Z"
    }
   },
   "cell_type": "code",
   "source": [
    "loss = bigram.loss(sample_x, sample_y)\n",
    "print(loss)\n",
    "\n",
    "sample_generated_text = bigram.generate(sample_x, max_len=100)\n",
    "print(decode(sample_generated_text.tolist()[0]))"
   ],
   "id": "3e28b37a0b266966",
   "outputs": [
    {
     "name": "stdout",
     "output_type": "stream",
     "text": [
      "tensor(4.3025, grad_fn=<NllLossBackward0>)\n",
      "OMEO:\n",
      "MeDoPRlQzy&d3RlQzy&d3RlQzy&d3RlQzy&d3RlQzy&d3RlQzy&d3RlQzy&d3RlQzy&d3RlQzy&d3RlQzy&d3RlQzy&d3RlQzy&d3R\n"
     ]
    }
   ],
   "execution_count": 21
  },
  {
   "metadata": {},
   "cell_type": "markdown",
   "source": "## Transformer",
   "id": "bf0d9ba50b231237"
  },
  {
   "metadata": {
    "ExecuteTime": {
     "end_time": "2024-10-10T02:36:43.197515Z",
     "start_time": "2024-10-10T02:36:43.193270Z"
    }
   },
   "cell_type": "code",
   "source": [
    "class CausalSelfAttention(nn.Module):\n",
    "    def __init__(self, d_embed: int, n_heads: int, d_head: int):\n",
    "        super().__init__()\n",
    "        self.d_embed = d_embed\n",
    "        self.n_heads = n_heads\n",
    "        self.d_head = d_head\n",
    "        \n",
    "        self.query = nn.Linear(self.d_embed, self.n_heads * self.d_head)\n",
    "        self.key = nn.Linear(self.d_embed, self.n_heads * self.d_head)\n",
    "        self.value = nn.Linear(self.d_embed, self.n_heads * self.d_head)\n",
    "        self.out = nn.Linear(self.n_heads * self.d_head, self.d_embed)\n",
    "        \n",
    "    def forward(self, x):  # [batch_size, context_size, d_embed]\n",
    "        batch_size, context_size, _ = x.size()\n",
    "        q = self.query(x).view(batch_size, context_size, self.n_heads, self.d_head)\n",
    "        k = self.key(x).view(batch_size, context_size, self.n_heads, self.d_head)\n",
    "        v = self.value(x).view(batch_size, context_size, self.n_heads, self.d_head)\n",
    "        \n",
    "        q = q.transpose(1, 2)  # [batch_size, n_heads, context_size, d_head]\n",
    "        k = k.transpose(1, 2)  # [batch_size, n_heads, context_size, d_head]\n",
    "        v = v.transpose(1, 2)  # [batch_size, n_heads, context_size, d_head]\n",
    "        \n",
    "        attention = F.softmax(torch.matmul(q, k.transpose(-2, -1)) / np.sqrt(self.d_head), dim=-1)  # [batch_size, n_heads, context_size, context_size]\n",
    "        x = torch.matmul(attention, v)  # [batch_size, n_heads, context_size, d_head]\n",
    "        x = x.transpose(1, 2).contiguous().view(batch_size, context_size, self.n_heads * self.d_head)\n",
    "        x = self.out(x)\n",
    "        return x"
   ],
   "id": "e494bcfff1d325db",
   "outputs": [],
   "execution_count": 22
  },
  {
   "metadata": {
    "ExecuteTime": {
     "end_time": "2024-10-10T02:36:43.201440Z",
     "start_time": "2024-10-10T02:36:43.198379Z"
    }
   },
   "cell_type": "code",
   "source": [
    "class MLP(nn.Module):\n",
    "    def __init__(self, d_embed: int, d_ff: int, dropout: float):\n",
    "        super().__init__()\n",
    "        self.d_embed = d_embed\n",
    "        self.d_ff = d_ff\n",
    "        self.dropout = dropout\n",
    "        \n",
    "        self.fc1 = nn.Linear(self.d_embed, self.d_ff)\n",
    "        self.fc2 = nn.Linear(self.d_ff, self.d_embed)\n",
    "        \n",
    "    def forward(self, x):  # [batch_size, context_size, d_embed]\n",
    "        x = F.gelu(self.fc1(x))  # [batch_size, context_size, d_ff]\n",
    "        x = F.dropout(x, p=self.dropout, training=self.training)\n",
    "        x = self.fc2(x)  # [batch_size, context_size, d_embed]\n",
    "        return x"
   ],
   "id": "6fd8d447487926af",
   "outputs": [],
   "execution_count": 23
  },
  {
   "metadata": {
    "ExecuteTime": {
     "end_time": "2024-10-10T02:36:43.205456Z",
     "start_time": "2024-10-10T02:36:43.202299Z"
    }
   },
   "cell_type": "code",
   "source": [
    "class Decoder(nn.Module):\n",
    "    def __init__(self, n_heads: int, d_embed: int, d_head: int, d_ff: int, dropout: float):\n",
    "        super().__init__()\n",
    "        self.n_heads = n_heads\n",
    "        self.d_embed = d_embed\n",
    "        self.d_head = d_head\n",
    "        self.d_ff = d_ff\n",
    "        self.dropout = dropout\n",
    "        \n",
    "        self.attention = CausalSelfAttention(d_embed=self.d_embed, n_heads=self.n_heads, d_head=self.d_head)\n",
    "        self.norm1 = nn.LayerNorm(self.d_embed)\n",
    "        \n",
    "        self.mlp = MLP(d_embed=self.d_embed, d_ff=self.d_ff, dropout=self.dropout)\n",
    "        self.norm2 = nn.LayerNorm(self.d_embed)\n",
    "        \n",
    "    def forward(self, x):  # [batch_size, context_size, d_embed]\n",
    "        x = x + self.attention(self.norm1(x))  # [batch_size, context_size, d_embed]\n",
    "        x = x + self.mlp(self.norm2(x))  # [batch_size, context_size, vocab_size]\n",
    "        return x"
   ],
   "id": "cc42bcdf9991bfc8",
   "outputs": [],
   "execution_count": 24
  },
  {
   "metadata": {
    "ExecuteTime": {
     "end_time": "2024-10-10T02:36:43.211360Z",
     "start_time": "2024-10-10T02:36:43.206345Z"
    }
   },
   "cell_type": "code",
   "source": [
    "class Transformer(nn.Module):\n",
    "    def __init__(self, config):\n",
    "        super().__init__()\n",
    "        self.vocab_size = config.vocab_size\n",
    "        self.context_size = config.context_size\n",
    "        self.n_layers = config.n_layers\n",
    "        self.n_heads = config.n_heads\n",
    "        self.d_embed = config.d_embed\n",
    "        self.d_head = config.d_head\n",
    "        self.d_ff = config.d_ff\n",
    "        self.dropout = config.dropout\n",
    "        self.max_len = config.max_len\n",
    "        \n",
    "        self.embedding = nn.Embedding(self.vocab_size, self.d_embed)\n",
    "        self.positional_embedding = nn.Embedding(self.context_size, self.d_embed)\n",
    "        self.decoder = nn.ModuleList([Decoder(n_heads=self.n_heads, d_embed=self.d_embed, d_head=self.d_head, d_ff=self.d_ff, dropout=self.dropout) for _ in range(self.n_layers)])\n",
    "        self.linear = nn.Linear(self.d_embed, self.vocab_size)\n",
    "        \n",
    "    def forward(self, x):  # [batch_size, context_size]\n",
    "        seq_len = x.size(1)\n",
    "        assert seq_len <= self.context_size, f\"Input sequence length {seq_len} exceeds context size {self.context_size}\"\n",
    "        x = self.embedding(x) + self.positional_embedding(torch.arange(seq_len, device=x.device))  # [batch_size, context_size, d_embed]\n",
    "        for decoder in self.decoder:\n",
    "            x = decoder(x)  # [batch_size, context_size, d_embed]\n",
    "        x = self.linear(x)  # [batch_size, context_size, vocab_size]\n",
    "        return x\n",
    "    \n",
    "    def loss(self, x, y):  # y: [batch_size, context_size]\n",
    "        y = y.view(-1)  # [batch_size * context_size]\n",
    "        y_pred = self.forward(x)  # [batch_size, context_size, vocab_size]\n",
    "        y_pred = y_pred.view(-1, self.vocab_size)  # [batch_size * context_size, vocab_size]\n",
    "        return F.cross_entropy(y_pred, y)\n",
    "    \n",
    "    @torch.no_grad()\n",
    "    def generate(self, x, max_len = None):\n",
    "        self.eval()\n",
    "        if max_len is None:\n",
    "            max_len = self.max_len\n",
    "        for _ in range(max_len):  # x: [batch_size, context]\n",
    "            context = x[:, :self.context_size]  # [batch_size, context_size]\n",
    "            output = self.forward(context)  # [batch_size, context_size, vocab_size]\n",
    "            output = torch.argmax(output, dim=-1)  # [batch_size, context_size]\n",
    "            x = torch.cat((x, output[:, -1].unsqueeze(-1)), dim=-1)\n",
    "        return x"
   ],
   "id": "3f5c148600cd2481",
   "outputs": [],
   "execution_count": 25
  },
  {
   "metadata": {
    "ExecuteTime": {
     "end_time": "2024-10-10T02:36:43.217571Z",
     "start_time": "2024-10-10T02:36:43.212253Z"
    }
   },
   "cell_type": "code",
   "source": [
    "transformer = Transformer(CONFIG).to(CONFIG.device)\n",
    "print(transformer)"
   ],
   "id": "fcccf6690af610b2",
   "outputs": [
    {
     "name": "stdout",
     "output_type": "stream",
     "text": [
      "Transformer(\n",
      "  (embedding): Embedding(65, 128)\n",
      "  (positional_embedding): Embedding(8, 128)\n",
      "  (decoder): ModuleList(\n",
      "    (0-1): 2 x Decoder(\n",
      "      (attention): CausalSelfAttention(\n",
      "        (query): Linear(in_features=128, out_features=128, bias=True)\n",
      "        (key): Linear(in_features=128, out_features=128, bias=True)\n",
      "        (value): Linear(in_features=128, out_features=128, bias=True)\n",
      "        (out): Linear(in_features=128, out_features=128, bias=True)\n",
      "      )\n",
      "      (norm1): LayerNorm((128,), eps=1e-05, elementwise_affine=True)\n",
      "      (mlp): MLP(\n",
      "        (fc1): Linear(in_features=128, out_features=512, bias=True)\n",
      "        (fc2): Linear(in_features=512, out_features=128, bias=True)\n",
      "      )\n",
      "      (norm2): LayerNorm((128,), eps=1e-05, elementwise_affine=True)\n",
      "    )\n",
      "  )\n",
      "  (linear): Linear(in_features=128, out_features=65, bias=True)\n",
      ")\n"
     ]
    }
   ],
   "execution_count": 26
  },
  {
   "metadata": {
    "ExecuteTime": {
     "end_time": "2024-10-10T02:37:13.911865Z",
     "start_time": "2024-10-10T02:36:43.218574Z"
    }
   },
   "cell_type": "code",
   "source": [
    "loss = transformer.loss(sample_x, sample_y)\n",
    "print(loss)\n",
    "\n",
    "sample_generated_text = transformer.generate(sample_x, max_len=100)\n",
    "print(decode(sample_generated_text.tolist()[0]))"
   ],
   "id": "50b754a1e3dc501e",
   "outputs": [
    {
     "name": "stdout",
     "output_type": "stream",
     "text": [
      "tensor(4.3803, grad_fn=<NllLossBackward0>)\n",
      "OMEO:\n",
      "Mebbbbbbbbbbbbbbbbbbbbbbbbbbbbbbbbbbbbbbbbbbbbbbbbbbbbbbbbbbbbbbbbbbbbbbbbbbbbbbbbbbbbbbbbbbbbbbbbbbbb\n"
     ]
    }
   ],
   "execution_count": 27
  },
  {
   "metadata": {},
   "cell_type": "markdown",
   "source": "# Training",
   "id": "9152c0417c1460c0"
  },
  {
   "metadata": {
    "ExecuteTime": {
     "start_time": "2024-10-10T02:37:13.914875Z"
    }
   },
   "cell_type": "code",
   "source": [
    "def train(model):\n",
    "    model = model.to(CONFIG.device)\n",
    "    #criterion = nn.CrossEntropyLoss()\n",
    "    optimizer = optim.AdamW(model.parameters(), lr=CONFIG.learning_rate)\n",
    "    \n",
    "    train_loss = []\n",
    "    validation_loss = []\n",
    "    \n",
    "    for epoch in range(CONFIG.epochs):\n",
    "        model.train()\n",
    "        running_loss = 0.0\n",
    "        for x, y in tqdm(train_loader, desc=f'Epoch {epoch + 1}/{CONFIG.epochs}'):\n",
    "            x, y = x.to(CONFIG.device), y.to(CONFIG.device)\n",
    "            optimizer.zero_grad()\n",
    "            loss = model.loss(x, y)\n",
    "            loss.backward()\n",
    "            optimizer.step()\n",
    "            running_loss += loss.item()\n",
    "        \n",
    "        train_loss.append(running_loss / len(train_loader))\n",
    "        print(f'Training Loss: {running_loss / len(train_loader)}')\n",
    "        \n",
    "        model.eval()\n",
    "        running_loss = 0.0\n",
    "        with torch.no_grad():\n",
    "            for x, y in validation_loader:\n",
    "                x, y = x.to(CONFIG.device), y.to(CONFIG.device)\n",
    "                loss = model.loss(x, y)\n",
    "                running_loss += loss.item()\n",
    "                \n",
    "        validation_loss.append(running_loss / len(validation_loader))\n",
    "        print(f'Validation Loss: {running_loss / len(validation_loader)}')\n",
    "        \n",
    "    plt.plot(train_loss, label='Training Loss')\n",
    "    plt.plot(validation_loss, label='Validation Loss')\n",
    "    plt.xlabel('Epochs')\n",
    "    plt.ylabel('Loss')\n",
    "    plt.legend()\n",
    "    plt.show()"
   ],
   "id": "d6d9a89eb674e287",
   "outputs": [],
   "execution_count": null
  },
  {
   "metadata": {
    "ExecuteTime": {
     "end_time": "2024-10-10T02:37:19.687001Z",
     "start_time": "2024-10-10T02:37:13.918401Z"
    }
   },
   "cell_type": "code",
   "source": "train(bigram)",
   "id": "80f4e3fe21dc0a9f",
   "outputs": [
    {
     "name": "stderr",
     "output_type": "stream",
     "text": [
      "Epoch 1/1: 100%|██████████| 109/109 [00:04<00:00, 24.04it/s]\n"
     ]
    },
    {
     "name": "stdout",
     "output_type": "stream",
     "text": [
      "Training Loss: 4.275523583823388\n",
      "Validation Loss: 4.248197589601789\n"
     ]
    },
    {
     "data": {
      "text/plain": [
       "<Figure size 640x480 with 1 Axes>"
      ],
      "image/png": "[encoded data removed]"
     },
     "metadata": {},
     "output_type": "display_data"
    }
   ],
   "execution_count": 29
  },
  {
   "metadata": {
    "ExecuteTime": {
     "end_time": "2024-10-10T02:39:19.096623Z",
     "start_time": "2024-10-10T02:37:19.688746Z"
    }
   },
   "cell_type": "code",
   "source": "train(transformer)",
   "id": "ce3de26b6159e2b3",
   "outputs": [
    {
     "name": "stderr",
     "output_type": "stream",
     "text": [
      "Epoch 1/1: 100%|██████████| 109/109 [01:48<00:00,  1.01it/s]\n"
     ]
    },
    {
     "name": "stdout",
     "output_type": "stream",
     "text": [
      "Training Loss: 3.9876291773734835\n",
      "Validation Loss: 3.614668164934431\n"
     ]
    },
    {
     "data": {
      "text/plain": [
       "<Figure size 640x480 with 1 Axes>"
      ],
      "image/png": "[encoded data removed]"
     },
     "metadata": {},
     "output_type": "display_data"
    }
   ],
   "execution_count": 30
  },
  {
   "metadata": {},
   "cell_type": "markdown",
   "source": "# Inference",
   "id": "173c87147a8f93ff"
  },
  {
   "metadata": {
    "ExecuteTime": {
     "end_time": "2024-10-10T02:44:06.695124Z",
     "start_time": "2024-10-10T02:39:19.098704Z"
    }
   },
   "cell_type": "code",
   "source": [
    "sample_generated_text = bigram.generate(sample_x)\n",
    "print(decode(sample_generated_text.tolist()[0]))"
   ],
   "id": "f30dfa6a6cf77f89",
   "outputs": [
    {
     "ename": "KeyboardInterrupt",
     "evalue": "",
     "output_type": "error",
     "traceback": [
      "\u001B[0;31m---------------------------------------------------------------------------\u001B[0m",
      "\u001B[0;31mKeyboardInterrupt\u001B[0m                         Traceback (most recent call last)",
      "Cell \u001B[0;32mIn[31], line 1\u001B[0m\n\u001B[0;32m----> 1\u001B[0m sample_generated_text \u001B[38;5;241m=\u001B[39m bigram\u001B[38;5;241m.\u001B[39mgenerate(sample_x)\n\u001B[1;32m      2\u001B[0m \u001B[38;5;28mprint\u001B[39m(decode(sample_generated_text\u001B[38;5;241m.\u001B[39mtolist()[\u001B[38;5;241m0\u001B[39m]))\n",
      "File \u001B[0;32m/opt/anaconda3/envs/torch-env/lib/python3.12/site-packages/torch/utils/_contextlib.py:116\u001B[0m, in \u001B[0;36mcontext_decorator.<locals>.decorate_context\u001B[0;34m(*args, **kwargs)\u001B[0m\n\u001B[1;32m    113\u001B[0m \u001B[38;5;129m@functools\u001B[39m\u001B[38;5;241m.\u001B[39mwraps(func)\n\u001B[1;32m    114\u001B[0m \u001B[38;5;28;01mdef\u001B[39;00m \u001B[38;5;21mdecorate_context\u001B[39m(\u001B[38;5;241m*\u001B[39margs, \u001B[38;5;241m*\u001B[39m\u001B[38;5;241m*\u001B[39mkwargs):\n\u001B[1;32m    115\u001B[0m     \u001B[38;5;28;01mwith\u001B[39;00m ctx_factory():\n\u001B[0;32m--> 116\u001B[0m         \u001B[38;5;28;01mreturn\u001B[39;00m func(\u001B[38;5;241m*\u001B[39margs, \u001B[38;5;241m*\u001B[39m\u001B[38;5;241m*\u001B[39mkwargs)\n",
      "Cell \u001B[0;32mIn[19], line 28\u001B[0m, in \u001B[0;36mBigram.generate\u001B[0;34m(self, x, max_len)\u001B[0m\n\u001B[1;32m     26\u001B[0m     max_len \u001B[38;5;241m=\u001B[39m \u001B[38;5;28mself\u001B[39m\u001B[38;5;241m.\u001B[39mmax_len\n\u001B[1;32m     27\u001B[0m \u001B[38;5;28;01mfor\u001B[39;00m _ \u001B[38;5;129;01min\u001B[39;00m \u001B[38;5;28mrange\u001B[39m(max_len):  \u001B[38;5;66;03m# x: [batch_size, context]\u001B[39;00m\n\u001B[0;32m---> 28\u001B[0m     output \u001B[38;5;241m=\u001B[39m \u001B[38;5;28mself\u001B[39m\u001B[38;5;241m.\u001B[39mforward(x)  \u001B[38;5;66;03m# [batch_size, context_size, vocab_size]\u001B[39;00m\n\u001B[1;32m     29\u001B[0m     output \u001B[38;5;241m=\u001B[39m torch\u001B[38;5;241m.\u001B[39margmax(output, dim\u001B[38;5;241m=\u001B[39m\u001B[38;5;241m-\u001B[39m\u001B[38;5;241m1\u001B[39m)  \u001B[38;5;66;03m# [batch_size, context_size]\u001B[39;00m\n\u001B[1;32m     30\u001B[0m     x \u001B[38;5;241m=\u001B[39m torch\u001B[38;5;241m.\u001B[39mcat((x, output[:, \u001B[38;5;241m-\u001B[39m\u001B[38;5;241m1\u001B[39m]\u001B[38;5;241m.\u001B[39munsqueeze(\u001B[38;5;241m-\u001B[39m\u001B[38;5;241m1\u001B[39m)), dim\u001B[38;5;241m=\u001B[39m\u001B[38;5;241m-\u001B[39m\u001B[38;5;241m1\u001B[39m)\n",
      "Cell \u001B[0;32mIn[19], line 13\u001B[0m, in \u001B[0;36mBigram.forward\u001B[0;34m(self, x)\u001B[0m\n\u001B[1;32m     11\u001B[0m \u001B[38;5;28;01mdef\u001B[39;00m \u001B[38;5;21mforward\u001B[39m(\u001B[38;5;28mself\u001B[39m, x):  \u001B[38;5;66;03m# [batch_size, context_size]\u001B[39;00m\n\u001B[1;32m     12\u001B[0m     x \u001B[38;5;241m=\u001B[39m \u001B[38;5;28mself\u001B[39m\u001B[38;5;241m.\u001B[39membedding(x)  \u001B[38;5;66;03m# [batch_size, context_size, d_embed]\u001B[39;00m\n\u001B[0;32m---> 13\u001B[0m     x \u001B[38;5;241m=\u001B[39m \u001B[38;5;28mself\u001B[39m\u001B[38;5;241m.\u001B[39mlinear(x)  \u001B[38;5;66;03m# [batch_size, context_size, vocab_size]\u001B[39;00m\n\u001B[1;32m     14\u001B[0m     \u001B[38;5;28;01mreturn\u001B[39;00m x\n",
      "File \u001B[0;32m/opt/anaconda3/envs/torch-env/lib/python3.12/site-packages/torch/nn/modules/module.py:1553\u001B[0m, in \u001B[0;36mModule._wrapped_call_impl\u001B[0;34m(self, *args, **kwargs)\u001B[0m\n\u001B[1;32m   1551\u001B[0m     \u001B[38;5;28;01mreturn\u001B[39;00m \u001B[38;5;28mself\u001B[39m\u001B[38;5;241m.\u001B[39m_compiled_call_impl(\u001B[38;5;241m*\u001B[39margs, \u001B[38;5;241m*\u001B[39m\u001B[38;5;241m*\u001B[39mkwargs)  \u001B[38;5;66;03m# type: ignore[misc]\u001B[39;00m\n\u001B[1;32m   1552\u001B[0m \u001B[38;5;28;01melse\u001B[39;00m:\n\u001B[0;32m-> 1553\u001B[0m     \u001B[38;5;28;01mreturn\u001B[39;00m \u001B[38;5;28mself\u001B[39m\u001B[38;5;241m.\u001B[39m_call_impl(\u001B[38;5;241m*\u001B[39margs, \u001B[38;5;241m*\u001B[39m\u001B[38;5;241m*\u001B[39mkwargs)\n",
      "File \u001B[0;32m/opt/anaconda3/envs/torch-env/lib/python3.12/site-packages/torch/nn/modules/module.py:1562\u001B[0m, in \u001B[0;36mModule._call_impl\u001B[0;34m(self, *args, **kwargs)\u001B[0m\n\u001B[1;32m   1557\u001B[0m \u001B[38;5;66;03m# If we don't have any hooks, we want to skip the rest of the logic in\u001B[39;00m\n\u001B[1;32m   1558\u001B[0m \u001B[38;5;66;03m# this function, and just call forward.\u001B[39;00m\n\u001B[1;32m   1559\u001B[0m \u001B[38;5;28;01mif\u001B[39;00m \u001B[38;5;129;01mnot\u001B[39;00m (\u001B[38;5;28mself\u001B[39m\u001B[38;5;241m.\u001B[39m_backward_hooks \u001B[38;5;129;01mor\u001B[39;00m \u001B[38;5;28mself\u001B[39m\u001B[38;5;241m.\u001B[39m_backward_pre_hooks \u001B[38;5;129;01mor\u001B[39;00m \u001B[38;5;28mself\u001B[39m\u001B[38;5;241m.\u001B[39m_forward_hooks \u001B[38;5;129;01mor\u001B[39;00m \u001B[38;5;28mself\u001B[39m\u001B[38;5;241m.\u001B[39m_forward_pre_hooks\n\u001B[1;32m   1560\u001B[0m         \u001B[38;5;129;01mor\u001B[39;00m _global_backward_pre_hooks \u001B[38;5;129;01mor\u001B[39;00m _global_backward_hooks\n\u001B[1;32m   1561\u001B[0m         \u001B[38;5;129;01mor\u001B[39;00m _global_forward_hooks \u001B[38;5;129;01mor\u001B[39;00m _global_forward_pre_hooks):\n\u001B[0;32m-> 1562\u001B[0m     \u001B[38;5;28;01mreturn\u001B[39;00m forward_call(\u001B[38;5;241m*\u001B[39margs, \u001B[38;5;241m*\u001B[39m\u001B[38;5;241m*\u001B[39mkwargs)\n\u001B[1;32m   1564\u001B[0m \u001B[38;5;28;01mtry\u001B[39;00m:\n\u001B[1;32m   1565\u001B[0m     result \u001B[38;5;241m=\u001B[39m \u001B[38;5;28;01mNone\u001B[39;00m\n",
      "File \u001B[0;32m/opt/anaconda3/envs/torch-env/lib/python3.12/site-packages/torch/nn/modules/linear.py:117\u001B[0m, in \u001B[0;36mLinear.forward\u001B[0;34m(self, input)\u001B[0m\n\u001B[1;32m    116\u001B[0m \u001B[38;5;28;01mdef\u001B[39;00m \u001B[38;5;21mforward\u001B[39m(\u001B[38;5;28mself\u001B[39m, \u001B[38;5;28minput\u001B[39m: Tensor) \u001B[38;5;241m-\u001B[39m\u001B[38;5;241m>\u001B[39m Tensor:\n\u001B[0;32m--> 117\u001B[0m     \u001B[38;5;28;01mreturn\u001B[39;00m F\u001B[38;5;241m.\u001B[39mlinear(\u001B[38;5;28minput\u001B[39m, \u001B[38;5;28mself\u001B[39m\u001B[38;5;241m.\u001B[39mweight, \u001B[38;5;28mself\u001B[39m\u001B[38;5;241m.\u001B[39mbias)\n",
      "\u001B[0;31mKeyboardInterrupt\u001B[0m: "
     ]
    }
   ],
   "execution_count": 31
  },
  {
   "metadata": {},
   "cell_type": "code",
   "source": [
    "sample_generated_tex = transformer.generate(sample_x)\n",
    "print(decode(sample_generated_text.tolist()[0]))"
   ],
   "id": "111eccac3adaccfb",
   "outputs": [],
   "execution_count": null
  }
 ],
 "metadata": {
  "kernelspec": {
   "display_name": "Python 3",
   "language": "python",
   "name": "python3"
  },
  "language_info": {
   "codemirror_mode": {
    "name": "ipython",
    "version": 2
   },
   "file_extension": ".py",
   "mimetype": "text/x-python",
   "name": "python",
   "nbconvert_exporter": "python",
   "pygments_lexer": "ipython2",
   "version": "2.7.6"
  }
 },
 "nbformat": 4,
 "nbformat_minor": 5
}
