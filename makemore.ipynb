{
 "cells": [
  {
   "metadata": {},
   "cell_type": "markdown",
   "source": "## Imports",
   "id": "a7352989d35100"
  },
  {
   "cell_type": "code",
   "id": "initial_id",
   "metadata": {
    "collapsed": true,
    "ExecuteTime": {
     "end_time": "2024-04-18T05:52:18.816094Z",
     "start_time": "2024-04-18T05:52:18.619550Z"
    }
   },
   "source": [
    "from IPython.display import display, Markdown\n",
    "import matplotlib.pyplot as plt"
   ],
   "outputs": [],
   "execution_count": 1
  },
  {
   "metadata": {},
   "cell_type": "markdown",
   "source": "## Dataset",
   "id": "6f458288543b8831"
  },
  {
   "metadata": {
    "ExecuteTime": {
     "end_time": "2024-04-18T05:52:18.819765Z",
     "start_time": "2024-04-18T05:52:18.817403Z"
    }
   },
   "cell_type": "code",
   "source": [
    "# dataset path\n",
    "dataset_path = 'data/'"
   ],
   "id": "85cb83c2dbcab34d",
   "outputs": [],
   "execution_count": 2
  },
  {
   "metadata": {
    "ExecuteTime": {
     "end_time": "2024-04-18T05:52:18.826379Z",
     "start_time": "2024-04-18T05:52:18.820835Z"
    }
   },
   "cell_type": "code",
   "source": [
    "# names dataset\n",
    "names_dataset = dataset_path + 'names.txt'"
   ],
   "id": "8c959f828cc159df",
   "outputs": [],
   "execution_count": 3
  },
  {
   "metadata": {
    "ExecuteTime": {
     "end_time": "2024-04-18T05:52:18.839950Z",
     "start_time": "2024-04-18T05:52:18.827758Z"
    }
   },
   "cell_type": "code",
   "source": [
    "# read the dataset\n",
    "with open(names_dataset, 'r') as f:\n",
    "    names_text = f.readlines()"
   ],
   "id": "f660806a8812e4d",
   "outputs": [],
   "execution_count": 4
  },
  {
   "metadata": {
    "ExecuteTime": {
     "end_time": "2024-04-18T05:52:18.848213Z",
     "start_time": "2024-04-18T05:52:18.840921Z"
    }
   },
   "cell_type": "code",
   "source": [
    "# remove the new line character\n",
    "names_text = [name.strip() for name in names_text]"
   ],
   "id": "415f06348d2fe3ea",
   "outputs": [],
   "execution_count": 5
  },
  {
   "metadata": {
    "ExecuteTime": {
     "end_time": "2024-04-18T05:52:18.858083Z",
     "start_time": "2024-04-18T05:52:18.849343Z"
    }
   },
   "cell_type": "code",
   "source": [
    "# print the first 10 names\n",
    "names_text[:10]"
   ],
   "id": "75a57597da47e84f",
   "outputs": [
    {
     "data": {
      "text/plain": [
       "['emma',\n",
       " 'olivia',\n",
       " 'ava',\n",
       " 'isabella',\n",
       " 'sophia',\n",
       " 'charlotte',\n",
       " 'mia',\n",
       " 'amelia',\n",
       " 'harper',\n",
       " 'evelyn']"
      ]
     },
     "execution_count": 6,
     "metadata": {},
     "output_type": "execute_result"
    }
   ],
   "execution_count": 6
  },
  {
   "metadata": {
    "ExecuteTime": {
     "end_time": "2024-04-18T05:52:18.868340Z",
     "start_time": "2024-04-18T05:52:18.858901Z"
    }
   },
   "cell_type": "code",
   "source": [
    "# number of names\n",
    "display(Markdown(f'### Number of names: {len(names_text)}'))"
   ],
   "id": "c8dab684f6d70994",
   "outputs": [
    {
     "data": {
      "text/plain": [
       "<IPython.core.display.Markdown object>"
      ],
      "text/markdown": "### Number of names: 32033"
     },
     "metadata": {},
     "output_type": "display_data"
    }
   ],
   "execution_count": 7
  },
  {
   "metadata": {
    "ExecuteTime": {
     "end_time": "2024-04-18T05:52:18.880977Z",
     "start_time": "2024-04-18T05:52:18.869337Z"
    }
   },
   "cell_type": "code",
   "source": [
    "# check for duplicates\n",
    "duplicates = len(names_text) - len(set(names_text))\n",
    "display(Markdown(f'### Number of duplicates: {duplicates}'))"
   ],
   "id": "7a1437fbf1d03228",
   "outputs": [
    {
     "data": {
      "text/plain": [
       "<IPython.core.display.Markdown object>"
      ],
      "text/markdown": "### Number of duplicates: 2539"
     },
     "metadata": {},
     "output_type": "display_data"
    }
   ],
   "execution_count": 8
  },
  {
   "metadata": {
    "ExecuteTime": {
     "end_time": "2024-04-18T05:52:18.893140Z",
     "start_time": "2024-04-18T05:52:18.881952Z"
    }
   },
   "cell_type": "code",
   "source": [
    "# minimum name length\n",
    "min_name_length = min([len(name) for name in names_text])\n",
    "display(Markdown(f'### Minimum name length: {min_name_length}'))\n",
    "\n",
    "# maximum name length\n",
    "max_name_length = max([len(name) for name in names_text])\n",
    "display(Markdown(f'### Maximum name length: {max_name_length}'))"
   ],
   "id": "1dc43a8c84f76212",
   "outputs": [
    {
     "data": {
      "text/plain": [
       "<IPython.core.display.Markdown object>"
      ],
      "text/markdown": "### Minimum name length: 2"
     },
     "metadata": {},
     "output_type": "display_data"
    },
    {
     "data": {
      "text/plain": [
       "<IPython.core.display.Markdown object>"
      ],
      "text/markdown": "### Maximum name length: 15"
     },
     "metadata": {},
     "output_type": "display_data"
    }
   ],
   "execution_count": 9
  },
  {
   "metadata": {
    "ExecuteTime": {
     "end_time": "2024-04-18T05:52:18.986146Z",
     "start_time": "2024-04-18T05:52:18.894670Z"
    }
   },
   "cell_type": "code",
   "source": [
    "# name length distribution\n",
    "name_length_distribution = {length: 0 for length in range(min_name_length, max_name_length + 1)}\n",
    "for name in names_text:\n",
    "    name_length_distribution[len(name)] += 1\n",
    "    \n",
    "plt.bar(name_length_distribution.keys(), name_length_distribution.values())\n",
    "plt.xlabel('Name Length')\n",
    "plt.ylabel('Frequency')\n",
    "plt.title('Name Length Distribution')\n",
    "plt.show()\n",
    "\n",
    "# name length statistics\n",
    "display(Markdown(f'### Name Length Statistics'))\n",
    "display(Markdown(f'#### Mean: {sum([length * count for length, count in name_length_distribution.items()]) / len(names_text)}'))"
   ],
   "id": "c136e6eeaaf5a8ef",
   "outputs": [
    {
     "data": {
      "text/plain": [
       "<Figure size 640x480 with 1 Axes>"
      ],
      "image/png": "[encoded data removed]"
     },
     "metadata": {},
     "output_type": "display_data"
    },
    {
     "data": {
      "text/plain": [
       "<IPython.core.display.Markdown object>"
      ],
      "text/markdown": "### Name Length Statistics"
     },
     "metadata": {},
     "output_type": "display_data"
    },
    {
     "data": {
      "text/plain": [
       "<IPython.core.display.Markdown object>"
      ],
      "text/markdown": "#### Mean: 6.122217712983486"
     },
     "metadata": {},
     "output_type": "display_data"
    }
   ],
   "execution_count": 10
  },
  {
   "metadata": {
    "ExecuteTime": {
     "end_time": "2024-04-18T05:52:18.992719Z",
     "start_time": "2024-04-18T05:52:18.987182Z"
    }
   },
   "cell_type": "code",
   "source": [
    "# number of unique characters\n",
    "unique_chars = set(''.join(names_text))\n",
    "display(Markdown(f'### Number of unique characters: {len(unique_chars)}'))\n",
    "display(Markdown(f'### Unique characters: {unique_chars}')) # number of alphabets"
   ],
   "id": "b0bc47054202b9d",
   "outputs": [
    {
     "data": {
      "text/plain": [
       "<IPython.core.display.Markdown object>"
      ],
      "text/markdown": "### Number of unique characters: 26"
     },
     "metadata": {},
     "output_type": "display_data"
    },
    {
     "data": {
      "text/plain": [
       "<IPython.core.display.Markdown object>"
      ],
      "text/markdown": "### Unique characters: {'h', 'o', 'z', 'm', 'y', 'j', 'c', 'r', 'n', 'e', 'i', 'u', 'k', 't', 'a', 'b', 'q', 'g', 'w', 'v', 'd', 'p', 's', 'l', 'f', 'x'}"
     },
     "metadata": {},
     "output_type": "display_data"
    }
   ],
   "execution_count": 11
  },
  {
   "metadata": {},
   "cell_type": "markdown",
   "source": "## Preprocessing",
   "id": "e5dd1e6037184d8e"
  },
  {
   "metadata": {
    "ExecuteTime": {
     "end_time": "2024-04-18T05:52:18.995644Z",
     "start_time": "2024-04-18T05:52:18.993787Z"
    }
   },
   "cell_type": "code",
   "source": "",
   "id": "7600b1456b0b1aa7",
   "outputs": [],
   "execution_count": 11
  },
  {
   "metadata": {},
   "cell_type": "markdown",
   "source": "### Tokenization",
   "id": "bed2d924ce05213f"
  },
  {
   "metadata": {
    "ExecuteTime": {
     "end_time": "2024-04-18T05:52:19.004839Z",
     "start_time": "2024-04-18T05:52:18.996608Z"
    }
   },
   "cell_type": "code",
   "source": [
    "# add start and end tokens\n",
    "names_text = ['<S>' + name + '<E>' for name in names_text]"
   ],
   "id": "d919b81982edb0e2",
   "outputs": [],
   "execution_count": 12
  },
  {
   "metadata": {
    "ExecuteTime": {
     "end_time": "2024-04-18T05:52:19.012717Z",
     "start_time": "2024-04-18T05:52:19.006111Z"
    }
   },
   "cell_type": "code",
   "source": [
    "# print the first 10 names\n",
    "names_text[:10]"
   ],
   "id": "683358ddd56f09af",
   "outputs": [
    {
     "data": {
      "text/plain": [
       "['<S>emma<E>',\n",
       " '<S>olivia<E>',\n",
       " '<S>ava<E>',\n",
       " '<S>isabella<E>',\n",
       " '<S>sophia<E>',\n",
       " '<S>charlotte<E>',\n",
       " '<S>mia<E>',\n",
       " '<S>amelia<E>',\n",
       " '<S>harper<E>',\n",
       " '<S>evelyn<E>']"
      ]
     },
     "execution_count": 13,
     "metadata": {},
     "output_type": "execute_result"
    }
   ],
   "execution_count": 13
  },
  {
   "metadata": {
    "ExecuteTime": {
     "end_time": "2024-04-18T05:52:19.019164Z",
     "start_time": "2024-04-18T05:52:19.013601Z"
    }
   },
   "cell_type": "code",
   "source": "#  number of unique tokens\n",
   "id": "f3910e4cd5eb2d2f",
   "outputs": [],
   "execution_count": 14
  },
  {
   "metadata": {
    "ExecuteTime": {
     "end_time": "2024-04-18T05:52:19.021989Z",
     "start_time": "2024-04-18T05:52:19.020219Z"
    }
   },
   "cell_type": "code",
   "source": "",
   "id": "f1d32a6ec4890335",
   "outputs": [],
   "execution_count": 14
  }
 ],
 "metadata": {
  "kernelspec": {
   "display_name": "Python 3",
   "language": "python",
   "name": "python3"
  },
  "language_info": {
   "codemirror_mode": {
    "name": "ipython",
    "version": 2
   },
   "file_extension": ".py",
   "mimetype": "text/x-python",
   "name": "python",
   "nbconvert_exporter": "python",
   "pygments_lexer": "ipython2",
   "version": "2.7.6"
  }
 },
 "nbformat": 4,
 "nbformat_minor": 5
}
