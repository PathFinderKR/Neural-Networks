{
 "cells": [
  {
   "metadata": {},
   "cell_type": "markdown",
   "source": "## Importing Libraries",
   "id": "a7352989d35100"
  },
  {
   "cell_type": "code",
   "id": "initial_id",
   "metadata": {
    "collapsed": true,
    "ExecuteTime": {
     "end_time": "2024-06-17T17:32:18.846017Z",
     "start_time": "2024-06-17T17:32:17.577972Z"
    }
   },
   "source": [
    "from tqdm import tqdm\n",
    "import matplotlib.pyplot as plt\n",
    "\n",
    "# pytorch\n",
    "import torch\n",
    "import torch.nn as nn\n",
    "import torch.nn.functional as F\n",
    "import torch.optim as optim\n",
    "from torch.utils.data import Dataset, DataLoader, random_split"
   ],
   "outputs": [],
   "execution_count": 1
  },
  {
   "metadata": {},
   "cell_type": "markdown",
   "source": "## Device",
   "id": "a50c1eb58e5f4c2c"
  },
  {
   "metadata": {
    "ExecuteTime": {
     "end_time": "2024-06-17T17:32:18.990062Z",
     "start_time": "2024-06-17T17:32:18.847523Z"
    }
   },
   "cell_type": "code",
   "source": [
    "# device setup\n",
    "device = (\n",
    "    \"cuda:0\" if torch.cuda.is_available() else # Nvidia GPU\n",
    "    \"mps\" if torch.backends.mps.is_available() else # Apple Silicon GPU\n",
    "    \"cpu\"\n",
    ")\n",
    "print(f\"Device = {device}\")"
   ],
   "id": "fee72239f746117b",
   "outputs": [
    {
     "name": "stdout",
     "output_type": "stream",
     "text": [
      "Device = cuda:0\n"
     ]
    }
   ],
   "execution_count": 2
  },
  {
   "metadata": {},
   "cell_type": "markdown",
   "source": "## Dataset",
   "id": "6f458288543b8831"
  },
  {
   "metadata": {
    "ExecuteTime": {
     "end_time": "2024-06-17T17:32:19.004550Z",
     "start_time": "2024-06-17T17:32:18.991064Z"
    }
   },
   "cell_type": "code",
   "source": [
    "# dataset path\n",
    "dataset_path = 'data/'\n",
    "\n",
    "# names dataset\n",
    "names_dataset = dataset_path + 'names.txt'\n",
    "\n",
    "# read the dataset\n",
    "with open(names_dataset, 'r') as f:\n",
    "    names_text = f.readlines()\n",
    "    \n",
    "# remove the new line character\n",
    "names_text = [name.strip() for name in names_text]"
   ],
   "id": "d06ad7a81d89424a",
   "outputs": [],
   "execution_count": 3
  },
  {
   "metadata": {
    "ExecuteTime": {
     "end_time": "2024-06-17T17:32:19.010097Z",
     "start_time": "2024-06-17T17:32:19.006045Z"
    }
   },
   "cell_type": "code",
   "source": [
    "# print the first 10 names\n",
    "names_text[:10]"
   ],
   "id": "75a57597da47e84f",
   "outputs": [
    {
     "data": {
      "text/plain": [
       "['emma',\n",
       " 'olivia',\n",
       " 'ava',\n",
       " 'isabella',\n",
       " 'sophia',\n",
       " 'charlotte',\n",
       " 'mia',\n",
       " 'amelia',\n",
       " 'harper',\n",
       " 'evelyn']"
      ]
     },
     "execution_count": 4,
     "metadata": {},
     "output_type": "execute_result"
    }
   ],
   "execution_count": 4
  },
  {
   "metadata": {
    "ExecuteTime": {
     "end_time": "2024-06-17T17:32:19.162041Z",
     "start_time": "2024-06-17T17:32:19.010982Z"
    }
   },
   "cell_type": "code",
   "source": [
    "# number of names\n",
    "print(f'Number of names: {len(names_text)}')\n",
    "\n",
    "# check for duplicates\n",
    "print(f'Number of duplicates: {len(names_text) - len(set(names_text))}')\n",
    "\n",
    "# minimum name length\n",
    "min_name_length = min([len(name) for name in names_text])\n",
    "print(f'Minimum Name Length: {min_name_length}')\n",
    "\n",
    "# maximum name length\n",
    "max_name_length = max([len(name) for name in names_text])\n",
    "print(f'Maximum Name Length: {max_name_length}')\n",
    "\n",
    "# name length statistics\n",
    "print(f'Average Name Length: {sum([len(name) for name in names_text]) / len(names_text)}')\n",
    "\n",
    "# name length distribution\n",
    "plt.hist([len(name) for name in names_text], bins=20)\n",
    "plt.xlabel('Name Length')\n",
    "plt.ylabel('Frequency')\n",
    "plt.title('Name Length Distribution')\n",
    "plt.show()"
   ],
   "id": "c8dab684f6d70994",
   "outputs": [
    {
     "name": "stdout",
     "output_type": "stream",
     "text": [
      "Number of names: 32033\n",
      "Number of duplicates: 2539\n",
      "Minimum Name Length: 2\n",
      "Maximum Name Length: 15\n",
      "Average Name Length: 6.122217712983486\n"
     ]
    },
    {
     "data": {
      "text/plain": [
       "<Figure size 640x480 with 1 Axes>"
      ],
      "image/png": "[encoded data removed]"
     },
     "metadata": {},
     "output_type": "display_data"
    }
   ],
   "execution_count": 5
  },
  {
   "metadata": {
    "ExecuteTime": {
     "end_time": "2024-06-17T17:32:19.166594Z",
     "start_time": "2024-06-17T17:32:19.162999Z"
    }
   },
   "cell_type": "code",
   "source": [
    "# number of unique characters\n",
    "unique_chars = sorted(list(set(''.join(names_text))))\n",
    "print(f'Number of Unique Characters: {len(unique_chars)}')\n",
    "\n",
    "# unique characters\n",
    "print(unique_chars)"
   ],
   "id": "698c56d75d5ed7ce",
   "outputs": [
    {
     "name": "stdout",
     "output_type": "stream",
     "text": [
      "Number of Unique Characters: 26\n",
      "['a', 'b', 'c', 'd', 'e', 'f', 'g', 'h', 'i', 'j', 'k', 'l', 'm', 'n', 'o', 'p', 'q', 'r', 's', 't', 'u', 'v', 'w', 'x', 'y', 'z']\n"
     ]
    }
   ],
   "execution_count": 6
  },
  {
   "metadata": {},
   "cell_type": "markdown",
   "source": "## Tokenization",
   "id": "bed2d924ce05213f"
  },
  {
   "metadata": {
    "ExecuteTime": {
     "end_time": "2024-06-17T17:32:19.173249Z",
     "start_time": "2024-06-17T17:32:19.167464Z"
    }
   },
   "cell_type": "code",
   "source": [
    "# add special token\n",
    "unique_chars = ['.', *unique_chars]"
   ],
   "id": "d919b81982edb0e2",
   "outputs": [],
   "execution_count": 7
  },
  {
   "metadata": {
    "ExecuteTime": {
     "end_time": "2024-06-17T17:32:19.180460Z",
     "start_time": "2024-06-17T17:32:19.174207Z"
    }
   },
   "cell_type": "code",
   "source": [
    "# create character to index mapping\n",
    "char2idx = {char: idx for idx, char in enumerate(unique_chars)}\n",
    "print(char2idx)\n",
    "\n",
    "# create index to character mapping\n",
    "idx2char = {idx: char for char, idx in char2idx.items()}\n",
    "print(idx2char)"
   ],
   "id": "5e45892cff2fdbc3",
   "outputs": [
    {
     "name": "stdout",
     "output_type": "stream",
     "text": [
      "{'.': 0, 'a': 1, 'b': 2, 'c': 3, 'd': 4, 'e': 5, 'f': 6, 'g': 7, 'h': 8, 'i': 9, 'j': 10, 'k': 11, 'l': 12, 'm': 13, 'n': 14, 'o': 15, 'p': 16, 'q': 17, 'r': 18, 's': 19, 't': 20, 'u': 21, 'v': 22, 'w': 23, 'x': 24, 'y': 25, 'z': 26}\n",
      "{0: '.', 1: 'a', 2: 'b', 3: 'c', 4: 'd', 5: 'e', 6: 'f', 7: 'g', 8: 'h', 9: 'i', 10: 'j', 11: 'k', 12: 'l', 13: 'm', 14: 'n', 15: 'o', 16: 'p', 17: 'q', 18: 'r', 19: 's', 20: 't', 21: 'u', 22: 'v', 23: 'w', 24: 'x', 25: 'y', 26: 'z'}\n"
     ]
    }
   ],
   "execution_count": 8
  },
  {
   "metadata": {},
   "cell_type": "markdown",
   "source": "## Hyperparameters",
   "id": "98d88eac13012f9e"
  },
  {
   "metadata": {
    "ExecuteTime": {
     "end_time": "2024-06-17T17:32:19.188827Z",
     "start_time": "2024-06-17T17:32:19.181421Z"
    }
   },
   "cell_type": "code",
   "source": [
    "# dataset parameters\n",
    "validation_split = 0.1\n",
    "\n",
    "# training parameters\n",
    "batch_size = 64\n",
    "learning_rate = 0.001\n",
    "num_epochs = 10\n",
    "\n",
    "# model parameters\n",
    "block_size = 3\n",
    "vocab_size = len(unique_chars)\n",
    "embedding_size = 64\n",
    "hidden_size = 128"
   ],
   "id": "771417970ecc4aa",
   "outputs": [],
   "execution_count": 9
  },
  {
   "metadata": {},
   "cell_type": "markdown",
   "source": "## Preprocessing",
   "id": "cebba426b9704c38"
  },
  {
   "metadata": {
    "ExecuteTime": {
     "end_time": "2024-06-17T17:32:19.196564Z",
     "start_time": "2024-06-17T17:32:19.190494Z"
    }
   },
   "cell_type": "code",
   "source": [
    "# add special token to names\n",
    "names_text = [name + '.' for name in names_text]"
   ],
   "id": "c8b5de8dd2317192",
   "outputs": [],
   "execution_count": 10
  },
  {
   "metadata": {
    "ExecuteTime": {
     "end_time": "2024-06-17T17:32:19.203978Z",
     "start_time": "2024-06-17T17:32:19.197447Z"
    }
   },
   "cell_type": "code",
   "source": [
    "# print the first 10 names\n",
    "names_text[:10]"
   ],
   "id": "683358ddd56f09af",
   "outputs": [
    {
     "data": {
      "text/plain": [
       "['emma.',\n",
       " 'olivia.',\n",
       " 'ava.',\n",
       " 'isabella.',\n",
       " 'sophia.',\n",
       " 'charlotte.',\n",
       " 'mia.',\n",
       " 'amelia.',\n",
       " 'harper.',\n",
       " 'evelyn.']"
      ]
     },
     "execution_count": 11,
     "metadata": {},
     "output_type": "execute_result"
    }
   ],
   "execution_count": 11
  },
  {
   "metadata": {
    "ExecuteTime": {
     "end_time": "2024-06-17T17:32:19.547361Z",
     "start_time": "2024-06-17T17:32:19.204903Z"
    }
   },
   "cell_type": "code",
   "source": [
    "# custom dataset: 3 characters -> 1 character\n",
    "class NamesDataset(Dataset):\n",
    "    def __init__(self, block_size):\n",
    "        self.block_size = block_size\n",
    "        self.data = []\n",
    "        \n",
    "        for name in names_text:\n",
    "            context = [0] * self.block_size\n",
    "            for char in name:\n",
    "                idx = char2idx[char]\n",
    "                self.data.append((context.copy(), idx))\n",
    "                context = context[1:] + [idx]\n",
    "    \n",
    "    def __len__(self):\n",
    "        return len(self.data)\n",
    "    \n",
    "    def __getitem__(self, idx):\n",
    "        X, Y = self.data[idx]\n",
    "        return torch.tensor(X, dtype=torch.long), torch.tensor(Y, dtype=torch.long)\n",
    "\n",
    "# create dataset\n",
    "names_dataset = NamesDataset(block_size)\n",
    "\n",
    "# validation split\n",
    "val_size = int(validation_split * len(names_dataset))\n",
    "train_size = len(names_dataset) - val_size\n",
    "train_dataset, val_dataset = random_split(names_dataset, [train_size, val_size])\n",
    "\n",
    "# create dataloader\n",
    "train_loader = DataLoader(train_dataset, batch_size=batch_size, shuffle=True)\n",
    "val_loader = DataLoader(val_dataset, batch_size=batch_size, shuffle=False)"
   ],
   "id": "f3910e4cd5eb2d2f",
   "outputs": [],
   "execution_count": 12
  },
  {
   "metadata": {
    "ExecuteTime": {
     "end_time": "2024-06-17T17:32:19.563561Z",
     "start_time": "2024-06-17T17:32:19.548466Z"
    }
   },
   "cell_type": "code",
   "source": [
    "# check the dataset\n",
    "X, Y = names_dataset[0]\n",
    "print(X.shape, Y.shape)\n",
    "\n",
    "# check the dataloader\n",
    "X, Y = next(iter(train_loader))\n",
    "print(X.shape, Y.shape)"
   ],
   "id": "f1d32a6ec4890335",
   "outputs": [
    {
     "name": "stdout",
     "output_type": "stream",
     "text": [
      "torch.Size([3]) torch.Size([])\n",
      "torch.Size([64, 3]) torch.Size([64])\n"
     ]
    }
   ],
   "execution_count": 13
  },
  {
   "metadata": {},
   "cell_type": "markdown",
   "source": "## Model",
   "id": "9b1fb3b9f35085c0"
  },
  {
   "metadata": {},
   "cell_type": "code",
   "outputs": [],
   "execution_count": null,
   "source": [
    "class Linear:\n",
    "    def __init__(self, in_features, out_features):\n",
    "        self.in_features = in_features\n",
    "        self.out_features = out_features\n",
    "        self.weight = torch.randn(in_features, out_features) * (5/3) / ((in_features + out_features) ** 0.5)\n",
    "        self.bias = torch.randn(out_features) * 0.01\n",
    "        \n",
    "    def forward(self, x):\n",
    "        self.x = x\n",
    "        return x @ self.weight + self.bias\n",
    "    \n",
    "    def backward(self, dy):\n",
    "        self.dW = self.x.t() @ dy\n",
    "        self.db = dy.sum(dim=0)\n",
    "        dx = dy @ self.weight.t()\n",
    "        return dx\n",
    "    \n",
    "    def update(self, lr):\n",
    "        self.weight -= lr * self.dW\n",
    "        self.bias -= lr * self.db"
   ],
   "id": "218ca8edcf1ae649"
  },
  {
   "metadata": {},
   "cell_type": "code",
   "outputs": [],
   "execution_count": null,
   "source": [
    "class Tanh:\n",
    "    def forward(self, x):\n",
    "        self.x = x\n",
    "        return torch.tanh(x)\n",
    "    \n",
    "    def backward(self, dy):\n",
    "        return dy * (1 - self.x ** 2)"
   ],
   "id": "3e9fdd1f26fee83d"
  },
  {
   "metadata": {},
   "cell_type": "code",
   "outputs": [],
   "execution_count": null,
   "source": [
    "class Softmax:\n",
    "    def forward(self, x):\n",
    "        exps = torch.exp(x)\n",
    "        return exps / exps.sum(dim=-1, keepdim=True)\n",
    "    \n",
    "    def backward(self, dy):\n",
    "        return dy"
   ],
   "id": "d4fdb2596007ee7b"
  },
  {
   "metadata": {},
   "cell_type": "code",
   "outputs": [],
   "execution_count": null,
   "source": [
    "class BatchNorm1d:\n",
    "    def __init__(self, num_features):\n",
    "        self.num_features = num_features\n",
    "        self.gamma = torch.ones(num_features)\n",
    "        self.beta = torch.zeros(num_features)\n",
    "        self.eps = 1e-5\n",
    "        self.moving_mean = torch.zeros(num_features)\n",
    "        self.moving_var = torch.ones(num_features)\n",
    "        \n",
    "    def forward(self, x, training=True):\n",
    "        if training:\n",
    "            mean = x.mean(dim=0)\n",
    "            var = x.var(dim=0)\n",
    "            x_hat = (x - mean) / torch.sqrt(var + self.eps)\n",
    "            self.moving_mean = 0.9 * self.moving_mean + 0.1 * mean\n",
    "            self.moving_var = 0.9 * self.moving_var + 0.1 * var\n",
    "        else:\n",
    "            x_hat = (x - self.moving_mean) / torch.sqrt(self.moving_var + self.eps)\n",
    "        return self.gamma * x_hat + self.beta\n",
    "    \n",
    "    def backward(self, dy):\n",
    "        m = dy.size(0)\n",
    "        dx_hat = dy * self.gamma\n",
    "        dgamma = (dy * self.x).sum(dim=0)\n",
    "        dbeta = dy.sum(dim=0)\n",
    "        dx = (m * dx_hat - dx_hat.sum(dim=0) - self.x * (dx_hat * self.x).sum(dim=0)) / (m * torch.sqrt(self.moving_var + self.eps))\n",
    "        return dx, dgamma, dbeta"
   ],
   "id": "805057367162c2c2"
  },
  {
   "metadata": {},
   "cell_type": "code",
   "outputs": [],
   "execution_count": null,
   "source": [
    "class embedding:\n",
    "    def __init__(self, vocab_size, embedding_size):\n",
    "        self.embedding = torch.randn(vocab_size, embedding_size)\n",
    "        \n",
    "    def forward(self, x):\n",
    "        return self.embedding[x]\n",
    "    \n",
    "    def backward(self, dy):\n",
    "        dW = torch.zeros_like(self.embedding)\n",
    "        dW[self.x] = dy\n",
    "        return dW"
   ],
   "id": "8c084d245cd9e3c0"
  },
  {
   "metadata": {
    "ExecuteTime": {
     "end_time": "2024-06-17T17:32:19.713826Z",
     "start_time": "2024-06-17T17:32:19.564731Z"
    }
   },
   "cell_type": "code",
   "source": [
    "\"\"\"\n",
    "class MLP(nn.Module):\n",
    "    def __init__(self, vocab_size, embedding_size, hidden_size):\n",
    "        super(MLP, self).__init__()\n",
    "        self.embedding = nn.Embedding(vocab_size, embedding_size)\n",
    "        self.fc1 = nn.Linear(embedding_size * block_size, hidden_size)\n",
    "        self.batch_norm = nn.BatchNorm1d(hidden_size)\n",
    "        self.fc2 = nn.Linear(hidden_size, vocab_size)\n",
    "        \n",
    "    def forward(self, x):\n",
    "        x = self.embedding(x)\n",
    "        x = x.view(x.size(0), -1)\n",
    "        x = F.tanh(self.fc1(x))\n",
    "        x = self.batch_norm(x)\n",
    "        x = self.fc2(x)\n",
    "        return x\n",
    "\"\"\"\n",
    "class MLP():\n",
    "    def __init__(self, vocab_size, embedding_size, hidden_size):\n",
    "        self.embedding = embedding(vocab_size, embedding_size)\n",
    "        self.fc1 = Linear(embedding_size * block_size, hidden_size)\n",
    "        self.tanh = Tanh()\n",
    "        self.fc2 = Linear(hidden_size, vocab_size)\n",
    "        self.batch_norm = BatchNorm1d(hidden_size)\n",
    "        self.softmax = Softmax()\n",
    "        \n",
    "    def forward(self, x):\n",
    "        x = self.embedding.forward(x)\n",
    "        self.x1 = self.fc1.forward(x)\n",
    "        x = self.tanh.forward(self.x1)\n",
    "        x = self.batch_norm.forward(x)\n",
    "        self.x2 = self.fc2.forward(x)\n",
    "        return self.softmax.forward(self.x2)\n",
    "    \n",
    "    def backward(self, dy):\n",
    "        dy = self.softmax.backward(dy)\n",
    "        dy = self.fc2.backward(dy)\n",
    "        dy = self.batch_norm.backward(dy)\n",
    "        dy = self.tanh.backward(dy)\n",
    "        dy = self.fc1.backward(dy)\n",
    "        return dy\n",
    "    \n",
    "    def update(self, lr):\n",
    "        self.fc1.update(lr)\n",
    "        self.fc2.update(lr)\n",
    "        self.batch_norm.gamma -= lr * self.batch_norm.dgamma\n",
    "        self.batch_norm.beta -= lr * self.batch_norm.dbeta\n",
    "        \n",
    "    def train(self, X, Y, lr):\n",
    "        x = self.forward(X)\n",
    "        loss = F.nll_loss(x, Y)\n",
    "        dy = x.clone()\n",
    "        dy[range(X.size(0)), Y] -= 1\n",
    "        dy /= X.size(0)\n",
    "        dy = self.backward(dy)\n",
    "        self.update(lr)\n",
    "        return loss\n",
    "    \n",
    "    def eval(self, X):\n",
    "        return self.forward(X)\n",
    "    \n",
    "    def save(self, path):\n",
    "        torch.save({\n",
    "            'embedding': self.embedding.embedding,\n",
    "            'fc1_weight': self.fc1.weight,\n",
    "            'fc1_bias': self.fc1.bias,\n",
    "            'fc2_weight': self.fc2.weight,\n",
    "            'fc2_bias': self.fc2.bias,\n",
    "            'gamma': self.batch_norm.gamma,\n",
    "            'beta': self.batch_norm.beta,\n",
    "            'moving_mean': self.batch_norm.moving_mean,\n",
    "            'moving_var': self.batch_norm.moving_var\n",
    "        }, path)\n",
    "        \n",
    "    def load(self, path):\n",
    "        checkpoint = torch.load(path)\n",
    "        self.embedding.embedding = checkpoint['embedding']\n",
    "        self.fc1.weight = checkpoint['fc1_weight']\n",
    "        self.fc1.bias = checkpoint['fc1_bias']\n",
    "        self.fc2.weight = checkpoint['fc2_weight']\n",
    "        self.fc2.bias = checkpoint['fc2_bias']\n",
    "        self.batch_norm.gamma = checkpoint['gamma']\n",
    "        self.batch_norm.beta = checkpoint['beta']\n",
    "        self.batch_norm.moving_mean = checkpoint['moving_mean']\n",
    "        self.batch_norm.moving_var = checkpoint['moving_var']\n",
    "        \n",
    "    def __call__(self, X):\n",
    "        return self.forward(X)\n",
    "    \n",
    "model = MLP(vocab_size, embedding_size, hidden_size).to(device)\n",
    "print(model)\n",
    "print(f\"Number of parameters: {sum(p.numel() for p in model.parameters())}\")"
   ],
   "id": "9e86d988b5d18f57",
   "outputs": [
    {
     "name": "stdout",
     "output_type": "stream",
     "text": [
      "MLP(\n",
      "  (embedding): Embedding(27, 64)\n",
      "  (fc1): Linear(in_features=192, out_features=128, bias=True)\n",
      "  (fc2): Linear(in_features=128, out_features=27, bias=True)\n",
      ")\n",
      "Number of parameters: 29915\n"
     ]
    }
   ],
   "execution_count": 14
  },
  {
   "metadata": {
    "ExecuteTime": {
     "end_time": "2024-06-17T17:32:20.162881Z",
     "start_time": "2024-06-17T17:32:19.714792Z"
    }
   },
   "cell_type": "code",
   "source": [
    "# loss function\n",
    "criterion = nn.CrossEntropyLoss()\n",
    "# optimizer\n",
    "optimizer = optim.SGD(model.parameters(), lr=learning_rate)"
   ],
   "id": "7bcddf6010452bd8",
   "outputs": [],
   "execution_count": 15
  },
  {
   "metadata": {},
   "cell_type": "markdown",
   "source": "## Initial Distribution",
   "id": "96fd5988367e1023"
  },
  {
   "metadata": {
    "ExecuteTime": {
     "end_time": "2024-06-17T17:44:15.152236Z",
     "start_time": "2024-06-17T17:44:15.134890Z"
    }
   },
   "cell_type": "code",
   "source": [
    "# activation distribution\n",
    "model.eval()\n",
    "X = next(iter(train_loader))\n",
    "X = torch.tensor(X, dtype=torch.float)\n",
    "output = model(X)\n",
    "plt.figure(figsize=(10, 5))\n",
    "plt.subplot(1, 2, 1)\n",
    "plt.hist(F.tanh(model.fc1(X.view(X.size(0), -1))).cpu().detach().view(-1), bins=50)\n",
    "plt.title('fc1 Activation Distribution')\n",
    "plt.subplot(1, 2, 2)\n",
    "plt.hist(model.fc2(output).cpu().detach().view(-1), bins=50)\n",
    "plt.title('fc2 Activation Distribution')\n",
    "plt.show()"
   ],
   "id": "85e7dde89e1c95ba",
   "outputs": [
    {
     "ename": "ValueError",
     "evalue": "only one element tensors can be converted to Python scalars",
     "output_type": "error",
     "traceback": [
      "\u001B[0;31m---------------------------------------------------------------------------\u001B[0m",
      "\u001B[0;31mValueError\u001B[0m                                Traceback (most recent call last)",
      "Cell \u001B[0;32mIn[32], line 4\u001B[0m\n\u001B[1;32m      2\u001B[0m model\u001B[38;5;241m.\u001B[39meval()\n\u001B[1;32m      3\u001B[0m X \u001B[38;5;241m=\u001B[39m \u001B[38;5;28mnext\u001B[39m(\u001B[38;5;28miter\u001B[39m(train_loader))\n\u001B[0;32m----> 4\u001B[0m X \u001B[38;5;241m=\u001B[39m \u001B[43mtorch\u001B[49m\u001B[38;5;241;43m.\u001B[39;49m\u001B[43mtensor\u001B[49m\u001B[43m(\u001B[49m\u001B[43mX\u001B[49m\u001B[43m,\u001B[49m\u001B[43m \u001B[49m\u001B[43mdtype\u001B[49m\u001B[38;5;241;43m=\u001B[39;49m\u001B[43mtorch\u001B[49m\u001B[38;5;241;43m.\u001B[39;49m\u001B[43mfloat\u001B[49m\u001B[43m)\u001B[49m\n\u001B[1;32m      5\u001B[0m output \u001B[38;5;241m=\u001B[39m model(X)\n\u001B[1;32m      6\u001B[0m plt\u001B[38;5;241m.\u001B[39mfigure(figsize\u001B[38;5;241m=\u001B[39m(\u001B[38;5;241m10\u001B[39m, \u001B[38;5;241m5\u001B[39m))\n",
      "\u001B[0;31mValueError\u001B[0m: only one element tensors can be converted to Python scalars"
     ]
    }
   ],
   "execution_count": 32
  },
  {
   "metadata": {
    "ExecuteTime": {
     "end_time": "2024-06-17T17:44:21.865994Z",
     "start_time": "2024-06-17T17:44:21.440502Z"
    }
   },
   "cell_type": "code",
   "source": [
    "# weights&biases distribution\n",
    "plt.figure(figsize=(20, 5))\n",
    "plt.subplot(1, 2, 1)\n",
    "plt.hist(model.fc1.weight.cpu().detach().view(-1), bins=50)\n",
    "plt.title('fc1 Weight Distribution')\n",
    "plt.subplot(1, 2, 2)\n",
    "plt.hist(model.fc2.weight.cpu().detach().view(-1), bins=50)\n",
    "plt.title('fc2 Weight Distribution')\n",
    "plt.show()\n",
    "\n",
    "plt.figure(figsize=(20, 5))\n",
    "plt.subplot(1, 2, 1)\n",
    "plt.hist(model.fc1.bias.cpu().detach().view(-1), bins=50)\n",
    "plt.title('fc1 Bias Distribution')\n",
    "plt.subplot(1, 2, 2)\n",
    "plt.hist(model.fc2.bias.cpu().detach().view(-1), bins=50)\n",
    "plt.title('fc2 Bias Distribution')\n",
    "plt.show()"
   ],
   "id": "e0798723fc917d6a",
   "outputs": [
    {
     "data": {
      "text/plain": [
       "<Figure size 2000x500 with 2 Axes>"
      ],
      "image/png": "[encoded data removed]"
     },
     "metadata": {},
     "output_type": "display_data"
    },
    {
     "data": {
      "text/plain": [
       "<Figure size 2000x500 with 2 Axes>"
      ],
      "image/png": "[encoded data removed]"
     },
     "metadata": {},
     "output_type": "display_data"
    }
   ],
   "execution_count": 33
  },
  {
   "metadata": {},
   "cell_type": "code",
   "outputs": [],
   "execution_count": null,
   "source": [
    "# visualize histograms\n",
    "plt.figure(figsize=(20, 4)) # width and height of the plot\n",
    "legends = []\n",
    "for i, layer in enumerate(layers[:-1]): # note: exclude the output layer\n",
    "  if isinstance(layer, Tanh):\n",
    "    t = layer.out.grad\n",
    "    print('layer %d (%10s): mean %+f, std %e' % (i, layer.__class__.__name__, t.mean(), t.std()))\n",
    "    hy, hx = torch.histogram(t, density=True)\n",
    "    plt.plot(hx[:-1].detach(), hy.detach())\n",
    "    legends.append(f'layer {i} ({layer.__class__.__name__}')\n",
    "plt.legend(legends);\n",
    "plt.title('gradient distribution')"
   ],
   "id": "d2b1a305594cfcab"
  },
  {
   "metadata": {
    "ExecuteTime": {
     "end_time": "2024-06-17T17:44:48.005914Z",
     "start_time": "2024-06-17T17:44:47.875799Z"
    }
   },
   "cell_type": "code",
   "source": [
    "# gradient distribution\n",
    "model.train()\n",
    "X, Y = next(iter(train_loader))\n",
    "X, Y = X.to(device), Y.to(device)\n",
    "optimizer.zero_grad()\n",
    "output = model(X)\n",
    "loss = criterion(output, Y)\n",
    "loss.backward()\n",
    "plt.figure(figsize=(10, 5))\n",
    "plt.subplot(1, 2, 1)\n",
    "plt.hist(model.fc1.weight.grad.cpu().detach().view(-1), bins=50)\n",
    "plt.title('fc1 Gradient Distribution')\n",
    "plt.subplot(1, 2, 2)\n",
    "plt.hist(model.fc2.weight.grad.cpu().detach().view(-1), bins=50)\n",
    "plt.title('fc2 Gradient Distribution')\n",
    "plt.show()"
   ],
   "id": "30c201029fc8b197",
   "outputs": [
    {
     "data": {
      "text/plain": [
       "<Figure size 1000x500 with 2 Axes>"
      ],
      "image/png": "[encoded data removed]"
     },
     "metadata": {},
     "output_type": "display_data"
    }
   ],
   "execution_count": 35
  },
  {
   "metadata": {},
   "cell_type": "markdown",
   "source": "## Training",
   "id": "bf8548e10e58ca38"
  },
  {
   "metadata": {
    "ExecuteTime": {
     "end_time": "2024-06-17T17:32:20.167578Z",
     "start_time": "2024-06-17T17:32:20.163875Z"
    }
   },
   "cell_type": "code",
   "source": [
    "def train():\n",
    "    train_losses = []\n",
    "    val_losses = []\n",
    "    \n",
    "    for epoch in range(num_epochs):\n",
    "        model.train()\n",
    "        train_loss = 0.0\n",
    "        for X, Y in tqdm(train_loader):\n",
    "            X, Y = X.to(device), Y.to(device)\n",
    "            optimizer.zero_grad()\n",
    "            output = model(X)\n",
    "            loss = criterion(output, Y)\n",
    "            loss.backward()\n",
    "            optimizer.step()\n",
    "            train_loss += loss.item()\n",
    "        train_loss /= len(train_loader)\n",
    "        train_losses.append(train_loss)\n",
    "        \n",
    "        model.eval()\n",
    "        val_loss = 0.0\n",
    "        with torch.no_grad():\n",
    "            for X, Y in val_loader:\n",
    "                X, Y = X.to(device), Y.to(device)\n",
    "                output = model(X)\n",
    "                loss = criterion(output, Y)\n",
    "                val_loss += loss.item()\n",
    "            val_loss /= len(val_loader)\n",
    "            val_losses.append(val_loss)\n",
    "        \n",
    "        print(f\"Epoch {epoch+1}/{num_epochs}, Train Loss: {train_loss:.4f}, Val Loss: {val_loss:.4f}\")\n",
    "        \n",
    "    plt.plot(train_losses, label='Train Loss')\n",
    "    plt.plot(val_losses, label='Val Loss')\n",
    "    plt.xlabel('Epoch')\n",
    "    plt.ylabel('Loss')\n",
    "    plt.legend()\n",
    "    plt.show()"
   ],
   "id": "f39e0bab83c5ad02",
   "outputs": [],
   "execution_count": 16
  },
  {
   "metadata": {
    "ExecuteTime": {
     "end_time": "2024-06-17T17:33:05.320739Z",
     "start_time": "2024-06-17T17:32:20.168542Z"
    }
   },
   "cell_type": "code",
   "source": "train()",
   "id": "abef8a604c56a46a",
   "outputs": [
    {
     "name": "stderr",
     "output_type": "stream",
     "text": [
      "100%|██████████| 3209/3209 [00:03<00:00, 805.72it/s]\n"
     ]
    },
    {
     "name": "stdout",
     "output_type": "stream",
     "text": [
      "Epoch 1/10, Train Loss: 2.8778, Val Loss: 2.6590\n"
     ]
    },
    {
     "name": "stderr",
     "output_type": "stream",
     "text": [
      "100%|██████████| 3209/3209 [00:03<00:00, 850.88it/s]\n"
     ]
    },
    {
     "name": "stdout",
     "output_type": "stream",
     "text": [
      "Epoch 2/10, Train Loss: 2.5832, Val Loss: 2.5265\n"
     ]
    },
    {
     "name": "stderr",
     "output_type": "stream",
     "text": [
      "100%|██████████| 3209/3209 [00:04<00:00, 697.66it/s]\n"
     ]
    },
    {
     "name": "stdout",
     "output_type": "stream",
     "text": [
      "Epoch 3/10, Train Loss: 2.4936, Val Loss: 2.4642\n"
     ]
    },
    {
     "name": "stderr",
     "output_type": "stream",
     "text": [
      "100%|██████████| 3209/3209 [00:04<00:00, 735.79it/s]\n"
     ]
    },
    {
     "name": "stdout",
     "output_type": "stream",
     "text": [
      "Epoch 4/10, Train Loss: 2.4451, Val Loss: 2.4264\n"
     ]
    },
    {
     "name": "stderr",
     "output_type": "stream",
     "text": [
      "100%|██████████| 3209/3209 [00:04<00:00, 749.04it/s]\n"
     ]
    },
    {
     "name": "stdout",
     "output_type": "stream",
     "text": [
      "Epoch 5/10, Train Loss: 2.4134, Val Loss: 2.4008\n"
     ]
    },
    {
     "name": "stderr",
     "output_type": "stream",
     "text": [
      "100%|██████████| 3209/3209 [00:04<00:00, 728.30it/s]\n"
     ]
    },
    {
     "name": "stdout",
     "output_type": "stream",
     "text": [
      "Epoch 6/10, Train Loss: 2.3909, Val Loss: 2.3818\n"
     ]
    },
    {
     "name": "stderr",
     "output_type": "stream",
     "text": [
      "100%|██████████| 3209/3209 [00:04<00:00, 785.25it/s]\n"
     ]
    },
    {
     "name": "stdout",
     "output_type": "stream",
     "text": [
      "Epoch 7/10, Train Loss: 2.3735, Val Loss: 2.3670\n"
     ]
    },
    {
     "name": "stderr",
     "output_type": "stream",
     "text": [
      "100%|██████████| 3209/3209 [00:04<00:00, 738.18it/s]\n"
     ]
    },
    {
     "name": "stdout",
     "output_type": "stream",
     "text": [
      "Epoch 8/10, Train Loss: 2.3597, Val Loss: 2.3550\n"
     ]
    },
    {
     "name": "stderr",
     "output_type": "stream",
     "text": [
      "100%|██████████| 3209/3209 [00:04<00:00, 691.66it/s]\n"
     ]
    },
    {
     "name": "stdout",
     "output_type": "stream",
     "text": [
      "Epoch 9/10, Train Loss: 2.3482, Val Loss: 2.3448\n"
     ]
    },
    {
     "name": "stderr",
     "output_type": "stream",
     "text": [
      "100%|██████████| 3209/3209 [00:04<00:00, 787.02it/s]\n"
     ]
    },
    {
     "name": "stdout",
     "output_type": "stream",
     "text": [
      "Epoch 10/10, Train Loss: 2.3383, Val Loss: 2.3363\n"
     ]
    },
    {
     "data": {
      "text/plain": [
       "<Figure size 640x480 with 1 Axes>"
      ],
      "image/png": "[encoded data removed]"
     },
     "metadata": {},
     "output_type": "display_data"
    }
   ],
   "execution_count": 17
  },
  {
   "metadata": {
    "ExecuteTime": {
     "end_time": "2024-06-17T17:33:05.327208Z",
     "start_time": "2024-06-17T17:33:05.321676Z"
    }
   },
   "cell_type": "code",
   "source": [
    "# save the model\n",
    "torch.save(model.state_dict(), 'model/mlp.pth')"
   ],
   "id": "49c7995821f82189",
   "outputs": [],
   "execution_count": 18
  },
  {
   "metadata": {},
   "cell_type": "markdown",
   "source": "## Distribution",
   "id": "1a2161251828fb03"
  },
  {
   "metadata": {
    "ExecuteTime": {
     "end_time": "2024-06-17T17:38:07.850102Z",
     "start_time": "2024-06-17T17:38:07.766666Z"
    }
   },
   "cell_type": "code",
   "source": [
    "# activation distribution\n",
    "model.eval()\n",
    "X, Y = next(iter(train_loader))\n",
    "X, Y = X.to(device), Y.to(device)\n",
    "output = model(X)\n",
    "plt.figure(figsize=(10, 5))\n",
    "plt.subplot(1, 2, 1)\n",
    "plt.hist(F.tanh(model.fc1(X.view(X.size(0), -1))).cpu().detach().view(-1), bins=50)\n",
    "plt.title('fc1 Activation Distribution')\n",
    "plt.subplot(1, 2, 2)\n",
    "plt.hist(model.fc2(output).cpu().detach().view(-1), bins=50)\n",
    "plt.title('fc2 Activation Distribution')\n",
    "plt.show()"
   ],
   "id": "3d9524d98998c26a",
   "outputs": [
    {
     "ename": "RuntimeError",
     "evalue": "mat1 and mat2 must have the same dtype, but got Long and Float",
     "output_type": "error",
     "traceback": [
      "\u001B[0;31m---------------------------------------------------------------------------\u001B[0m",
      "\u001B[0;31mRuntimeError\u001B[0m                              Traceback (most recent call last)",
      "Cell \u001B[0;32mIn[24], line 8\u001B[0m\n\u001B[1;32m      6\u001B[0m plt\u001B[38;5;241m.\u001B[39mfigure(figsize\u001B[38;5;241m=\u001B[39m(\u001B[38;5;241m10\u001B[39m, \u001B[38;5;241m5\u001B[39m))\n\u001B[1;32m      7\u001B[0m plt\u001B[38;5;241m.\u001B[39msubplot(\u001B[38;5;241m1\u001B[39m, \u001B[38;5;241m2\u001B[39m, \u001B[38;5;241m1\u001B[39m)\n\u001B[0;32m----> 8\u001B[0m plt\u001B[38;5;241m.\u001B[39mhist(F\u001B[38;5;241m.\u001B[39mtanh(\u001B[43mmodel\u001B[49m\u001B[38;5;241;43m.\u001B[39;49m\u001B[43mfc1\u001B[49m\u001B[43m(\u001B[49m\u001B[43mX\u001B[49m\u001B[38;5;241;43m.\u001B[39;49m\u001B[43mview\u001B[49m\u001B[43m(\u001B[49m\u001B[43mX\u001B[49m\u001B[38;5;241;43m.\u001B[39;49m\u001B[43msize\u001B[49m\u001B[43m(\u001B[49m\u001B[38;5;241;43m0\u001B[39;49m\u001B[43m)\u001B[49m\u001B[43m,\u001B[49m\u001B[43m \u001B[49m\u001B[38;5;241;43m-\u001B[39;49m\u001B[38;5;241;43m1\u001B[39;49m\u001B[43m)\u001B[49m\u001B[43m)\u001B[49m)\u001B[38;5;241m.\u001B[39mcpu()\u001B[38;5;241m.\u001B[39mdetach()\u001B[38;5;241m.\u001B[39mview(\u001B[38;5;241m-\u001B[39m\u001B[38;5;241m1\u001B[39m), bins\u001B[38;5;241m=\u001B[39m\u001B[38;5;241m50\u001B[39m)\n\u001B[1;32m      9\u001B[0m plt\u001B[38;5;241m.\u001B[39mtitle(\u001B[38;5;124m'\u001B[39m\u001B[38;5;124mfc1 Activation Distribution\u001B[39m\u001B[38;5;124m'\u001B[39m)\n\u001B[1;32m     10\u001B[0m plt\u001B[38;5;241m.\u001B[39msubplot(\u001B[38;5;241m1\u001B[39m, \u001B[38;5;241m2\u001B[39m, \u001B[38;5;241m2\u001B[39m)\n",
      "File \u001B[0;32m~/anaconda3/envs/torch-env/lib/python3.11/site-packages/torch/nn/modules/module.py:1532\u001B[0m, in \u001B[0;36mModule._wrapped_call_impl\u001B[0;34m(self, *args, **kwargs)\u001B[0m\n\u001B[1;32m   1530\u001B[0m     \u001B[38;5;28;01mreturn\u001B[39;00m \u001B[38;5;28mself\u001B[39m\u001B[38;5;241m.\u001B[39m_compiled_call_impl(\u001B[38;5;241m*\u001B[39margs, \u001B[38;5;241m*\u001B[39m\u001B[38;5;241m*\u001B[39mkwargs)  \u001B[38;5;66;03m# type: ignore[misc]\u001B[39;00m\n\u001B[1;32m   1531\u001B[0m \u001B[38;5;28;01melse\u001B[39;00m:\n\u001B[0;32m-> 1532\u001B[0m     \u001B[38;5;28;01mreturn\u001B[39;00m \u001B[38;5;28;43mself\u001B[39;49m\u001B[38;5;241;43m.\u001B[39;49m\u001B[43m_call_impl\u001B[49m\u001B[43m(\u001B[49m\u001B[38;5;241;43m*\u001B[39;49m\u001B[43margs\u001B[49m\u001B[43m,\u001B[49m\u001B[43m \u001B[49m\u001B[38;5;241;43m*\u001B[39;49m\u001B[38;5;241;43m*\u001B[39;49m\u001B[43mkwargs\u001B[49m\u001B[43m)\u001B[49m\n",
      "File \u001B[0;32m~/anaconda3/envs/torch-env/lib/python3.11/site-packages/torch/nn/modules/module.py:1541\u001B[0m, in \u001B[0;36mModule._call_impl\u001B[0;34m(self, *args, **kwargs)\u001B[0m\n\u001B[1;32m   1536\u001B[0m \u001B[38;5;66;03m# If we don't have any hooks, we want to skip the rest of the logic in\u001B[39;00m\n\u001B[1;32m   1537\u001B[0m \u001B[38;5;66;03m# this function, and just call forward.\u001B[39;00m\n\u001B[1;32m   1538\u001B[0m \u001B[38;5;28;01mif\u001B[39;00m \u001B[38;5;129;01mnot\u001B[39;00m (\u001B[38;5;28mself\u001B[39m\u001B[38;5;241m.\u001B[39m_backward_hooks \u001B[38;5;129;01mor\u001B[39;00m \u001B[38;5;28mself\u001B[39m\u001B[38;5;241m.\u001B[39m_backward_pre_hooks \u001B[38;5;129;01mor\u001B[39;00m \u001B[38;5;28mself\u001B[39m\u001B[38;5;241m.\u001B[39m_forward_hooks \u001B[38;5;129;01mor\u001B[39;00m \u001B[38;5;28mself\u001B[39m\u001B[38;5;241m.\u001B[39m_forward_pre_hooks\n\u001B[1;32m   1539\u001B[0m         \u001B[38;5;129;01mor\u001B[39;00m _global_backward_pre_hooks \u001B[38;5;129;01mor\u001B[39;00m _global_backward_hooks\n\u001B[1;32m   1540\u001B[0m         \u001B[38;5;129;01mor\u001B[39;00m _global_forward_hooks \u001B[38;5;129;01mor\u001B[39;00m _global_forward_pre_hooks):\n\u001B[0;32m-> 1541\u001B[0m     \u001B[38;5;28;01mreturn\u001B[39;00m \u001B[43mforward_call\u001B[49m\u001B[43m(\u001B[49m\u001B[38;5;241;43m*\u001B[39;49m\u001B[43margs\u001B[49m\u001B[43m,\u001B[49m\u001B[43m \u001B[49m\u001B[38;5;241;43m*\u001B[39;49m\u001B[38;5;241;43m*\u001B[39;49m\u001B[43mkwargs\u001B[49m\u001B[43m)\u001B[49m\n\u001B[1;32m   1543\u001B[0m \u001B[38;5;28;01mtry\u001B[39;00m:\n\u001B[1;32m   1544\u001B[0m     result \u001B[38;5;241m=\u001B[39m \u001B[38;5;28;01mNone\u001B[39;00m\n",
      "File \u001B[0;32m~/anaconda3/envs/torch-env/lib/python3.11/site-packages/torch/nn/modules/linear.py:116\u001B[0m, in \u001B[0;36mLinear.forward\u001B[0;34m(self, input)\u001B[0m\n\u001B[1;32m    115\u001B[0m \u001B[38;5;28;01mdef\u001B[39;00m \u001B[38;5;21mforward\u001B[39m(\u001B[38;5;28mself\u001B[39m, \u001B[38;5;28minput\u001B[39m: Tensor) \u001B[38;5;241m-\u001B[39m\u001B[38;5;241m>\u001B[39m Tensor:\n\u001B[0;32m--> 116\u001B[0m     \u001B[38;5;28;01mreturn\u001B[39;00m \u001B[43mF\u001B[49m\u001B[38;5;241;43m.\u001B[39;49m\u001B[43mlinear\u001B[49m\u001B[43m(\u001B[49m\u001B[38;5;28;43minput\u001B[39;49m\u001B[43m,\u001B[49m\u001B[43m \u001B[49m\u001B[38;5;28;43mself\u001B[39;49m\u001B[38;5;241;43m.\u001B[39;49m\u001B[43mweight\u001B[49m\u001B[43m,\u001B[49m\u001B[43m \u001B[49m\u001B[38;5;28;43mself\u001B[39;49m\u001B[38;5;241;43m.\u001B[39;49m\u001B[43mbias\u001B[49m\u001B[43m)\u001B[49m\n",
      "\u001B[0;31mRuntimeError\u001B[0m: mat1 and mat2 must have the same dtype, but got Long and Float"
     ]
    },
    {
     "data": {
      "text/plain": [
       "<Figure size 1000x500 with 1 Axes>"
      ],
      "image/png": "[encoded data removed]"
     },
     "metadata": {},
     "output_type": "display_data"
    }
   ],
   "execution_count": 24
  },
  {
   "metadata": {
    "ExecuteTime": {
     "end_time": "2024-06-17T17:38:33.589788Z",
     "start_time": "2024-06-17T17:38:33.472921Z"
    }
   },
   "cell_type": "code",
   "source": [
    "plt.figure(figsize=(20, 5))\n",
    "plt.subplot(1, 2, 1)\n",
    "plt.hist(model.fc1.weight.cpu().detach().view(-1), bins=50)\n",
    "plt.title('fc1 Weight Distribution')\n",
    "plt.subplot(1, 2, 2)\n",
    "plt.hist(model.fc2.weight.cpu().detach().view(-1), bins=50)\n",
    "plt.title('fc2 Weight Distribution')\n",
    "plt.show()"
   ],
   "id": "adf4e3fcba6a3fbc",
   "outputs": [
    {
     "data": {
      "text/plain": [
       "<Figure size 2000x500 with 2 Axes>"
      ],
      "image/png": "[encoded data removed]"
     },
     "metadata": {},
     "output_type": "display_data"
    }
   ],
   "execution_count": 25
  },
  {
   "metadata": {},
   "cell_type": "code",
   "outputs": [],
   "execution_count": null,
   "source": [
    "plt.figure(figsize=(20, 5))\n",
    "plt.subplot(1, 2, 1)\n",
    "plt.hist(model.fc1.bias.cpu().detach().view(-1), bins=50)\n",
    "plt.title('fc1 Bias Distribution')\n",
    "plt.subplot(1, 2, 2)\n",
    "plt.hist(model.fc2.bias.cpu().detach().view(-1), bins=50)\n",
    "plt.title('fc2 Bias Distribution')\n",
    "plt.show()"
   ],
   "id": "1328002d1dc36887"
  },
  {
   "metadata": {},
   "cell_type": "code",
   "outputs": [],
   "execution_count": null,
   "source": "\n",
   "id": "a588e701a05f8e03"
  },
  {
   "metadata": {},
   "cell_type": "markdown",
   "source": "",
   "id": "f8ca13a388bd7b2a"
  },
  {
   "metadata": {},
   "cell_type": "code",
   "source": [
    "# visualize the gradient distribution\n",
    "model.train()\n",
    "X, Y = next(iter(train_loader))\n",
    "X, Y = X.to(device), Y.to(device)\n",
    "optimizer.zero_grad()\n",
    "output = model(X)\n",
    "loss = criterion(output, Y)\n",
    "loss.backward()\n",
    "plt.figure(figsize=(10, 5))\n",
    "plt.subplot(1, 2, 1)\n",
    "plt.hist(model.fc1.weight.grad.detach().view(-1), bins=50)\n",
    "plt.title('fc1 Gradient Distribution')\n",
    "plt.subplot(1, 2, 2)\n",
    "plt.hist(model.fc2.weight.grad.detach().view(-1), bins=50)\n",
    "plt.title('fc2 Gradient Distribution')\n",
    "plt.show()"
   ],
   "id": "d80d8437f4e096dc",
   "outputs": [],
   "execution_count": null
  },
  {
   "metadata": {},
   "cell_type": "markdown",
   "source": "## Inference",
   "id": "9c5dc3d9e7553a5c"
  },
  {
   "metadata": {},
   "cell_type": "code",
   "source": [
    "def generate_name(max_length=20):\n",
    "    model.eval()\n",
    "    name = []\n",
    "    with torch.no_grad():\n",
    "        context = [0] * block_size\n",
    "        for _ in range(max_length):\n",
    "            X = torch.tensor(context, dtype=torch.long).unsqueeze(0).to(device)\n",
    "            output = model(X)\n",
    "            output = F.softmax(output, dim=-1)\n",
    "            idx = torch.multinomial(output.view(-1), 1).item()\n",
    "            if idx == 0:\n",
    "                break\n",
    "            name.append(idx2char[idx])\n",
    "            context = context[1:] + [idx]\n",
    "    return ''.join(name)"
   ],
   "id": "373fdc4a3d9f7430",
   "outputs": [],
   "execution_count": null
  },
  {
   "metadata": {},
   "cell_type": "code",
   "source": [
    "# generate names\n",
    "for _ in range(10):\n",
    "    print(generate_name())"
   ],
   "id": "1fb56e656a5031e4",
   "outputs": [],
   "execution_count": null
  },
  {
   "metadata": {},
   "cell_type": "markdown",
   "source": "## No PYTORCH",
   "id": "90256a0000c8153a"
  },
  {
   "metadata": {},
   "cell_type": "code",
   "source": [
    "class MultiLayerPerceptron():\n",
    "    def __init__(self, vocab_size, embedding_size, hidden_size):\n",
    "        self.embedding = torch.randn(vocab_size, embedding_size)\n",
    "        self.W1 = torch.randn(embedding_size * block_size, hidden_size) * (5/3) / ((embedding_size * block_size + hidden_size) ** 0.5)\n",
    "        #self.b1 = torch.randn(hidden_size) * 0.01\n",
    "        self.W2 = torch.randn(hidden_size, vocab_size) * 0.01\n",
    "        self.b2 = torch.randn(vocab_size) * 0.01\n",
    "        \n",
    "        # batch normalization\n",
    "        self.gamma = torch.ones(hidden_size)\n",
    "        self.beta = torch.zeros(hidden_size)\n",
    "        self.eps = 1e-5\n",
    "        self.moving_mean = torch.zeros(hidden_size)\n",
    "        self.moving_var = torch.ones(hidden_size)\n",
    "    \n",
    "    def batch_norm(self, x, training=True):\n",
    "        if training:\n",
    "            mean = x.mean(dim=0)\n",
    "            var = x.var(dim=0)\n",
    "            x_hat = (x - mean) / torch.sqrt(var + self.eps)\n",
    "            self.moving_mean = 0.9 * self.moving_mean + 0.1 * mean\n",
    "            self.moving_var = 0.9 * self.moving_var + 0.1 * var\n",
    "        else:\n",
    "            x_hat = (x - self.moving_mean) / torch.sqrt(self.moving_var + self.eps)\n",
    "        return self.gamma * x_hat + self.beta\n",
    "    \n",
    "    def num_parameters(self):\n",
    "        return self.embedding.numel() + self.W1.numel() + self.W2.numel() + self.b2.numel() + self.gamma.numel() + self.beta.numel() + self.moving_mean.numel() + self.moving_var.numel()\n",
    "    \n",
    "    def forward(self, x):\n",
    "        x = self.embedding[x]\n",
    "        x = x.view(x.size(0), -1)\n",
    "        x = torch.tanh(x @ self.W1)\n",
    "        x = x @ self.W2 + self.b2\n",
    "        return x\n",
    "    \n",
    "    def backward(self, x, y, lr):\n",
    "        m = x.size(0)\n",
    "        y_hat = F.log_softmax(x, dim=-1)\n",
    "        loss = F.nll_loss(y_hat, y)\n",
    "        dy = y_hat.clone()\n",
    "        dy[range(m), y] -= 1\n",
    "        dy /= m\n",
    "        dx = dy @ self.W2.t()\n",
    "        dW2 = x.t() @ dy\n",
    "        db2 = dy.sum(dim=0)\n",
    "        dy = dy @ self.W2.t()\n",
    "        dx = dx * (1 - x ** 2)\n",
    "        dW1 = x.t() @ dx\n",
    "        db1 = dx.sum(dim=0)\n",
    "        self.W1 -= lr * dW1\n",
    "        self.b1 -= lr * db1\n",
    "        self.W2 -= lr * dW2\n",
    "        self.b2 -= lr * db2\n",
    "        return loss\n",
    "    \n",
    "    def train(self, X, Y, lr):\n",
    "        x = self.forward(X)\n",
    "        return self.backward(x, Y, lr)\n",
    "    \n",
    "    def eval(self, X):\n",
    "        return self.forward(X)\n",
    "    \n",
    "    def save(self, path):\n",
    "        torch.save({\n",
    "            'embedding': self.embedding,\n",
    "            'W1': self.W1,\n",
    "            'b1': self.b1,\n",
    "            'W2': self.W2,\n",
    "            'b2': self.b2,\n",
    "            'gamma': self.gamma,\n",
    "            'beta': self.beta,\n",
    "            'moving_mean': self.moving_mean,\n",
    "            'moving_var': self.moving_var\n",
    "        }, path)\n",
    "        \n",
    "    def load(self, path):\n",
    "        checkpoint = torch.load(path)\n",
    "        self.embedding = checkpoint['embedding']\n",
    "        self.W1 = checkpoint['W1']\n",
    "        self.b1 = checkpoint['b1']\n",
    "        self.W2 = checkpoint['W2']\n",
    "        self.b2 = checkpoint['b2']\n",
    "        self.gamma = checkpoint['gamma']\n",
    "        self.beta = checkpoint['beta']\n",
    "        self.moving_mean = checkpoint['moving_mean']\n",
    "        self.moving_var = checkpoint['moving_var']\n",
    "        \n",
    "    def __call__(self, X):\n",
    "        return self.forward(X)"
   ],
   "id": "6e99281ba0ef341b",
   "outputs": [],
   "execution_count": null
  },
  {
   "metadata": {},
   "cell_type": "code",
   "source": [
    "model = MultiLayerPerceptron(vocab_size, embedding_size, hidden_size)\n",
    "print(model.num_parameters())"
   ],
   "id": "b298d624e264a2d6",
   "outputs": [],
   "execution_count": null
  },
  {
   "metadata": {},
   "cell_type": "code",
   "source": [
    "# training loop\n",
    "train_losses = []\n",
    "val_losses = []\n",
    "\n",
    "for epoch in range(num_epochs):\n",
    "    train_loss = 0.0\n",
    "    for X, Y in tqdm(train_loader):\n",
    "        X, Y = X, Y\n",
    "        loss = model.train(X, Y, learning_rate)\n",
    "        train_loss += loss.item()\n",
    "    train_loss /= len(train_loader)\n",
    "    train_losses.append(train_loss)\n",
    "    \n",
    "    val_loss = 0.0\n",
    "    for X, Y in val_loader:\n",
    "        X, Y = X, Y\n",
    "        loss = model.train(X, Y, learning_rate)\n",
    "        val_loss += loss.item()\n",
    "    val_loss /= len(val_loader)\n",
    "    val_losses.append(val_loss)\n",
    "    \n",
    "    print(f\"Epoch {epoch+1}/{num_epochs}, Train Loss: {train_loss:.4f}, Val Loss: {val_loss:.4f}\")\n",
    "    \n",
    "plt.plot(train_losses, label='Train Loss')\n",
    "plt.plot(val_losses, label='Val Loss')\n",
    "plt.xlabel('Epoch')\n",
    "plt.ylabel('Loss')\n",
    "plt.legend()\n",
    "plt.show()"
   ],
   "id": "f768119446253a7a",
   "outputs": [],
   "execution_count": null
  },
  {
   "metadata": {},
   "cell_type": "code",
   "source": "",
   "id": "8725a10bfe266514",
   "outputs": [],
   "execution_count": null
  }
 ],
 "metadata": {
  "kernelspec": {
   "display_name": "Python 3",
   "language": "python",
   "name": "python3"
  },
  "language_info": {
   "codemirror_mode": {
    "name": "ipython",
    "version": 2
   },
   "file_extension": ".py",
   "mimetype": "text/x-python",
   "name": "python",
   "nbconvert_exporter": "python",
   "pygments_lexer": "ipython2",
   "version": "2.7.6"
  }
 },
 "nbformat": 4,
 "nbformat_minor": 5
}
