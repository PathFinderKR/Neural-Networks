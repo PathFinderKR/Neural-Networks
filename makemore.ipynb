{
 "cells": [
  {
   "metadata": {},
   "cell_type": "markdown",
   "source": "## Importing Libraries",
   "id": "a7352989d35100"
  },
  {
   "cell_type": "code",
   "id": "initial_id",
   "metadata": {
    "collapsed": true,
    "ExecuteTime": {
     "end_time": "2024-06-27T03:09:46.527332Z",
     "start_time": "2024-06-27T03:09:43.386614Z"
    }
   },
   "source": [
    "from tqdm import tqdm\n",
    "import matplotlib.pyplot as plt\n",
    "\n",
    "# pytorch\n",
    "import torch\n",
    "import torch.nn as nn\n",
    "import torch.nn.functional as F\n",
    "import torch.optim as optim\n",
    "from torch.utils.data import Dataset, DataLoader, random_split"
   ],
   "outputs": [],
   "execution_count": 1
  },
  {
   "metadata": {},
   "cell_type": "markdown",
   "source": "## Device",
   "id": "a50c1eb58e5f4c2c"
  },
  {
   "metadata": {
    "ExecuteTime": {
     "end_time": "2024-06-27T03:09:46.549850Z",
     "start_time": "2024-06-27T03:09:46.528582Z"
    }
   },
   "cell_type": "code",
   "source": [
    "# device setup\n",
    "device = (\n",
    "    \"cuda:0\" if torch.cuda.is_available() else # Nvidia GPU\n",
    "    \"mps\" if torch.backends.mps.is_available() else # Apple Silicon GPU\n",
    "    \"cpu\"\n",
    ")\n",
    "print(f\"Device = {device}\")"
   ],
   "id": "fee72239f746117b",
   "outputs": [
    {
     "name": "stdout",
     "output_type": "stream",
     "text": [
      "Device = mps\n"
     ]
    }
   ],
   "execution_count": 2
  },
  {
   "metadata": {},
   "cell_type": "markdown",
   "source": "## Dataset",
   "id": "6f458288543b8831"
  },
  {
   "metadata": {
    "ExecuteTime": {
     "end_time": "2024-06-27T03:09:46.558715Z",
     "start_time": "2024-06-27T03:09:46.551005Z"
    }
   },
   "cell_type": "code",
   "source": [
    "# dataset path\n",
    "dataset_path = 'data/'\n",
    "\n",
    "# names dataset\n",
    "names_dataset = dataset_path + 'names.txt'\n",
    "\n",
    "# read the dataset\n",
    "with open(names_dataset, 'r') as f:\n",
    "    names_text = f.readlines()\n",
    "    \n",
    "# remove the new line character\n",
    "names_text = [name.strip() for name in names_text]"
   ],
   "id": "d06ad7a81d89424a",
   "outputs": [],
   "execution_count": 3
  },
  {
   "metadata": {
    "ExecuteTime": {
     "end_time": "2024-06-27T03:09:46.566383Z",
     "start_time": "2024-06-27T03:09:46.560744Z"
    }
   },
   "cell_type": "code",
   "source": [
    "# print the first 10 names\n",
    "names_text[:10]"
   ],
   "id": "75a57597da47e84f",
   "outputs": [
    {
     "data": {
      "text/plain": [
       "['emma',\n",
       " 'olivia',\n",
       " 'ava',\n",
       " 'isabella',\n",
       " 'sophia',\n",
       " 'charlotte',\n",
       " 'mia',\n",
       " 'amelia',\n",
       " 'harper',\n",
       " 'evelyn']"
      ]
     },
     "execution_count": 4,
     "metadata": {},
     "output_type": "execute_result"
    }
   ],
   "execution_count": 4
  },
  {
   "metadata": {
    "ExecuteTime": {
     "end_time": "2024-06-27T03:09:46.813576Z",
     "start_time": "2024-06-27T03:09:46.567391Z"
    }
   },
   "cell_type": "code",
   "source": [
    "# number of names\n",
    "print(f'Number of names: {len(names_text)}')\n",
    "\n",
    "# check for duplicates\n",
    "print(f'Number of duplicates: {len(names_text) - len(set(names_text))}')\n",
    "\n",
    "# minimum name length\n",
    "min_name_length = min([len(name) for name in names_text])\n",
    "print(f'Minimum Name Length: {min_name_length}')\n",
    "\n",
    "# maximum name length\n",
    "max_name_length = max([len(name) for name in names_text])\n",
    "print(f'Maximum Name Length: {max_name_length}')\n",
    "\n",
    "# name length statistics\n",
    "print(f'Average Name Length: {sum([len(name) for name in names_text]) / len(names_text)}')\n",
    "\n",
    "# name length distribution\n",
    "plt.hist([len(name) for name in names_text], bins=20)\n",
    "plt.xlabel('Name Length')\n",
    "plt.ylabel('Frequency')\n",
    "plt.title('Name Length Distribution')\n",
    "plt.show()"
   ],
   "id": "c8dab684f6d70994",
   "outputs": [
    {
     "name": "stdout",
     "output_type": "stream",
     "text": [
      "Number of names: 32033\n",
      "Number of duplicates: 2539\n",
      "Minimum Name Length: 2\n",
      "Maximum Name Length: 15\n",
      "Average Name Length: 6.122217712983486\n"
     ]
    },
    {
     "data": {
      "text/plain": [
       "<Figure size 640x480 with 1 Axes>"
      ],
      "image/png": "[encoded data removed]"
     },
     "metadata": {},
     "output_type": "display_data"
    }
   ],
   "execution_count": 5
  },
  {
   "metadata": {
    "ExecuteTime": {
     "end_time": "2024-06-27T03:09:46.901812Z",
     "start_time": "2024-06-27T03:09:46.818311Z"
    }
   },
   "cell_type": "code",
   "source": [
    "# number of unique characters\n",
    "unique_chars = sorted(list(set(''.join(names_text))))\n",
    "print(f'Number of Unique Characters: {len(unique_chars)}')\n",
    "\n",
    "# unique characters\n",
    "print(unique_chars)"
   ],
   "id": "698c56d75d5ed7ce",
   "outputs": [
    {
     "name": "stdout",
     "output_type": "stream",
     "text": [
      "Number of Unique Characters: 26\n",
      "['a', 'b', 'c', 'd', 'e', 'f', 'g', 'h', 'i', 'j', 'k', 'l', 'm', 'n', 'o', 'p', 'q', 'r', 's', 't', 'u', 'v', 'w', 'x', 'y', 'z']\n"
     ]
    }
   ],
   "execution_count": 6
  },
  {
   "metadata": {},
   "cell_type": "markdown",
   "source": "## Tokenization",
   "id": "bed2d924ce05213f"
  },
  {
   "metadata": {
    "ExecuteTime": {
     "end_time": "2024-06-27T03:09:46.914457Z",
     "start_time": "2024-06-27T03:09:46.905047Z"
    }
   },
   "cell_type": "code",
   "source": [
    "# add special token\n",
    "unique_chars = ['.', *unique_chars]"
   ],
   "id": "d919b81982edb0e2",
   "outputs": [],
   "execution_count": 7
  },
  {
   "metadata": {
    "ExecuteTime": {
     "end_time": "2024-06-27T03:09:46.921028Z",
     "start_time": "2024-06-27T03:09:46.916968Z"
    }
   },
   "cell_type": "code",
   "source": [
    "# create character to index mapping\n",
    "char2idx = {char: idx for idx, char in enumerate(unique_chars)}\n",
    "print(char2idx)\n",
    "\n",
    "# create index to character mapping\n",
    "idx2char = {idx: char for char, idx in char2idx.items()}\n",
    "print(idx2char)"
   ],
   "id": "5e45892cff2fdbc3",
   "outputs": [
    {
     "name": "stdout",
     "output_type": "stream",
     "text": [
      "{'.': 0, 'a': 1, 'b': 2, 'c': 3, 'd': 4, 'e': 5, 'f': 6, 'g': 7, 'h': 8, 'i': 9, 'j': 10, 'k': 11, 'l': 12, 'm': 13, 'n': 14, 'o': 15, 'p': 16, 'q': 17, 'r': 18, 's': 19, 't': 20, 'u': 21, 'v': 22, 'w': 23, 'x': 24, 'y': 25, 'z': 26}\n",
      "{0: '.', 1: 'a', 2: 'b', 3: 'c', 4: 'd', 5: 'e', 6: 'f', 7: 'g', 8: 'h', 9: 'i', 10: 'j', 11: 'k', 12: 'l', 13: 'm', 14: 'n', 15: 'o', 16: 'p', 17: 'q', 18: 'r', 19: 's', 20: 't', 21: 'u', 22: 'v', 23: 'w', 24: 'x', 25: 'y', 26: 'z'}\n"
     ]
    }
   ],
   "execution_count": 8
  },
  {
   "metadata": {},
   "cell_type": "markdown",
   "source": "## Hyperparameters",
   "id": "98d88eac13012f9e"
  },
  {
   "metadata": {
    "ExecuteTime": {
     "end_time": "2024-06-27T03:09:46.925547Z",
     "start_time": "2024-06-27T03:09:46.922169Z"
    }
   },
   "cell_type": "code",
   "source": [
    "# dataset parameters\n",
    "validation_split = 0.1\n",
    "\n",
    "# training parameters\n",
    "batch_size = 64\n",
    "learning_rate = 0.001\n",
    "num_epochs = 10\n",
    "\n",
    "# model parameters\n",
    "block_size = 3\n",
    "vocab_size = len(unique_chars)\n",
    "embedding_size = 64\n",
    "hidden_size = 128"
   ],
   "id": "771417970ecc4aa",
   "outputs": [],
   "execution_count": 9
  },
  {
   "metadata": {},
   "cell_type": "markdown",
   "source": "## Preprocessing",
   "id": "cebba426b9704c38"
  },
  {
   "metadata": {
    "ExecuteTime": {
     "end_time": "2024-06-27T03:09:46.935491Z",
     "start_time": "2024-06-27T03:09:46.929894Z"
    }
   },
   "cell_type": "code",
   "source": [
    "# add special token to names\n",
    "names_text = [name + '.' for name in names_text]"
   ],
   "id": "c8b5de8dd2317192",
   "outputs": [],
   "execution_count": 10
  },
  {
   "metadata": {
    "ExecuteTime": {
     "end_time": "2024-06-27T03:09:46.940909Z",
     "start_time": "2024-06-27T03:09:46.937050Z"
    }
   },
   "cell_type": "code",
   "source": [
    "# print the first 10 names\n",
    "names_text[:10]"
   ],
   "id": "683358ddd56f09af",
   "outputs": [
    {
     "data": {
      "text/plain": [
       "['emma.',\n",
       " 'olivia.',\n",
       " 'ava.',\n",
       " 'isabella.',\n",
       " 'sophia.',\n",
       " 'charlotte.',\n",
       " 'mia.',\n",
       " 'amelia.',\n",
       " 'harper.',\n",
       " 'evelyn.']"
      ]
     },
     "execution_count": 11,
     "metadata": {},
     "output_type": "execute_result"
    }
   ],
   "execution_count": 11
  },
  {
   "metadata": {
    "ExecuteTime": {
     "end_time": "2024-06-27T03:09:47.393202Z",
     "start_time": "2024-06-27T03:09:46.942326Z"
    }
   },
   "cell_type": "code",
   "source": [
    "# custom dataset: 3 characters -> 1 character\n",
    "class NamesDataset(Dataset):\n",
    "    def __init__(self, block_size):\n",
    "        self.block_size = block_size\n",
    "        self.data = self.create_sequence()\n",
    "        \n",
    "    def create_sequence(self):\n",
    "        sequence = []\n",
    "        for name in names_text:\n",
    "            name = '.' * self.block_size + name\n",
    "            for i in range(len(name) - self.block_size):\n",
    "                context = name[i:i+self.block_size]\n",
    "                target = name[i+self.block_size]\n",
    "                sequence_idx = [char2idx[char] for char in context]\n",
    "                target_idx = char2idx[target]\n",
    "                sequence.append((sequence_idx, target_idx))\n",
    "        return sequence\n",
    "    \n",
    "    def __len__(self):\n",
    "        return len(self.data)\n",
    "    \n",
    "    def __getitem__(self, idx):\n",
    "        context, target = self.data[idx]\n",
    "        context_tensor = torch.tensor(context, dtype=torch.long)\n",
    "        target_tensor = torch.tensor(target, dtype=torch.long)\n",
    "        return context_tensor, target_tensor\n",
    "        \n",
    "# create dataset\n",
    "names_dataset = NamesDataset(block_size)\n",
    "\n",
    "# validation split\n",
    "val_size = int(validation_split * len(names_dataset))\n",
    "train_size = len(names_dataset) - val_size\n",
    "train_dataset, val_dataset = random_split(names_dataset, [train_size, val_size])\n",
    "\n",
    "# create dataloader\n",
    "train_loader = DataLoader(train_dataset, batch_size=batch_size, shuffle=True)\n",
    "val_loader = DataLoader(val_dataset, batch_size=batch_size, shuffle=False)"
   ],
   "id": "f3910e4cd5eb2d2f",
   "outputs": [],
   "execution_count": 12
  },
  {
   "metadata": {
    "ExecuteTime": {
     "end_time": "2024-06-27T03:09:47.404505Z",
     "start_time": "2024-06-27T03:09:47.393922Z"
    }
   },
   "cell_type": "code",
   "source": [
    "# check the dataset\n",
    "X, Y = names_dataset[0]\n",
    "print(X.shape, Y.shape)\n",
    "\n",
    "# check the dataloader\n",
    "X, Y = next(iter(train_loader))\n",
    "print(X.shape, Y.shape)"
   ],
   "id": "f1d32a6ec4890335",
   "outputs": [
    {
     "name": "stdout",
     "output_type": "stream",
     "text": [
      "torch.Size([3]) torch.Size([])\n",
      "torch.Size([64, 3]) torch.Size([64])\n"
     ]
    }
   ],
   "execution_count": 13
  },
  {
   "metadata": {},
   "cell_type": "markdown",
   "source": "## Model",
   "id": "9b1fb3b9f35085c0"
  },
  {
   "metadata": {
    "ExecuteTime": {
     "end_time": "2024-06-27T03:09:47.428573Z",
     "start_time": "2024-06-27T03:09:47.425415Z"
    }
   },
   "cell_type": "code",
   "source": [
    "class Embedding:\n",
    "    def __init__(self, vocab_size, embedding_size):\n",
    "        self.embedding = torch.randn(vocab_size, embedding_size)\n",
    "        \n",
    "    def forward(self, x):\n",
    "        return self.embedding[x]\n",
    "    \n",
    "    def backward(self, dy):\n",
    "        dW = torch.zeros_like(self.embedding)\n",
    "        dW[self.x] = dy\n",
    "        return dW"
   ],
   "id": "8c084d245cd9e3c0",
   "outputs": [],
   "execution_count": 18
  },
  {
   "metadata": {},
   "cell_type": "code",
   "outputs": [],
   "execution_count": 14,
   "source": [
    "class Linear:\n",
    "    def __init__(self, in_features, out_features):\n",
    "        self.in_features = in_features\n",
    "        self.out_features = out_features\n",
    "        self.weight = torch.randn(in_features, out_features) * (5/3) / ((in_features + out_features) ** 0.5)\n",
    "        self.bias = torch.randn(out_features) * 0.01\n",
    "        \n",
    "    def forward(self, x):\n",
    "        self.x = x\n",
    "        return x @ self.weight + self.bias\n",
    "    \n",
    "    def backward(self, dy):\n",
    "        self.dW = self.x.t() @ dy\n",
    "        self.db = dy.sum(dim=0)\n",
    "        dx = dy @ self.weight.t()\n",
    "        return dx\n",
    "    \n",
    "    def update(self, lr):\n",
    "        self.weight -= lr * self.dW\n",
    "        self.bias -= lr * self.db"
   ],
   "id": "218ca8edcf1ae649"
  },
  {
   "metadata": {},
   "cell_type": "code",
   "outputs": [],
   "execution_count": 15,
   "source": [
    "class Tanh:\n",
    "    def forward(self, x):\n",
    "        self.x = x\n",
    "        return torch.tanh(x)\n",
    "    \n",
    "    def backward(self, dy):\n",
    "        return dy * (1 - self.x ** 2)"
   ],
   "id": "3e9fdd1f26fee83d"
  },
  {
   "metadata": {},
   "cell_type": "code",
   "outputs": [],
   "execution_count": 16,
   "source": [
    "class Softmax:\n",
    "    def forward(self, x):\n",
    "        exps = torch.exp(x)\n",
    "        return exps / exps.sum(dim=-1, keepdim=True)\n",
    "    \n",
    "    def backward(self, dy):\n",
    "        return dy"
   ],
   "id": "d4fdb2596007ee7b"
  },
  {
   "metadata": {},
   "cell_type": "code",
   "outputs": [],
   "execution_count": 17,
   "source": [
    "class BatchNorm1d:\n",
    "    def __init__(self, num_features):\n",
    "        self.num_features = num_features\n",
    "        self.gamma = torch.ones(num_features)\n",
    "        self.beta = torch.zeros(num_features)\n",
    "        self.eps = 1e-5\n",
    "        self.moving_mean = torch.zeros(num_features)\n",
    "        self.moving_var = torch.ones(num_features)\n",
    "        \n",
    "    def forward(self, x, training=True):\n",
    "        if training:\n",
    "            mean = x.mean(dim=0)\n",
    "            var = x.var(dim=0)\n",
    "            x_hat = (x - mean) / torch.sqrt(var + self.eps)\n",
    "            self.moving_mean = 0.9 * self.moving_mean + 0.1 * mean\n",
    "            self.moving_var = 0.9 * self.moving_var + 0.1 * var\n",
    "        else:\n",
    "            x_hat = (x - self.moving_mean) / torch.sqrt(self.moving_var + self.eps)\n",
    "        return self.gamma * x_hat + self.beta\n",
    "    \n",
    "    def backward(self, dy):\n",
    "        m = dy.size(0)\n",
    "        dx_hat = dy * self.gamma\n",
    "        dgamma = (dy * self.x).sum(dim=0)\n",
    "        dbeta = dy.sum(dim=0)\n",
    "        dx = (m * dx_hat - dx_hat.sum(dim=0) - self.x * (dx_hat * self.x).sum(dim=0)) / (m * torch.sqrt(self.moving_var + self.eps))\n",
    "        return dx, dgamma, dbeta"
   ],
   "id": "805057367162c2c2"
  },
  {
   "metadata": {
    "ExecuteTime": {
     "end_time": "2024-06-27T03:14:39.011365Z",
     "start_time": "2024-06-27T03:14:38.912647Z"
    }
   },
   "cell_type": "code",
   "source": [
    "\"\"\"\n",
    "class MLP(nn.Module):\n",
    "    def __init__(self, vocab_size, embedding_size, hidden_size):\n",
    "        super(MLP, self).__init__()\n",
    "        self.embedding = nn.Embedding(vocab_size, embedding_size)\n",
    "        self.fc1 = nn.Linear(embedding_size * block_size, hidden_size)\n",
    "        self.batch_norm = nn.BatchNorm1d(hidden_size)\n",
    "        self.fc2 = nn.Linear(hidden_size, vocab_size)\n",
    "        \n",
    "    def forward(self, x):\n",
    "        x = self.embedding(x)\n",
    "        x = x.view(x.size(0), -1)\n",
    "        x = F.tanh(self.fc1(x))\n",
    "        x = self.batch_norm(x)\n",
    "        x = self.fc2(x)\n",
    "        return x\n",
    "\"\"\"\n",
    "class MLP():\n",
    "    def __init__(self, vocab_size, embedding_size, hidden_size):\n",
    "        self.embedding = Embedding(vocab_size, embedding_size)\n",
    "        self.fc1 = Linear(embedding_size * block_size, hidden_size)\n",
    "        self.tanh = Tanh()\n",
    "        self.fc2 = Linear(hidden_size, vocab_size)\n",
    "        self.batch_norm = BatchNorm1d(hidden_size)\n",
    "        self.softmax = Softmax()\n",
    "        \n",
    "    def forward(self, x):\n",
    "        x = self.embedding.forward(x)\n",
    "        self.x1 = self.fc1.forward(x)\n",
    "        x = self.tanh.forward(self.x1)\n",
    "        x = self.batch_norm.forward(x)\n",
    "        self.x2 = self.fc2.forward(x)\n",
    "        return self.softmax.forward(self.x2)\n",
    "    \n",
    "    def backward(self, dy):\n",
    "        dy = self.softmax.backward(dy)\n",
    "        dy = self.fc2.backward(dy)\n",
    "        dy = self.batch_norm.backward(dy)\n",
    "        dy = self.tanh.backward(dy)\n",
    "        dy = self.fc1.backward(dy)\n",
    "        return dy\n",
    "    \n",
    "    def update(self, lr):\n",
    "        self.fc1.update(lr)\n",
    "        self.fc2.update(lr)\n",
    "        self.batch_norm.gamma -= lr * self.batch_norm.dgamma\n",
    "        self.batch_norm.beta -= lr * self.batch_norm.dbeta\n",
    "        \n",
    "    def train(self, X, Y, lr):\n",
    "        x = self.forward(X)\n",
    "        loss = F.nll_loss(x, Y)\n",
    "        dy = x.clone()\n",
    "        dy[range(X.size(0)), Y] -= 1\n",
    "        dy /= X.size(0)\n",
    "        dy = self.backward(dy)\n",
    "        self.update(lr)\n",
    "        return loss\n",
    "    \n",
    "    def eval(self, X):\n",
    "        return self.forward(X)\n",
    "    \n",
    "    def save(self, path):\n",
    "        torch.save({\n",
    "            'embedding': self.embedding.embedding,\n",
    "            'fc1_weight': self.fc1.weight,\n",
    "            'fc1_bias': self.fc1.bias,\n",
    "            'fc2_weight': self.fc2.weight,\n",
    "            'fc2_bias': self.fc2.bias,\n",
    "            'gamma': self.batch_norm.gamma,\n",
    "            'beta': self.batch_norm.beta,\n",
    "            'moving_mean': self.batch_norm.moving_mean,\n",
    "            'moving_var': self.batch_norm.moving_var\n",
    "        }, path)\n",
    "        \n",
    "    def load(self, path):\n",
    "        checkpoint = torch.load(path)\n",
    "        self.embedding.embedding = checkpoint['embedding']\n",
    "        self.fc1.weight = checkpoint['fc1_weight']\n",
    "        self.fc1.bias = checkpoint['fc1_bias']\n",
    "        self.fc2.weight = checkpoint['fc2_weight']\n",
    "        self.fc2.bias = checkpoint['fc2_bias']\n",
    "        self.batch_norm.gamma = checkpoint['gamma']\n",
    "        self.batch_norm.beta = checkpoint['beta']\n",
    "        self.batch_norm.moving_mean = checkpoint['moving_mean']\n",
    "        self.batch_norm.moving_var = checkpoint['moving_var']\n",
    "        \n",
    "    def parameters(self):\n",
    "        return [\n",
    "            self.embedding.embedding,\n",
    "            self.fc1.weight,\n",
    "            self.fc1.bias,\n",
    "            self.fc2.weight,\n",
    "            self.fc2.bias,\n",
    "            self.batch_norm.gamma,\n",
    "            self.batch_norm.beta,\n",
    "            self.batch_norm.moving_mean,\n",
    "            self.batch_norm.moving_var\n",
    "        ]\n",
    "        \n",
    "    def to(self, device):\n",
    "        self.embedding.embedding = self.embedding.embedding.to(device)\n",
    "        self.fc1.weight = self.fc1.weight.to(device)\n",
    "        self.fc1.bias = self.fc1.bias.to(device)\n",
    "        self.fc2.weight = self.fc2.weight.to(device)\n",
    "        self.fc2.bias = self.fc2.bias.to(device)\n",
    "        self.batch_norm.gamma = self.batch_norm.gamma.to(device)\n",
    "        self.batch_norm.beta = self.batch_norm.beta.to(device)\n",
    "        self.batch_norm.moving_mean = self.batch_norm.moving_mean.to(device)\n",
    "        self.batch_norm.moving_var = self.batch_norm.moving_var.to(device)\n",
    "        return self\n",
    "        \n",
    "    def __call__(self, X):\n",
    "        return self.forward(X)\n",
    "    \n",
    "model = MLP(vocab_size, embedding_size, hidden_size).to(device)\n",
    "print(f\"Number of parameters: {sum(p.numel() for p in model.parameters())}\")\n",
    "\n",
    "# check the model\n",
    "X, Y = next(iter(train_loader))\n",
    "print(X.shape, Y.shape)\n",
    "model(X).shape"
   ],
   "id": "9e86d988b5d18f57",
   "outputs": [
    {
     "name": "stdout",
     "output_type": "stream",
     "text": [
      "Number of parameters: 30427\n",
      "torch.Size([64, 3]) torch.Size([64])\n"
     ]
    },
    {
     "ename": "RuntimeError",
     "evalue": "mat1 and mat2 shapes cannot be multiplied (192x64 and 192x128)",
     "output_type": "error",
     "traceback": [
      "\u001B[0;31m---------------------------------------------------------------------------\u001B[0m",
      "\u001B[0;31mRuntimeError\u001B[0m                              Traceback (most recent call last)",
      "Cell \u001B[0;32mIn[28], line 121\u001B[0m\n\u001B[1;32m    119\u001B[0m X, Y \u001B[38;5;241m=\u001B[39m \u001B[38;5;28mnext\u001B[39m(\u001B[38;5;28miter\u001B[39m(train_loader))\n\u001B[1;32m    120\u001B[0m \u001B[38;5;28mprint\u001B[39m(X\u001B[38;5;241m.\u001B[39mshape, Y\u001B[38;5;241m.\u001B[39mshape)\n\u001B[0;32m--> 121\u001B[0m model(X)\u001B[38;5;241m.\u001B[39mshape\n",
      "Cell \u001B[0;32mIn[28], line 113\u001B[0m, in \u001B[0;36mMLP.__call__\u001B[0;34m(self, X)\u001B[0m\n\u001B[1;32m    112\u001B[0m \u001B[38;5;28;01mdef\u001B[39;00m \u001B[38;5;21m__call__\u001B[39m(\u001B[38;5;28mself\u001B[39m, X):\n\u001B[0;32m--> 113\u001B[0m     \u001B[38;5;28;01mreturn\u001B[39;00m \u001B[38;5;28mself\u001B[39m\u001B[38;5;241m.\u001B[39mforward(X)\n",
      "Cell \u001B[0;32mIn[28], line 29\u001B[0m, in \u001B[0;36mMLP.forward\u001B[0;34m(self, x)\u001B[0m\n\u001B[1;32m     27\u001B[0m \u001B[38;5;28;01mdef\u001B[39;00m \u001B[38;5;21mforward\u001B[39m(\u001B[38;5;28mself\u001B[39m, x):\n\u001B[1;32m     28\u001B[0m     x \u001B[38;5;241m=\u001B[39m \u001B[38;5;28mself\u001B[39m\u001B[38;5;241m.\u001B[39membedding\u001B[38;5;241m.\u001B[39mforward(x)\n\u001B[0;32m---> 29\u001B[0m     \u001B[38;5;28mself\u001B[39m\u001B[38;5;241m.\u001B[39mx1 \u001B[38;5;241m=\u001B[39m \u001B[38;5;28mself\u001B[39m\u001B[38;5;241m.\u001B[39mfc1\u001B[38;5;241m.\u001B[39mforward(x)\n\u001B[1;32m     30\u001B[0m     x \u001B[38;5;241m=\u001B[39m \u001B[38;5;28mself\u001B[39m\u001B[38;5;241m.\u001B[39mtanh\u001B[38;5;241m.\u001B[39mforward(\u001B[38;5;28mself\u001B[39m\u001B[38;5;241m.\u001B[39mx1)\n\u001B[1;32m     31\u001B[0m     x \u001B[38;5;241m=\u001B[39m \u001B[38;5;28mself\u001B[39m\u001B[38;5;241m.\u001B[39mbatch_norm\u001B[38;5;241m.\u001B[39mforward(x)\n",
      "Cell \u001B[0;32mIn[14], line 10\u001B[0m, in \u001B[0;36mLinear.forward\u001B[0;34m(self, x)\u001B[0m\n\u001B[1;32m      8\u001B[0m \u001B[38;5;28;01mdef\u001B[39;00m \u001B[38;5;21mforward\u001B[39m(\u001B[38;5;28mself\u001B[39m, x):\n\u001B[1;32m      9\u001B[0m     \u001B[38;5;28mself\u001B[39m\u001B[38;5;241m.\u001B[39mx \u001B[38;5;241m=\u001B[39m x\n\u001B[0;32m---> 10\u001B[0m     \u001B[38;5;28;01mreturn\u001B[39;00m x \u001B[38;5;241m@\u001B[39m \u001B[38;5;28mself\u001B[39m\u001B[38;5;241m.\u001B[39mweight \u001B[38;5;241m+\u001B[39m \u001B[38;5;28mself\u001B[39m\u001B[38;5;241m.\u001B[39mbias\n",
      "\u001B[0;31mRuntimeError\u001B[0m: mat1 and mat2 shapes cannot be multiplied (192x64 and 192x128)"
     ]
    }
   ],
   "execution_count": 28
  },
  {
   "metadata": {},
   "cell_type": "markdown",
   "source": "## Neuron Activation",
   "id": "96fd5988367e1023"
  },
  {
   "metadata": {},
   "cell_type": "code",
   "outputs": [],
   "execution_count": null,
   "source": "",
   "id": "6a1405bd951b2283"
  },
  {
   "metadata": {},
   "cell_type": "markdown",
   "source": "## Training",
   "id": "bf8548e10e58ca38"
  },
  {
   "metadata": {},
   "cell_type": "code",
   "source": "model.train",
   "id": "2e10510b01733d10",
   "outputs": [],
   "execution_count": null
  },
  {
   "metadata": {},
   "cell_type": "markdown",
   "source": "## Inference",
   "id": "9c5dc3d9e7553a5c"
  }
 ],
 "metadata": {
  "kernelspec": {
   "display_name": "Python 3",
   "language": "python",
   "name": "python3"
  },
  "language_info": {
   "codemirror_mode": {
    "name": "ipython",
    "version": 2
   },
   "file_extension": ".py",
   "mimetype": "text/x-python",
   "name": "python",
   "nbconvert_exporter": "python",
   "pygments_lexer": "ipython2",
   "version": "2.7.6"
  }
 },
 "nbformat": 4,
 "nbformat_minor": 5
}
