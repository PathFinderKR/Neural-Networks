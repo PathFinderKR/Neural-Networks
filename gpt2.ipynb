{
 "cells": [
  {
   "cell_type": "code",
   "execution_count": null,
   "id": "initial_id",
   "metadata": {
    "collapsed": true
   },
   "outputs": [],
   "source": [
    "from dataclasses import dataclass\n",
    "\n",
    "# PyTorch\n",
    "import torch\n",
    "import torch.nn as nn"
   ]
  },
  {
   "metadata": {},
   "cell_type": "code",
   "outputs": [],
   "execution_count": null,
   "source": [
    "@dataclass\n",
    "class GPTConfig:\n",
    "    vocab_size: int = 50257\n",
    "    context_length: int = 1024\n",
    "    embedding_size: int = 768\n",
    "    num_layers: int = 12\n",
    "    num_heads: int = 12\n",
    "    hidden_size: int = 3072\n",
    "    dropout: float = 0.1"
   ],
   "id": "c9562749d6f2d35f"
  },
  {
   "metadata": {},
   "cell_type": "code",
   "outputs": [],
   "execution_count": null,
   "source": [
    "class SelfAttention(nn.Module):\n",
    "    def __init__(self, config):\n",
    "        super().__init__()\n",
    "        \n",
    "        assert config.embedding_size % config.num_heads == 0\n",
    "        "
   ],
   "id": "a0dbc6aa2cc6b5bb"
  },
  {
   "metadata": {},
   "cell_type": "code",
   "outputs": [],
   "execution_count": null,
   "source": [
    "class MLP(nn.Module):\n",
    "    def __init__(self, config):\n",
    "        super().__init__()\n",
    "        \n",
    "        self.fc1 = nn.Linear(config.embedding_size, config.hidden_size)\n",
    "        self.gelu = nn.GELU(approximate='tanh')\n",
    "        self.fc2 = nn.Linear(config.hidden_size, config.embedding_size)\n",
    "        \n",
    "    def forward(self, x):\n",
    "        x = self.fc1(x)\n",
    "        x = self.gelu(x)\n",
    "        x = self.fc2(x)\n",
    "        return x"
   ],
   "id": "cad9b165f09584b5"
  },
  {
   "metadata": {},
   "cell_type": "code",
   "outputs": [],
   "execution_count": null,
   "source": [
    "class GPTLayer(nn.Module):\n",
    "    def __init__(self, config):\n",
    "        super().__init__()\n",
    "        \n",
    "        self.layernorm1 = nn.LayerNorm(config.embedding_size)\n",
    "        self.attention = nn.SelfAttention(config.embedding_size, config.num_heads, config.dropout)\n",
    "        self.layernorm2 = nn.LayerNorm(config.embedding_size)\n",
    "        self.mlp = MLP(config)\n",
    "        \n",
    "    def forward(self, x):\n",
    "        x = x + self.attention(self.layernorm1(x))\n",
    "        x = x + self.mlp(self.layernorm2(x))\n",
    "        return x"
   ],
   "id": "8eb3a9f5ded754a2"
  },
  {
   "metadata": {},
   "cell_type": "code",
   "outputs": [],
   "execution_count": null,
   "source": [
    "class GPT(nn.Module):\n",
    "    def __init__(self, config: GPTConfig):\n",
    "        super().__init__()\n",
    "        self.config = config\n",
    "        \n",
    "        self.transformer = nn.ModuleDict(dict(\n",
    "            embeddings=nn.Embedding(config.vocab_size, config.embedding_size),\n",
    "            positional_encoding=nn.Embedding(config.context_length, config.embedding_size),\n",
    "            layers=nn.ModuleList([GPTLayer(config) for _ in range(config.num_layers)]),\n",
    "            layernorm=nn.LayerNorm(config.embedding_size)\n",
    "        ))\n",
    "        self.\n",
    "            \n",
    "        "
   ],
   "id": "c098258a91d30f28"
  }
 ],
 "metadata": {
  "kernelspec": {
   "display_name": "Python 3",
   "language": "python",
   "name": "python3"
  },
  "language_info": {
   "codemirror_mode": {
    "name": "ipython",
    "version": 2
   },
   "file_extension": ".py",
   "mimetype": "text/x-python",
   "name": "python",
   "nbconvert_exporter": "python",
   "pygments_lexer": "ipython2",
   "version": "2.7.6"
  }
 },
 "nbformat": 4,
 "nbformat_minor": 5
}
