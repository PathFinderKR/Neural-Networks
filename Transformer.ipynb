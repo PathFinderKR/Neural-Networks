{
 "cells": [
  {
   "metadata": {},
   "cell_type": "markdown",
   "source": "# Importing Libraries",
   "id": "31c5bedf65442dd4"
  },
  {
   "metadata": {
    "ExecuteTime": {
     "end_time": "2024-11-05T02:43:07.822443Z",
     "start_time": "2024-11-05T02:43:06.140930Z"
    }
   },
   "cell_type": "code",
   "source": [
    "import os\n",
    "import random\n",
    "import numpy as np\n",
    "from tqdm import tqdm\n",
    "import matplotlib.pyplot as plt\n",
    "from dataclasses import dataclass\n",
    "\n",
    "# pytorch\n",
    "import torch\n",
    "import torch.nn as nn\n",
    "import torch.optim as optim\n",
    "from torch.nn import functional as F\n",
    "from torch.utils.data import Dataset, DataLoader"
   ],
   "id": "18c5d42ca4b3573a",
   "outputs": [],
   "execution_count": 1
  },
  {
   "metadata": {},
   "cell_type": "markdown",
   "source": "# Configuration",
   "id": "a33f8814c43a02b3"
  },
  {
   "metadata": {
    "ExecuteTime": {
     "end_time": "2024-11-05T02:43:07.828373Z",
     "start_time": "2024-11-05T02:43:07.823687Z"
    }
   },
   "cell_type": "code",
   "source": [
    "@dataclass\n",
    "class CONFIG:\n",
    "    debug: bool = True\n",
    "    \n",
    "    # Model\n",
    "    vocab_size: int = None\n",
    "    ## Bigram\n",
    "    d_embed_bigram: int = 64\n",
    "    ## Transformer\n",
    "    model_size: str = 'large'  # 'small' or 'large'\n",
    "    ### Small\n",
    "    if model_size == 'small':\n",
    "        context_size: int = 32\n",
    "        n_layers: int = 3\n",
    "        n_heads: int = 4\n",
    "        d_embed: int = 64\n",
    "        d_ff: int = d_embed * 4\n",
    "        dropout: float = 0.1\n",
    "    ### Large\n",
    "    elif model_size == 'large':\n",
    "        context_size: int = 32\n",
    "        n_layers: int = 6\n",
    "        n_heads: int = 4\n",
    "        d_embed: int = 64\n",
    "        d_ff: int = d_embed * 4\n",
    "        dropout: float = 0.2\n",
    "\n",
    "    flash_attention: bool = False\n",
    "    \n",
    "    # Dataset\n",
    "    dataset_path: str = 'data/'\n",
    "    dtype: torch.dtype = torch.long\n",
    "    validation_size: float = 0.2\n",
    "    \n",
    "    # Device\n",
    "    device: torch.device = None\n",
    "    \n",
    "    # Training\n",
    "    epochs: int = 10\n",
    "    batch_size: int = 2048\n",
    "    learning_rate: float = 2e-5\n",
    "    \n",
    "    # Generation\n",
    "    max_new_tokens: int = 1000\n",
    "    temperature: float = 1.0\n",
    "    \n",
    "    # Seed\n",
    "    seed: int = 101"
   ],
   "id": "2a19f3ab5bc4989c",
   "outputs": [],
   "execution_count": 2
  },
  {
   "metadata": {},
   "cell_type": "markdown",
   "source": "# Reproducibility",
   "id": "bb8a94bbb1490853"
  },
  {
   "metadata": {
    "ExecuteTime": {
     "end_time": "2024-11-05T02:43:07.834664Z",
     "start_time": "2024-11-05T02:43:07.829253Z"
    }
   },
   "cell_type": "code",
   "source": [
    "def set_seed(seed):\n",
    "    random.seed(seed)\n",
    "    os.environ['PYTHONHASHSEED'] = str(seed)\n",
    "    np.random.seed(seed)\n",
    "    torch.manual_seed(seed)\n",
    "    torch.cuda.manual_seed(seed)\n",
    "    torch.backends.cudnn.deterministic = True\n",
    "    torch.backends.cudnn.benchmark = True\n",
    "    print(f\"Seed: {seed}\")\n",
    "    \n",
    "set_seed(CONFIG.seed)"
   ],
   "id": "2e3b80e991754385",
   "outputs": [
    {
     "name": "stdout",
     "output_type": "stream",
     "text": [
      "Seed: 101\n"
     ]
    }
   ],
   "execution_count": 3
  },
  {
   "metadata": {},
   "cell_type": "markdown",
   "source": "# Device",
   "id": "5d709d829d6405fb"
  },
  {
   "metadata": {
    "ExecuteTime": {
     "end_time": "2024-11-05T02:43:07.854493Z",
     "start_time": "2024-11-05T02:43:07.836245Z"
    }
   },
   "cell_type": "code",
   "source": [
    "def configure_device():\n",
    "    if torch.cuda.is_available():\n",
    "        device = torch.device(\"cuda\")\n",
    "        num_gpu = torch.cuda.device_count()\n",
    "        print(\"> Running on GPU\", end=' | ')\n",
    "        print(\"Num of GPUs: \", num_gpu)\n",
    "    elif torch.backends.mps.is_available():\n",
    "        device = torch.device(\"mps\")\n",
    "        print(\"> Running on MPS\")\n",
    "    else:\n",
    "        device = torch.device(\"cpu\")\n",
    "        print(\"> Running on CPU\")\n",
    "    return device\n",
    "\n",
    "CONFIG.device = configure_device()"
   ],
   "id": "684818f9e79dea2c",
   "outputs": [
    {
     "name": "stdout",
     "output_type": "stream",
     "text": [
      "> Running on MPS\n"
     ]
    }
   ],
   "execution_count": 4
  },
  {
   "metadata": {},
   "cell_type": "markdown",
   "source": "# Debug",
   "id": "dfb6f8895568da5d"
  },
  {
   "metadata": {
    "ExecuteTime": {
     "end_time": "2024-11-05T02:43:07.857305Z",
     "start_time": "2024-11-05T02:43:07.855313Z"
    }
   },
   "cell_type": "code",
   "source": [
    "if CONFIG.debug:\n",
    "    CONFIG.epochs = 1\n",
    "    CONFIG.max_new_tokens = 100"
   ],
   "id": "f03a3c0745d3bb19",
   "outputs": [],
   "execution_count": 5
  },
  {
   "metadata": {},
   "cell_type": "markdown",
   "source": "# Dataset",
   "id": "d21d464e0d47b67f"
  },
  {
   "metadata": {
    "ExecuteTime": {
     "end_time": "2024-11-05T02:43:07.860378Z",
     "start_time": "2024-11-05T02:43:07.858401Z"
    }
   },
   "cell_type": "code",
   "source": "shakespeare_dataset = CONFIG.dataset_path + 'shakespeare.txt'",
   "id": "51a5ce43db75a200",
   "outputs": [],
   "execution_count": 6
  },
  {
   "metadata": {
    "ExecuteTime": {
     "end_time": "2024-11-05T02:43:07.864522Z",
     "start_time": "2024-11-05T02:43:07.861510Z"
    }
   },
   "cell_type": "code",
   "source": [
    "with open(shakespeare_dataset, 'r', encoding='utf-8') as f:\n",
    "    shakespeare_text = f.read()"
   ],
   "id": "714da5288ce6a8f6",
   "outputs": [],
   "execution_count": 7
  },
  {
   "metadata": {
    "ExecuteTime": {
     "end_time": "2024-11-05T02:43:07.889552Z",
     "start_time": "2024-11-05T02:43:07.887047Z"
    }
   },
   "cell_type": "code",
   "source": [
    "if CONFIG.debug:\n",
    "    print(shakespeare_text[:1000])\n",
    "    print(f'Total number of characters in the text: {len(shakespeare_text)}')"
   ],
   "id": "aec77acc97c11a37",
   "outputs": [
    {
     "name": "stdout",
     "output_type": "stream",
     "text": [
      "First Citizen:\n",
      "Before we proceed any further, hear me speak.\n",
      "\n",
      "All:\n",
      "Speak, speak.\n",
      "\n",
      "First Citizen:\n",
      "You are all resolved rather to die than to famish?\n",
      "\n",
      "All:\n",
      "Resolved. resolved.\n",
      "\n",
      "First Citizen:\n",
      "First, you know Caius Marcius is chief enemy to the people.\n",
      "\n",
      "All:\n",
      "We know't, we know't.\n",
      "\n",
      "First Citizen:\n",
      "Let us kill him, and we'll have corn at our own price.\n",
      "Is't a verdict?\n",
      "\n",
      "All:\n",
      "No more talking on't; let it be done: away, away!\n",
      "\n",
      "Second Citizen:\n",
      "One word, good citizens.\n",
      "\n",
      "First Citizen:\n",
      "We are accounted poor citizens, the patricians good.\n",
      "What authority surfeits on would relieve us: if they\n",
      "would yield us but the superfluity, while it were\n",
      "wholesome, we might guess they relieved us humanely;\n",
      "but they think we are too dear: the leanness that\n",
      "afflicts us, the object of our misery, is as an\n",
      "inventory to particularise their abundance; our\n",
      "sufferance is a gain to them Let us revenge this with\n",
      "our pikes, ere we become rakes: for the gods know I\n",
      "speak this in hunger for bread, not in thirst for revenge.\n",
      "\n",
      "\n",
      "Total number of characters in the text: 1115394\n"
     ]
    }
   ],
   "execution_count": 8
  },
  {
   "metadata": {
    "ExecuteTime": {
     "end_time": "2024-11-05T02:43:08.053280Z",
     "start_time": "2024-11-05T02:43:08.039864Z"
    }
   },
   "cell_type": "code",
   "source": [
    "chars = list(set(shakespeare_text))\n",
    "chars.append('\\0')  # Padding token\n",
    "chars.sort()\n",
    "vocab_size = len(chars)\n",
    "CONFIG.vocab_size = vocab_size\n",
    "print(f'Unique characters: {chars}')\n",
    "print(f'Total number of unique characters: {vocab_size}')"
   ],
   "id": "6329c3be0ba0f684",
   "outputs": [
    {
     "name": "stdout",
     "output_type": "stream",
     "text": [
      "Unique characters: ['\\x00', '\\n', ' ', '!', '$', '&', \"'\", ',', '-', '.', '3', ':', ';', '?', 'A', 'B', 'C', 'D', 'E', 'F', 'G', 'H', 'I', 'J', 'K', 'L', 'M', 'N', 'O', 'P', 'Q', 'R', 'S', 'T', 'U', 'V', 'W', 'X', 'Y', 'Z', 'a', 'b', 'c', 'd', 'e', 'f', 'g', 'h', 'i', 'j', 'k', 'l', 'm', 'n', 'o', 'p', 'q', 'r', 's', 't', 'u', 'v', 'w', 'x', 'y', 'z']\n",
      "Total number of unique characters: 66\n"
     ]
    }
   ],
   "execution_count": 9
  },
  {
   "metadata": {},
   "cell_type": "markdown",
   "source": "# Tokenization (Character Level)",
   "id": "615c3f98977fb"
  },
  {
   "metadata": {
    "ExecuteTime": {
     "end_time": "2024-11-05T02:43:54.954745Z",
     "start_time": "2024-11-05T02:43:54.951258Z"
    }
   },
   "cell_type": "code",
   "source": [
    "char_to_int = {c: i for i, c in enumerate(chars)}\n",
    "encode = lambda s: [char_to_int[c] for c in s]\n",
    "int_to_char = {i: c for i, c in enumerate(chars)}\n",
    "decode = lambda l: \"\".join([int_to_char[int(i)] for i in l])\n",
    "print(f'Character to integer mapping: {char_to_int}')\n",
    "print(f'Integer to character mapping: {int_to_char}')"
   ],
   "id": "ac7f9377f58e4bfc",
   "outputs": [
    {
     "name": "stdout",
     "output_type": "stream",
     "text": [
      "Character to integer mapping: {'\\x00': 0, '\\n': 1, ' ': 2, '!': 3, '$': 4, '&': 5, \"'\": 6, ',': 7, '-': 8, '.': 9, '3': 10, ':': 11, ';': 12, '?': 13, 'A': 14, 'B': 15, 'C': 16, 'D': 17, 'E': 18, 'F': 19, 'G': 20, 'H': 21, 'I': 22, 'J': 23, 'K': 24, 'L': 25, 'M': 26, 'N': 27, 'O': 28, 'P': 29, 'Q': 30, 'R': 31, 'S': 32, 'T': 33, 'U': 34, 'V': 35, 'W': 36, 'X': 37, 'Y': 38, 'Z': 39, 'a': 40, 'b': 41, 'c': 42, 'd': 43, 'e': 44, 'f': 45, 'g': 46, 'h': 47, 'i': 48, 'j': 49, 'k': 50, 'l': 51, 'm': 52, 'n': 53, 'o': 54, 'p': 55, 'q': 56, 'r': 57, 's': 58, 't': 59, 'u': 60, 'v': 61, 'w': 62, 'x': 63, 'y': 64, 'z': 65}\n",
      "Integer to character mapping: {0: '\\x00', 1: '\\n', 2: ' ', 3: '!', 4: '$', 5: '&', 6: \"'\", 7: ',', 8: '-', 9: '.', 10: '3', 11: ':', 12: ';', 13: '?', 14: 'A', 15: 'B', 16: 'C', 17: 'D', 18: 'E', 19: 'F', 20: 'G', 21: 'H', 22: 'I', 23: 'J', 24: 'K', 25: 'L', 26: 'M', 27: 'N', 28: 'O', 29: 'P', 30: 'Q', 31: 'R', 32: 'S', 33: 'T', 34: 'U', 35: 'V', 36: 'W', 37: 'X', 38: 'Y', 39: 'Z', 40: 'a', 41: 'b', 42: 'c', 43: 'd', 44: 'e', 45: 'f', 46: 'g', 47: 'h', 48: 'i', 49: 'j', 50: 'k', 51: 'l', 52: 'm', 53: 'n', 54: 'o', 55: 'p', 56: 'q', 57: 'r', 58: 's', 59: 't', 60: 'u', 61: 'v', 62: 'w', 63: 'x', 64: 'y', 65: 'z'}\n"
     ]
    }
   ],
   "execution_count": 13
  },
  {
   "metadata": {
    "ExecuteTime": {
     "end_time": "2024-11-05T02:43:55.245721Z",
     "start_time": "2024-11-05T02:43:55.158184Z"
    }
   },
   "cell_type": "code",
   "source": "shakespeare_tokens = torch.tensor(encode(shakespeare_text), dtype=CONFIG.dtype)",
   "id": "bd8df31b7eb6c4dc",
   "outputs": [],
   "execution_count": 14
  },
  {
   "metadata": {
    "ExecuteTime": {
     "end_time": "2024-11-05T02:43:55.780961Z",
     "start_time": "2024-11-05T02:43:55.741832Z"
    }
   },
   "cell_type": "code",
   "source": [
    "if CONFIG.debug:\n",
    "    print(f\"Sample text: {shakespeare_text[:10]}\")\n",
    "    print(f\"Sample tokens: {shakespeare_tokens[:10]}\")\n",
    "    print(f\"Sample decoded text: {decode(shakespeare_tokens[:10])}\")\n",
    "    print(f\"Total number of characters: {len(shakespeare_text)}\")\n",
    "    print(f\"Total number of tokens: {len(shakespeare_tokens)}\")\n",
    "    print(f\"Total number of unique tokens: {len(torch.unique(shakespeare_tokens))}\")\n",
    "    print(f\"dtype: {shakespeare_tokens.dtype}\")"
   ],
   "id": "f1c6b91c3827ec0e",
   "outputs": [
    {
     "name": "stdout",
     "output_type": "stream",
     "text": [
      "Sample text: First Citi\n",
      "Sample tokens: tensor([19, 48, 57, 58, 59,  2, 16, 48, 59, 48])\n",
      "Sample decoded text: First Citi\n",
      "Total number of characters: 1115394\n",
      "Total number of tokens: 1115394\n",
      "Total number of unique tokens: 65\n",
      "dtype: torch.int64\n"
     ]
    }
   ],
   "execution_count": 15
  },
  {
   "metadata": {},
   "cell_type": "markdown",
   "source": "# Preprocessing",
   "id": "90d826858f54ca9a"
  },
  {
   "metadata": {
    "ExecuteTime": {
     "end_time": "2024-11-05T02:44:02.754334Z",
     "start_time": "2024-11-05T02:44:02.751311Z"
    }
   },
   "cell_type": "code",
   "source": [
    "# Train Validation Split\n",
    "train_size = int(len(shakespeare_tokens) * (1 - CONFIG.validation_size))\n",
    "train_tokens = shakespeare_tokens[:train_size]\n",
    "validation_tokens = shakespeare_tokens[train_size:]\n",
    "print(f'Total number of tokens in the training set: {len(train_tokens)}')\n",
    "print(f'Total number of tokens in the validation set: {len(validation_tokens)}')"
   ],
   "id": "6aaaf43dab2d1cb6",
   "outputs": [
    {
     "name": "stdout",
     "output_type": "stream",
     "text": [
      "Total number of tokens in the training set: 892315\n",
      "Total number of tokens in the validation set: 223079\n"
     ]
    }
   ],
   "execution_count": 16
  },
  {
   "metadata": {
    "ExecuteTime": {
     "end_time": "2024-10-10T09:50:39.927355Z",
     "start_time": "2024-10-10T09:50:39.920788Z"
    }
   },
   "cell_type": "code",
   "source": [
    "class ShakespeareDataset(Dataset):\n",
    "    def __init__(self, tokens, context_size):\n",
    "        self.tokens = tokens\n",
    "        self.context_size = context_size\n",
    "        \n",
    "    def __len__(self):\n",
    "        return len(self.tokens) - self.context_size\n",
    "    \n",
    "    def __getitem__(self, idx):\n",
    "        return self.tokens[idx:idx+self.context_size], self.tokens[idx+1:idx+self.context_size+1]\n",
    "    \n",
    "bigram_train_dataset = ShakespeareDataset(train_tokens, 2)\n",
    "bigram_validation_dataset = ShakespeareDataset(validation_tokens, 2)\n",
    "bigram_train_loader = DataLoader(bigram_train_dataset, batch_size=CONFIG.batch_size, shuffle=True)\n",
    "bigram_validation_loader = DataLoader(bigram_validation_dataset, batch_size=CONFIG.batch_size, shuffle=False)\n",
    "\n",
    "train_dataset = ShakespeareDataset(train_tokens, CONFIG.context_size)\n",
    "validation_dataset = ShakespeareDataset(validation_tokens, CONFIG.context_size)\n",
    "train_loader = DataLoader(train_dataset, batch_size=CONFIG.batch_size, shuffle=True)\n",
    "validation_loader = DataLoader(validation_dataset, batch_size=CONFIG.batch_size, shuffle=False)"
   ],
   "id": "3bbc62ea347bcc61",
   "outputs": [],
   "execution_count": 17
  },
  {
   "metadata": {
    "ExecuteTime": {
     "end_time": "2024-10-10T09:50:40.127548Z",
     "start_time": "2024-10-10T09:50:39.928355Z"
    }
   },
   "cell_type": "code",
   "source": [
    "if CONFIG.debug:\n",
    "    sample_x, sample_y = next(iter(train_loader))\n",
    "    sample_x, sample_y = sample_x.to(CONFIG.device), sample_y.to(CONFIG.device)\n",
    "    print(sample_x.shape, sample_y.shape)\n",
    "    print(sample_x[0])\n",
    "    print(sample_y[0])"
   ],
   "id": "a0f2ac854ec887ce",
   "outputs": [
    {
     "name": "stdout",
     "output_type": "stream",
     "text": [
      "torch.Size([2048, 32]) torch.Size([2048, 32])\n",
      "tensor([11,  1, 57, 43, 56, 60, 43,  1, 19, 53, 42,  8,  1, 35, 46, 39, 58,  6,\n",
      "         1, 46, 39, 60, 43,  1, 63, 53, 59,  1, 42, 47, 52, 43],\n",
      "       device='cuda:0')\n",
      "tensor([ 1, 57, 43, 56, 60, 43,  1, 19, 53, 42,  8,  1, 35, 46, 39, 58,  6,  1,\n",
      "        46, 39, 60, 43,  1, 63, 53, 59,  1, 42, 47, 52, 43, 42],\n",
      "       device='cuda:0')\n"
     ]
    }
   ],
   "execution_count": 18
  },
  {
   "metadata": {},
   "cell_type": "markdown",
   "source": "# Model",
   "id": "be7fb06e3c4537d0"
  },
  {
   "metadata": {},
   "cell_type": "markdown",
   "source": "## Bigram",
   "id": "674025559f4cacff"
  },
  {
   "metadata": {
    "ExecuteTime": {
     "end_time": "2024-10-10T09:50:40.132148Z",
     "start_time": "2024-10-10T09:50:40.128433Z"
    }
   },
   "cell_type": "code",
   "source": [
    "class Bigram(nn.Module):\n",
    "    def __init__(self, config):\n",
    "        super().__init__()\n",
    "        self.vocab_size = config.vocab_size\n",
    "        self.d_embed = config.d_embed_bigram\n",
    "        self.max_new_tokens = config.max_new_tokens\n",
    "        self.temperature = config.temperature\n",
    "        \n",
    "        self.embedding = nn.Embedding(self.vocab_size, self.d_embed)\n",
    "        self.linear = nn.Linear(self.d_embed, self.vocab_size)\n",
    "        \n",
    "    def forward(self, x):  # [batch_size, 2]\n",
    "        x = self.embedding(x)  # [batch_size, 2, d_embed]\n",
    "        x = self.linear(x)  # [batch_size, 2, vocab_size]\n",
    "        return x\n",
    "    \n",
    "    def loss(self, x, y):  # x: [batch_size, 2], y: [batch_size, 2]\n",
    "        y = y.view(-1)  # [batch_size * 2]\n",
    "        y_pred = self.forward(x)  # [batch_size, 2, vocab_size]\n",
    "        y_pred = y_pred.view(-1, self.vocab_size)  # [batch_size * 2, vocab_size]\n",
    "        return F.cross_entropy(y_pred, y)\n",
    "    \n",
    "    @torch.no_grad()\n",
    "    def generate(self, x, max_new_tokens = None):\n",
    "        self.eval()\n",
    "        if max_new_tokens is None:\n",
    "            max_new_tokens = self.max_new_tokens\n",
    "\n",
    "        for _ in range(max_new_tokens):  # x: [batch_size, 2]\n",
    "            output = self.forward(x)  # [batch_size, 2, vocab_size]\n",
    "            logits = output[:, -1, :] / self.temperature\n",
    "            next_token = torch.multinomial(F.softmax(logits, dim=-1), num_samples=1).squeeze(-1)  # [batch_size]\n",
    "            x = torch.cat((x, next_token.unsqueeze(-1)), dim=-1)  # [batch_size, 2]   \n",
    "            \n",
    "            # Decode token\n",
    "            decoded_token = decode([next_token[0].item()])\n",
    "            print(decoded_token, end='', flush=True)\n",
    "            \n",
    "    def get_num_params(self):\n",
    "        return sum(p.numel() for p in self.parameters())"
   ],
   "id": "46090953c0744a7",
   "outputs": [],
   "execution_count": 19
  },
  {
   "metadata": {
    "ExecuteTime": {
     "end_time": "2024-10-10T09:50:40.141942Z",
     "start_time": "2024-10-10T09:50:40.133053Z"
    }
   },
   "cell_type": "code",
   "source": [
    "bigram = Bigram(CONFIG).to(CONFIG.device)\n",
    "print(bigram)\n",
    "print(f'Number of parameters: {bigram.get_num_params()}')"
   ],
   "id": "beeb20e57204ca71",
   "outputs": [
    {
     "name": "stdout",
     "output_type": "stream",
     "text": [
      "Bigram(\n",
      "  (embedding): Embedding(65, 64)\n",
      "  (linear): Linear(in_features=64, out_features=65, bias=True)\n",
      ")\n"
     ]
    }
   ],
   "execution_count": 20
  },
  {
   "metadata": {
    "ExecuteTime": {
     "end_time": "2024-10-10T09:50:40.435985Z",
     "start_time": "2024-10-10T09:50:40.142940Z"
    }
   },
   "cell_type": "code",
   "source": [
    "if CONFIG.debug:\n",
    "    sample_x, sample_y = next(iter(bigram_train_loader))\n",
    "    sample_x, sample_y = sample_x.to(CONFIG.device), sample_y.to(CONFIG.device)\n",
    "    loss = bigram.loss(sample_x, sample_y)\n",
    "    print(loss)\n",
    "    print(bigram.generate(sample_x, max_new_tokens=100))"
   ],
   "id": "3e28b37a0b266966",
   "outputs": [
    {
     "name": "stdout",
     "output_type": "stream",
     "text": [
      "tensor(4.3037, device='cuda:0', grad_fn=<NllLossBackward0>)\n",
      "Z?gyoomabCCE:n$iYn!rd!a;sjFu$wou y:GxZKyNaMl;q!arD.N3fcSZZ;uE\n",
      "q.dN?I"
     ]
    }
   ],
   "execution_count": 21
  },
  {
   "metadata": {},
   "cell_type": "markdown",
   "source": "## Transformer",
   "id": "bf0d9ba50b231237"
  },
  {
   "metadata": {
    "ExecuteTime": {
     "end_time": "2024-10-10T09:50:40.440801Z",
     "start_time": "2024-10-10T09:50:40.436850Z"
    }
   },
   "cell_type": "code",
   "source": [
    "class CausalSelfAttention(nn.Module):\n",
    "    def __init__(self, d_embed: int, n_heads: int):\n",
    "        super().__init__()\n",
    "        self.d_embed = d_embed\n",
    "        self.n_heads = n_heads\n",
    "        \n",
    "        self.query = nn.Linear(self.d_embed, self.n_heads * self.d_head, bias=False)\n",
    "        self.key = nn.Linear(self.d_embed, self.n_heads * self.d_head, bias=False)\n",
    "        self.value = nn.Linear(self.d_embed, self.n_heads * self.d_head, bias=False)\n",
    "        self.out = nn.Linear(self.n_heads * self.d_head, self.d_embed, bias=False)\n",
    "        \n",
    "    def forward(self, x):  # [batch_size, context_size, d_embed]\n",
    "        batch_size, context_size, _ = x.size()\n",
    "        q = self.query(x).view(batch_size, context_size, self.n_heads, self.d_head)  # [batch_size, context_size, n_heads, d_head]\n",
    "        k = self.key(x).view(batch_size, context_size, self.n_heads, self.d_head)  # [batch_size, context_size, n_heads, d_head]\n",
    "        v = self.value(x).view(batch_size, context_size, self.n_heads, self.d_head)  # [batch_size, context_size, n_heads, d_head]\n",
    "        q = q.transpose(1, 2)  # [batch_size, n_heads, context_size, d_head]\n",
    "        k = k.transpose(1, 2)  # [batch_size, n_heads, context_size, d_head]\n",
    "        v = v.transpose(1, 2)  # [batch_size, n_heads, context_size, d_head]\n",
    "        \n",
    "        # Masked Self Attention\n",
    "        mask = torch.triu(torch.ones(context_size, context_size, device=x.device), diagonal=1).bool()  # [context_size, context_size]\n",
    "        mask = mask.view(1, 1, context_size, context_size)  # [1, 1, context_size, context_size]\n",
    "        mask = mask.repeat(batch_size, self.n_heads, 1, 1)  # [batch_size, n_heads, context_size, context_size]\n",
    "        \n",
    "        scores = torch.matmul(q, k.transpose(-2, -1)) / (self.d_head ** 0.5)  # [batch_size, n_heads, context_size, context_size]\n",
    "        scores = scores.masked_fill(mask, float('-inf'))  # [batch_size, n_heads, context_size, context_size]\n",
    "        scores = F.softmax(scores, dim=-1)  # [batch_size, n_heads, context_size, context_size]\n",
    "        x = torch.matmul(scores, v)  # [batch_size, n_heads, context_size, d_head]\n",
    "        x = x.transpose(1, 2).contiguous().view(batch_size, context_size, self.n_heads * self.d_head)  # [batch_size, context_size, n_heads * d_head]\n",
    "        x = self.out(x)  # [batch_size, context_size, d_embed]\n",
    "        return x"
   ],
   "id": "e494bcfff1d325db",
   "outputs": [],
   "execution_count": 22
  },
  {
   "metadata": {
    "ExecuteTime": {
     "end_time": "2024-10-10T09:50:40.449656Z",
     "start_time": "2024-10-10T09:50:40.441603Z"
    }
   },
   "cell_type": "code",
   "source": [
    "class MLP(nn.Module):\n",
    "    def __init__(self, d_embed: int, d_ff: int, dropout: float):\n",
    "        super().__init__()\n",
    "        self.d_embed = d_embed\n",
    "        self.d_ff = d_ff\n",
    "        self.dropout = dropout\n",
    "        \n",
    "        self.fc1 = nn.Linear(self.d_embed, self.d_ff, bias=False)\n",
    "        self.fc2 = nn.Linear(self.d_ff, self.d_embed, bias=False)\n",
    "        \n",
    "    def forward(self, x):  # [batch_size, context_size, d_embed]\n",
    "        x = F.gelu(self.fc1(x))  # [batch_size, context_size, d_ff]\n",
    "        x = F.dropout(x, p=self.dropout, training=self.training)\n",
    "        x = self.fc2(x)  # [batch_size, context_size, d_embed]\n",
    "        return x"
   ],
   "id": "6fd8d447487926af",
   "outputs": [],
   "execution_count": 23
  },
  {
   "metadata": {
    "ExecuteTime": {
     "end_time": "2024-10-10T09:50:40.456802Z",
     "start_time": "2024-10-10T09:50:40.450556Z"
    }
   },
   "cell_type": "code",
   "source": [
    "class Decoder(nn.Module):\n",
    "    def __init__(self, n_heads: int, d_embed: int, d_ff: int, dropout: float):\n",
    "        super().__init__()\n",
    "        self.n_heads = n_heads\n",
    "        self.d_embed = d_embed\n",
    "        self.d_ff = d_ff\n",
    "        self.dropout = dropout\n",
    "        \n",
    "        self.attention = CausalSelfAttention(d_embed=self.d_embed, n_heads=self.n_heads)\n",
    "        self.norm1 = nn.LayerNorm(self.d_embed)\n",
    "        \n",
    "        self.mlp = MLP(d_embed=self.d_embed, d_ff=self.d_ff, dropout=self.dropout)\n",
    "        self.norm2 = nn.LayerNorm(self.d_embed)\n",
    "        \n",
    "    def forward(self, x):  # [batch_size, context_size, d_embed]\n",
    "        x = x + self.attention(self.norm1(x))  # [batch_size, context_size, d_embed]\n",
    "        x = x + self.mlp(self.norm2(x))  # [batch_size, context_size, vocab_size]\n",
    "        return x"
   ],
   "id": "cc42bcdf9991bfc8",
   "outputs": [],
   "execution_count": 24
  },
  {
   "metadata": {
    "ExecuteTime": {
     "end_time": "2024-10-10T09:50:40.464309Z",
     "start_time": "2024-10-10T09:50:40.457791Z"
    }
   },
   "cell_type": "code",
   "source": [
    "class Transformer(nn.Module):\n",
    "    def __init__(self, config):\n",
    "        super().__init__()\n",
    "        self.vocab_size = config.vocab_size\n",
    "        self.context_size = config.context_size\n",
    "        self.n_layers = config.n_layers\n",
    "        self.n_heads = config.n_heads\n",
    "        self.d_embed = config.d_embed\n",
    "        self.d_ff = config.d_ff\n",
    "        self.dropout = config.dropout\n",
    "        self.max_new_tokens = config.max_new_tokens\n",
    "        self.temperature = config.temperature\n",
    "        \n",
    "        self.embedding = nn.Embedding(self.vocab_size, self.d_embed)\n",
    "        self.positional_embedding = nn.Embedding(self.context_size, self.d_embed)\n",
    "        self.decoder = nn.ModuleList([Decoder(n_heads=self.n_heads, d_embed=self.d_embed, d_ff=self.d_ff, dropout=self.dropout) for _ in range(self.n_layers)])\n",
    "        self.linear = nn.Linear(self.d_embed, self.vocab_size, bias=False)\n",
    "        \n",
    "    def forward(self, x):  # [batch_size, context_size]\n",
    "        seq_len = x.size(1)\n",
    "        if seq_len < self.context_size:\n",
    "            x = F.pad(x, (0, self.context_size - seq_len), value=0)  # padding token = 0\n",
    "        elif seq_len > self.context_size:\n",
    "            raise ValueError(f\"Input sequence length {seq_len} is greater than the context size {self.context_size}\")\n",
    "\n",
    "        x = self.embedding(x) + self.positional_embedding(torch.arange(seq_len, device=x.device))  # [batch_size, context_size, d_embed]\n",
    "        for decoder in self.decoder:\n",
    "            x = decoder(x)  # [batch_size, context_size, d_embed]\n",
    "        x = self.linear(x)  # [batch_size, context_size, vocab_size]\n",
    "        return x\n",
    "    \n",
    "    def loss(self, x, y):  # y: [batch_size, context_size]\n",
    "        y = y.view(-1)  # [batch_size * context_size]\n",
    "        y_pred = self.forward(x)  # [batch_size, context_size, vocab_size]\n",
    "        y_pred = y_pred.view(-1, self.vocab_size)  # [batch_size * context_size, vocab_size]\n",
    "        return F.cross_entropy(y_pred, y)\n",
    "    \n",
    "    @torch.no_grad()\n",
    "    def generate(self, x, max_new_tokens=None):\n",
    "        self.eval()\n",
    "        if max_new_tokens is None:\n",
    "            max_new_tokens = self.max_new_tokens\n",
    "    \n",
    "        for _ in range(max_new_tokens):  # x: [batch_size, context]\n",
    "            context = x[:, -self.context_size:]  # [batch_size, context_size]\n",
    "            output = self.forward(context)  # [batch_size, context_size, vocab_size]\n",
    "            logits = output[:, -1, :] / self.temperature\n",
    "            next_token = torch.multinomial(F.softmax(logits, dim=-1), num_samples=1).squeeze(-1)  # [batch_size]\n",
    "            x = torch.cat((x, next_token.unsqueeze(-1)), dim=-1)  # [batch_size, context]\n",
    "    \n",
    "            # Decode token\n",
    "            decoded_token = decode([next_token[0].item()])\n",
    "            print(decoded_token, end='', flush=True)\n",
    "                \n",
    "    def get_num_params(self):\n",
    "        return sum(p.numel() for p in self.parameters())"
   ],
   "id": "3f5c148600cd2481",
   "outputs": [],
   "execution_count": 25
  },
  {
   "metadata": {
    "ExecuteTime": {
     "end_time": "2024-10-10T09:50:40.478802Z",
     "start_time": "2024-10-10T09:50:40.465190Z"
    }
   },
   "cell_type": "code",
   "source": [
    "transformer = Transformer(CONFIG).to(CONFIG.device)\n",
    "print(transformer)\n",
    "print(f'Number of parameters: {transformer.get_num_params()}')"
   ],
   "id": "fcccf6690af610b2",
   "outputs": [
    {
     "name": "stdout",
     "output_type": "stream",
     "text": [
      "Transformer(\n",
      "  (embedding): Embedding(65, 64)\n",
      "  (positional_embedding): Embedding(32, 64)\n",
      "  (decoder): ModuleList(\n",
      "    (0-5): 6 x Decoder(\n",
      "      (attention): CausalSelfAttention(\n",
      "        (query): Linear(in_features=64, out_features=64, bias=False)\n",
      "        (key): Linear(in_features=64, out_features=64, bias=False)\n",
      "        (value): Linear(in_features=64, out_features=64, bias=False)\n",
      "        (out): Linear(in_features=64, out_features=64, bias=False)\n",
      "      )\n",
      "      (norm1): LayerNorm((64,), eps=1e-05, elementwise_affine=True)\n",
      "      (mlp): MLP(\n",
      "        (fc1): Linear(in_features=64, out_features=256, bias=False)\n",
      "        (fc2): Linear(in_features=256, out_features=64, bias=False)\n",
      "      )\n",
      "      (norm2): LayerNorm((64,), eps=1e-05, elementwise_affine=True)\n",
      "    )\n",
      "  )\n",
      "  (linear): Linear(in_features=64, out_features=65, bias=False)\n",
      ")\n",
      "Number of parameters: 306816\n"
     ]
    }
   ],
   "execution_count": 26
  },
  {
   "metadata": {
    "ExecuteTime": {
     "end_time": "2024-10-10T09:50:41.423683Z",
     "start_time": "2024-10-10T09:50:40.479635Z"
    }
   },
   "cell_type": "code",
   "source": [
    "if CONFIG.debug:\n",
    "    sample_x, sample_y = next(iter(train_loader))\n",
    "    sample_x, sample_y = sample_x.to(CONFIG.device), sample_y.to(CONFIG.device)\n",
    "    loss = transformer.loss(sample_x, sample_y)\n",
    "    print(loss)\n",
    "    print(transformer.generate(sample_x, max_new_tokens=100, decode_fn=decode))"
   ],
   "id": "50b754a1e3dc501e",
   "outputs": [
    {
     "name": "stdout",
     "output_type": "stream",
     "text": [
      "tensor(4.5997, device='cuda:0', grad_fn=<NllLossBackward0>)\n",
      "SnHCPHOTkTMAbBvp\n",
      "bwR HKmTpqH3!3pjCJRpAKedNhbeT.knpR;OKrO!A;:eKwlbsNg"
     ]
    }
   ],
   "execution_count": 27
  },
  {
   "metadata": {},
   "cell_type": "markdown",
   "source": "# Training",
   "id": "9152c0417c1460c0"
  },
  {
   "metadata": {
    "ExecuteTime": {
     "end_time": "2024-10-10T09:50:41.428942Z",
     "start_time": "2024-10-10T09:50:41.425425Z"
    }
   },
   "cell_type": "code",
   "source": [
    "def train(model, train_loader, validation_loader):\n",
    "    #criterion = nn.CrossEntropyLoss()\n",
    "    optimizer = optim.AdamW(model.parameters(), lr=CONFIG.learning_rate)\n",
    "    \n",
    "    train_loss = []\n",
    "    validation_loss = []\n",
    "    \n",
    "    for epoch in range(CONFIG.epochs):\n",
    "        model.train()\n",
    "        running_loss = 0.0\n",
    "        for x, y in tqdm(train_loader, desc=f'Epoch {epoch + 1}/{CONFIG.epochs}'):\n",
    "            x, y = x.to(CONFIG.device), y.to(CONFIG.device)\n",
    "            optimizer.zero_grad()\n",
    "            loss = model.loss(x, y)\n",
    "            loss.backward()\n",
    "            optimizer.step()\n",
    "            running_loss += loss.item()\n",
    "        \n",
    "        train_loss.append(running_loss / len(train_loader))\n",
    "        print(f'Training Loss: {running_loss / len(train_loader)}')\n",
    "        \n",
    "        model.eval()\n",
    "        running_loss = 0.0\n",
    "        with torch.no_grad():\n",
    "            for x, y in validation_loader:\n",
    "                x, y = x.to(CONFIG.device), y.to(CONFIG.device)\n",
    "                loss = model.loss(x, y)\n",
    "                running_loss += loss.item()\n",
    "                \n",
    "        validation_loss.append(running_loss / len(validation_loader))\n",
    "        print(f'Validation Loss: {running_loss / len(validation_loader)}')\n",
    "        \n",
    "    plt.plot(train_loss, label='Training Loss')\n",
    "    plt.plot(validation_loss, label='Validation Loss')\n",
    "    plt.xlabel('Epochs')\n",
    "    plt.ylabel('Loss')\n",
    "    plt.legend()\n",
    "    plt.show()"
   ],
   "id": "d6d9a89eb674e287",
   "outputs": [],
   "execution_count": 28
  },
  {
   "metadata": {
    "ExecuteTime": {
     "end_time": "2024-10-10T09:51:34.512426Z",
     "start_time": "2024-10-10T09:50:41.429767Z"
    }
   },
   "cell_type": "code",
   "source": "train(model=bigram, train_loader=bigram_train_loader, validation_loader=bigram_validation_loader)",
   "id": "80f4e3fe21dc0a9f",
   "outputs": [
    {
     "name": "stderr",
     "output_type": "stream",
     "text": [
      "Epoch 1/10: 100%|██████████| 436/436 [00:04<00:00, 108.70it/s]\n"
     ]
    },
    {
     "name": "stdout",
     "output_type": "stream",
     "text": [
      "Training Loss: 4.197920065407359\n",
      "Validation Loss: 4.099835207702917\n"
     ]
    },
    {
     "name": "stderr",
     "output_type": "stream",
     "text": [
      "Epoch 2/10: 100%|██████████| 436/436 [00:04<00:00, 102.69it/s]\n"
     ]
    },
    {
     "name": "stdout",
     "output_type": "stream",
     "text": [
      "Training Loss: 4.00434645217493\n",
      "Validation Loss: 3.9202647384153595\n"
     ]
    },
    {
     "name": "stderr",
     "output_type": "stream",
     "text": [
      "Epoch 3/10: 100%|██████████| 436/436 [00:04<00:00, 97.93it/s] \n"
     ]
    },
    {
     "name": "stdout",
     "output_type": "stream",
     "text": [
      "Training Loss: 3.830253151031809\n",
      "Validation Loss: 3.75852649583729\n"
     ]
    },
    {
     "name": "stderr",
     "output_type": "stream",
     "text": [
      "Epoch 4/10: 100%|██████████| 436/436 [00:04<00:00, 96.20it/s] \n"
     ]
    },
    {
     "name": "stdout",
     "output_type": "stream",
     "text": [
      "Training Loss: 3.6731392095942015\n",
      "Validation Loss: 3.612837664577939\n"
     ]
    },
    {
     "name": "stderr",
     "output_type": "stream",
     "text": [
      "Epoch 5/10: 100%|██████████| 436/436 [00:04<00:00, 97.30it/s] \n"
     ]
    },
    {
     "name": "stdout",
     "output_type": "stream",
     "text": [
      "Training Loss: 3.531819583079137\n",
      "Validation Loss: 3.4820955149624324\n"
     ]
    },
    {
     "name": "stderr",
     "output_type": "stream",
     "text": [
      "Epoch 6/10: 100%|██████████| 436/436 [00:04<00:00, 101.66it/s]\n"
     ]
    },
    {
     "name": "stdout",
     "output_type": "stream",
     "text": [
      "Training Loss: 3.405359058205141\n",
      "Validation Loss: 3.365322119599089\n"
     ]
    },
    {
     "name": "stderr",
     "output_type": "stream",
     "text": [
      "Epoch 7/10: 100%|██████████| 436/436 [00:04<00:00, 103.10it/s]\n"
     ]
    },
    {
     "name": "stdout",
     "output_type": "stream",
     "text": [
      "Training Loss: 3.2927270077784128\n",
      "Validation Loss: 3.261426350392333\n"
     ]
    },
    {
     "name": "stderr",
     "output_type": "stream",
     "text": [
      "Epoch 8/10: 100%|██████████| 436/436 [00:04<00:00, 102.05it/s]\n"
     ]
    },
    {
     "name": "stdout",
     "output_type": "stream",
     "text": [
      "Training Loss: 3.1929058257592926\n",
      "Validation Loss: 3.1694723072401976\n"
     ]
    },
    {
     "name": "stderr",
     "output_type": "stream",
     "text": [
      "Epoch 9/10: 100%|██████████| 436/436 [00:04<00:00, 103.57it/s]\n"
     ]
    },
    {
     "name": "stdout",
     "output_type": "stream",
     "text": [
      "Training Loss: 3.1048575705344525\n",
      "Validation Loss: 3.088511685712622\n"
     ]
    },
    {
     "name": "stderr",
     "output_type": "stream",
     "text": [
      "Epoch 10/10: 100%|██████████| 436/436 [00:04<00:00, 97.16it/s] \n"
     ]
    },
    {
     "name": "stdout",
     "output_type": "stream",
     "text": [
      "Training Loss: 3.0275271239630674\n",
      "Validation Loss: 3.0175624746795093\n"
     ]
    },
    {
     "data": {
      "text/plain": [
       "<Figure size 640x480 with 1 Axes>"
      ],
      "image/png": "[encoded data removed]"
     },
     "metadata": {},
     "output_type": "display_data"
    }
   ],
   "execution_count": 29
  },
  {
   "metadata": {
    "ExecuteTime": {
     "end_time": "2024-10-10T09:55:29.788086Z",
     "start_time": "2024-10-10T09:51:34.513371Z"
    }
   },
   "cell_type": "code",
   "source": "train(model=transformer, train_loader=train_loader, validation_loader=validation_loader)",
   "id": "ce3de26b6159e2b3",
   "outputs": [
    {
     "name": "stderr",
     "output_type": "stream",
     "text": [
      "Epoch 1/10: 100%|██████████| 436/436 [00:21<00:00, 20.64it/s]\n"
     ]
    },
    {
     "name": "stdout",
     "output_type": "stream",
     "text": [
      "Training Loss: 3.5756569630509123\n",
      "Validation Loss: 3.089278304248775\n"
     ]
    },
    {
     "name": "stderr",
     "output_type": "stream",
     "text": [
      "Epoch 2/10: 100%|██████████| 436/436 [00:21<00:00, 20.32it/s]\n"
     ]
    },
    {
     "name": "stdout",
     "output_type": "stream",
     "text": [
      "Training Loss: 2.9052412766929065\n",
      "Validation Loss: 2.7995630010552364\n"
     ]
    },
    {
     "name": "stderr",
     "output_type": "stream",
     "text": [
      "Epoch 3/10: 100%|██████████| 436/436 [00:21<00:00, 20.22it/s]\n"
     ]
    },
    {
     "name": "stdout",
     "output_type": "stream",
     "text": [
      "Training Loss: 2.700560010354453\n",
      "Validation Loss: 2.65087714982689\n"
     ]
    },
    {
     "name": "stderr",
     "output_type": "stream",
     "text": [
      "Epoch 4/10: 100%|██████████| 436/436 [00:21<00:00, 20.11it/s]\n"
     ]
    },
    {
     "name": "stdout",
     "output_type": "stream",
     "text": [
      "Training Loss: 2.586533133589893\n",
      "Validation Loss: 2.5576052971936147\n"
     ]
    },
    {
     "name": "stderr",
     "output_type": "stream",
     "text": [
      "Epoch 5/10: 100%|██████████| 436/436 [00:21<00:00, 20.49it/s]\n"
     ]
    },
    {
     "name": "stdout",
     "output_type": "stream",
     "text": [
      "Training Loss: 2.5091456420924687\n",
      "Validation Loss: 2.4851029903516855\n"
     ]
    },
    {
     "name": "stderr",
     "output_type": "stream",
     "text": [
      "Epoch 6/10: 100%|██████████| 436/436 [00:21<00:00, 20.16it/s]\n"
     ]
    },
    {
     "name": "stdout",
     "output_type": "stream",
     "text": [
      "Training Loss: 2.4431289625824046\n",
      "Validation Loss: 2.4227150317725785\n"
     ]
    },
    {
     "name": "stderr",
     "output_type": "stream",
     "text": [
      "Epoch 7/10: 100%|██████████| 436/436 [00:21<00:00, 20.34it/s]\n"
     ]
    },
    {
     "name": "stdout",
     "output_type": "stream",
     "text": [
      "Training Loss: 2.383591123677175\n",
      "Validation Loss: 2.368678773215058\n"
     ]
    },
    {
     "name": "stderr",
     "output_type": "stream",
     "text": [
      "Epoch 8/10: 100%|██████████| 436/436 [00:21<00:00, 20.42it/s]\n"
     ]
    },
    {
     "name": "stdout",
     "output_type": "stream",
     "text": [
      "Training Loss: 2.332583759902814\n",
      "Validation Loss: 2.3221422794762008\n"
     ]
    },
    {
     "name": "stderr",
     "output_type": "stream",
     "text": [
      "Epoch 9/10: 100%|██████████| 436/436 [00:21<00:00, 20.35it/s]\n"
     ]
    },
    {
     "name": "stdout",
     "output_type": "stream",
     "text": [
      "Training Loss: 2.2885003532838386\n",
      "Validation Loss: 2.2808492992996077\n"
     ]
    },
    {
     "name": "stderr",
     "output_type": "stream",
     "text": [
      "Epoch 10/10: 100%|██████████| 436/436 [00:21<00:00, 20.46it/s]\n"
     ]
    },
    {
     "name": "stdout",
     "output_type": "stream",
     "text": [
      "Training Loss: 2.245427009162553\n",
      "Validation Loss: 2.2364355599114654\n"
     ]
    },
    {
     "data": {
      "text/plain": [
       "<Figure size 640x480 with 1 Axes>"
      ],
      "image/png": "[encoded data removed]"
     },
     "metadata": {},
     "output_type": "display_data"
    }
   ],
   "execution_count": 30
  },
  {
   "metadata": {},
   "cell_type": "markdown",
   "source": "# Inference",
   "id": "173c87147a8f93ff"
  },
  {
   "metadata": {
    "ExecuteTime": {
     "end_time": "2024-10-10T09:55:29.871672Z",
     "start_time": "2024-10-10T09:55:29.788973Z"
    }
   },
   "cell_type": "code",
   "source": [
    "prompt = \"To be or not to be\"\n",
    "bigram.generate(prompt, max_new_tokens=100)"
   ],
   "id": "f30dfa6a6cf77f89",
   "outputs": [
    {
     "name": "stdout",
     "output_type": "stream",
     "text": [
      "vaRUgUGz;\n",
      "B$Scamju t IbeVindt,thgytheaYrI?jTu\n",
      "THyorhXjue blfbWEA\n",
      " er"
     ]
    }
   ],
   "execution_count": 31
  },
  {
   "metadata": {
    "ExecuteTime": {
     "end_time": "2024-10-10T09:55:43.165100Z",
     "start_time": "2024-10-10T09:55:29.872751Z"
    }
   },
   "cell_type": "code",
   "source": [
    "prompt = \"To be or not to be\"\n",
    "transformer.generate(prompt)"
   ],
   "id": "111eccac3adaccfb",
   "outputs": [
    {
     "name": "stdout",
     "output_type": "stream",
     "text": [
      "r my dioustt\n",
      "Tharous rand, avigur hily ondig haye,\n",
      "Whist sow, dillurs my-se nord.\n",
      "Sis, oper, noovam:\n",
      "Venor the yor,\n",
      "Tho 'me four memy whow: lith heack the ton fongtce.\n",
      "\n",
      "WANG YMETo oo therdrte, I thed tereand bath'd vererm\n",
      "An to his ron wrwin bu tomamsts aleng dugend,\n",
      "Ther un shey ly me ucas, crast,\n",
      "Ut mjoulous, mangmat me dee haits eays mont fe wow\n",
      "Re maug noin math't mousp mord swens\n",
      "Asre at lite frath prourter ime leat.\n",
      "\n",
      "ARDUSMOLIUCULOF my dicereastin.\n",
      "E:\n",
      "\n",
      "Falll song was; perering to an.\n",
      "\n",
      "Yato Jitik,\n",
      "HARIBRD\n",
      "BUCOUD:\n",
      "I nomy poughot deack hiy yof angents,\n",
      "Ane\n",
      "And bund I alt thoe lis yolf muar bucnchard\n",
      "Hirs lop mow bed tout ick wiRir sof ronche;\n",
      "As grot wbrecelitat kiour eng aver.\n",
      "Goud baverootisst;\n",
      "HYoaks an an a froke ged\n",
      "Sioll I:\n",
      "Ththon er roomabemb bror the thagaze dum, ve, in'cand hamber ve deneaig feder't\n",
      "An, I\n",
      "TIIe gors nof wrown But.\n",
      "\n",
      "Cerute her RIUSTHet am?\n",
      "ANC\n",
      "BEONTEUS:\n",
      "Go yohe, wharve now, crimy hur is ined! sou bair!\n",
      "Lie:\n",
      "Hay mallve crat fand"
     ]
    }
   ],
   "execution_count": 32
  }
 ],
 "metadata": {
  "kernelspec": {
   "display_name": "Python 3",
   "language": "python",
   "name": "python3"
  },
  "language_info": {
   "codemirror_mode": {
    "name": "ipython",
    "version": 2
   },
   "file_extension": ".py",
   "mimetype": "text/x-python",
   "name": "python",
   "nbconvert_exporter": "python",
   "pygments_lexer": "ipython2",
   "version": "2.7.6"
  }
 },
 "nbformat": 4,
 "nbformat_minor": 5
}
